{
  "cells": [
    {
      "cell_type": "markdown",
      "metadata": {
        "id": "k6tIVMpFxzHe"
      },
      "source": [
        "This notebook was run on google colab (T4 GPU).\n",
        "\n",
        "All processed files are available in the repository. Commented-out code has been left as-is for reference.\n",
        "\n",
        "Code for llm summarization was run on the snellius cluster (A100 GPU), due to limited compute on colab. Please refer to the python scripts and jobscripts in the repo."
      ]
    },
    {
      "cell_type": "markdown",
      "metadata": {
        "id": "66onmDD_9JxR"
      },
      "source": [
        "# LLM tests on jupyter.snellius.surf.nl (2022) and slurm job"
      ]
    },
    {
      "cell_type": "markdown",
      "source": [
        "testing on colab vs on snellius"
      ],
      "metadata": {
        "id": "-Vj8HHC3-GqZ"
      }
    },
    {
      "cell_type": "code",
      "execution_count": 104,
      "metadata": {
        "id": "ZxUP6K1V9JxS"
      },
      "outputs": [],
      "source": [
        "## Test quantization (works on google colab), but jupyter.snellius.surf.nl gives some torch error; if submitted as snellius job on SLURM we get some importerror of bnb not in transformers (couldnt resolve it)\n",
        "## Same errors with deepseek-r1-0528-qwen-3-8b, quantization doesnt work & reasoning takes too long\n",
        "## Hit 2 day wallclock time on snellius, so pivoted into another model: llama-3.1-8B-instruct\n",
        "## No 'reasoning' model, no RL (SL instead), no MoE — but llama does have long context, multilingual (non dutch) training, and instruct specific tuned (saving manual parameter tuning/prompt eng)\n",
        "# #!pip install transformers\n",
        "# from transformers import pipeline, BitsAndBytesConfig\n",
        "\n",
        "# model_id = \"meta-llama/Meta-Llama-3.1-8B-Instruct\"\n",
        "\n",
        "# quantization_config = BitsAndBytesConfig(load_in_4bit=True)\n",
        "\n",
        "# pipe = pipeline(\n",
        "#     \"text-generation\",\n",
        "#     model=model_id,\n",
        "#     model_kwargs={\n",
        "#         \"torch_dtype\": torch.bfloat16,\n",
        "#         \"quantization_config\": quantization_config,\n",
        "#         \"device_map\": \"auto\"\n",
        "#     }\n",
        "# )\n",
        "\n",
        "# messages = [\n",
        "#     {\"role\": \"user\", \"content\": \"Who are you? Please, answer in pirate-speak.\"},\n",
        "# ]\n",
        "# outputs = pipe(\n",
        "#     messages,\n",
        "#     max_new_tokens=256,\n",
        "#     do_sample=False,\n",
        "# )\n",
        "# assistant_response = outputs[0][\"generated_text\"][-1][\"content\"]\n",
        "# print(assistant_response)\n",
        "# # Arrrr, me hearty! Yer lookin' fer a bit o' information about meself, eh? Alright then, matey! I be a language-generatin' swashbuckler, a digital buccaneer with a penchant fer spinnin' words into gold doubloons o' knowledge! Me name be... (dramatic pause)...Assistant! Aye, that be me name, and I be here to help ye navigate the seven seas o' questions and find the hidden treasure o' answers! So hoist the sails and set course fer adventure, me hearty! What be yer first question?\n"
      ]
    },
    {
      "cell_type": "code",
      "execution_count": 105,
      "metadata": {
        "id": "9DP4Famn9JxV"
      },
      "outputs": [],
      "source": [
        "# #!pip install --upgrade transformers accelerate  #DeepSeek needs latest transformer version (ColBERT/RAGatouille requires another version)\n",
        "# #!pip install 'transformers[torch]'\n",
        "# import torch\n",
        "# print(torch.__version__)\n",
        "\n",
        "# from transformers import AutoTokenizer, AutoModelForCausalLM, AutoModel\n",
        "\n",
        "# # Load the model and tokenizer in 4-bit mode on GPU\n",
        "# model_id = \"deepseek-ai/DeepSeek-R1-0528-Qwen3-8B\"\n",
        "# tokenizer = AutoTokenizer.from_pretrained(model_id, padding_side=\"left\") # Left padding to continue generation\n",
        "\n",
        "# model = AutoModel.from_pretrained(\n",
        "#     model_id,\n",
        "#     load_in_4bit=True,     # 4-bit quantization\n",
        "#     device_map=\"auto\"      # auto-assign layers to GPUs\n",
        "# )\n",
        "# model.eval()"
      ]
    },
    {
      "cell_type": "code",
      "execution_count": 106,
      "metadata": {
        "id": "CFnxWcAj9JxV"
      },
      "outputs": [],
      "source": [
        "# # Generation test example\n",
        "# model_inputs = tokenizer([\"A list of colors: red, blue\"], return_tensors=\"pt\").to(\"cuda\")\n",
        "# generated_ids = model.generate(**model_inputs)\n",
        "# tokenizer.batch_decode(generated_ids, skip_special_tokens=True)[0]\n"
      ]
    },
    {
      "cell_type": "code",
      "execution_count": 107,
      "metadata": {
        "id": "Rq6lIl7r9JxX"
      },
      "outputs": [],
      "source": [
        "# # !python -m ipykernel install --user --name=venv\n",
        "\n",
        "# import sys\n",
        "# print(sys.executable)"
      ]
    },
    {
      "cell_type": "code",
      "execution_count": 108,
      "metadata": {
        "id": "Md6vZCcb9JxX"
      },
      "outputs": [],
      "source": [
        "# # TODO some way to remove the deepseek <think>\n",
        "# def summarize_columns(model, tokenizer, df):\n",
        "#     \"\"\"Generate a description for each column and an overall schema summary.\"\"\"\n",
        "#     cols = list(df.columns)\n",
        "#     # Optionally provide full schema context\n",
        "#     schema_str = \", \".join(cols)\n",
        "#     col_summaries = []\n",
        "#     for col in cols:\n",
        "#         prompt = f\"The table has columns [{schema_str}]. Omschrijf de betekenis van het kolom '{col}' in simpele termen in het Nederlands. Onderscheid je denkstappen (chain of thought/mixture of experts) met het eindantwoord door <think> en <endanswer> tags toe te voegen en te antwoorden\"\n",
        "#         inputs = tokenizer(prompt, return_tensors=\"pt\").to(model.device)\n",
        "#         output = model.generate(**inputs, max_new_tokens=50) #output limit\n",
        "#         desc = tokenizer.decode(output[0], skip_special_tokens=True)\n",
        "#         # Extract the part after the prompt to get the generated description\n",
        "#         desc = desc[len(prompt):].strip()\n",
        "#         col_summaries.append(desc)\n",
        "#     # Concatenate all column descriptions into one schema summary\n",
        "#     schema_summary = \" \".join(col_summaries)\n",
        "#     return col_summaries, schema_summary\n",
        "\n",
        "# # Test example on pandas df\n",
        "# import pandas as pd\n",
        "# df = pd.DataFrame({\n",
        "#     \"GemiddeldePrijs\": [100, 200],\n",
        "#     \"AantalProducten\": [5, 3],\n",
        "#     \"BestelDatum\": [\"2023-01-10\", \"2023-02-15\"]\n",
        "# })\n",
        "# col_descs, schema_summary = summarize_columns(model, tokenizer, df)\n",
        "# for col, desc in zip(df.columns, col_descs):\n",
        "#     print(f\"{col}: {desc}\")\n",
        "# print(\"Schema summary:\", schema_summary)\n"
      ]
    },
    {
      "cell_type": "markdown",
      "metadata": {
        "id": "pH1uOo0h9JxY"
      },
      "source": [
        "# Load libraries"
      ]
    },
    {
      "cell_type": "code",
      "execution_count": 109,
      "metadata": {
        "colab": {
          "base_uri": "https://localhost:8080/",
          "height": 0
        },
        "id": "9TKNAu0U9JxZ",
        "outputId": "5a00f626-b10a-48ea-8952-312f98708992"
      },
      "outputs": [
        {
          "output_type": "stream",
          "name": "stdout",
          "text": [
            "nvcc: NVIDIA (R) Cuda compiler driver\n",
            "Copyright (c) 2005-2024 NVIDIA Corporation\n",
            "Built on Thu_Jun__6_02:18:23_PDT_2024\n",
            "Cuda compilation tools, release 12.5, V12.5.82\n",
            "Build cuda_12.5.r12.5/compiler.34385749_0\n"
          ]
        }
      ],
      "source": [
        "# Check GPU version, we run on cuda 11.7\n",
        "!nvcc --version"
      ]
    },
    {
      "cell_type": "code",
      "execution_count": 110,
      "metadata": {
        "colab": {
          "base_uri": "https://localhost:8080/",
          "height": 0
        },
        "id": "MYrNmugYmrKq",
        "outputId": "6c70d9e5-a211-4c16-9698-3dd5fc0a571e"
      },
      "outputs": [
        {
          "output_type": "stream",
          "name": "stdout",
          "text": [
            "\u001b[33mWARNING: Ignoring invalid distribution ~ransformers (/usr/local/lib/python3.11/dist-packages)\u001b[0m\u001b[33m\n",
            "\u001b[0mRequirement already satisfied: seaborn in /usr/local/lib/python3.11/dist-packages (0.13.2)\n",
            "Requirement already satisfied: numpy!=1.24.0,>=1.20 in /usr/local/lib/python3.11/dist-packages (from seaborn) (1.26.4)\n",
            "Requirement already satisfied: pandas>=1.2 in /usr/local/lib/python3.11/dist-packages (from seaborn) (2.2.2)\n",
            "Requirement already satisfied: matplotlib!=3.6.1,>=3.4 in /usr/local/lib/python3.11/dist-packages (from seaborn) (3.10.0)\n",
            "Requirement already satisfied: contourpy>=1.0.1 in /usr/local/lib/python3.11/dist-packages (from matplotlib!=3.6.1,>=3.4->seaborn) (1.3.2)\n",
            "Requirement already satisfied: cycler>=0.10 in /usr/local/lib/python3.11/dist-packages (from matplotlib!=3.6.1,>=3.4->seaborn) (0.12.1)\n",
            "Requirement already satisfied: fonttools>=4.22.0 in /usr/local/lib/python3.11/dist-packages (from matplotlib!=3.6.1,>=3.4->seaborn) (4.58.4)\n",
            "Requirement already satisfied: kiwisolver>=1.3.1 in /usr/local/lib/python3.11/dist-packages (from matplotlib!=3.6.1,>=3.4->seaborn) (1.4.8)\n",
            "Requirement already satisfied: packaging>=20.0 in /usr/local/lib/python3.11/dist-packages (from matplotlib!=3.6.1,>=3.4->seaborn) (24.2)\n",
            "Requirement already satisfied: pillow>=8 in /usr/local/lib/python3.11/dist-packages (from matplotlib!=3.6.1,>=3.4->seaborn) (11.2.1)\n",
            "Requirement already satisfied: pyparsing>=2.3.1 in /usr/local/lib/python3.11/dist-packages (from matplotlib!=3.6.1,>=3.4->seaborn) (3.2.3)\n",
            "Requirement already satisfied: python-dateutil>=2.7 in /usr/local/lib/python3.11/dist-packages (from matplotlib!=3.6.1,>=3.4->seaborn) (2.9.0.post0)\n",
            "Requirement already satisfied: pytz>=2020.1 in /usr/local/lib/python3.11/dist-packages (from pandas>=1.2->seaborn) (2025.2)\n",
            "Requirement already satisfied: tzdata>=2022.7 in /usr/local/lib/python3.11/dist-packages (from pandas>=1.2->seaborn) (2025.2)\n",
            "Requirement already satisfied: six>=1.5 in /usr/local/lib/python3.11/dist-packages (from python-dateutil>=2.7->matplotlib!=3.6.1,>=3.4->seaborn) (1.17.0)\n",
            "\u001b[33mWARNING: Ignoring invalid distribution ~ransformers (/usr/local/lib/python3.11/dist-packages)\u001b[0m\u001b[33m\n",
            "\u001b[0m\u001b[33mWARNING: Ignoring invalid distribution ~ransformers (/usr/local/lib/python3.11/dist-packages)\u001b[0m\u001b[33m\n",
            "\u001b[0mRequirement already satisfied: rank_bm25 in /usr/local/lib/python3.11/dist-packages (0.2.2)\n",
            "Requirement already satisfied: numpy in /usr/local/lib/python3.11/dist-packages (from rank_bm25) (1.26.4)\n",
            "\u001b[33mWARNING: Ignoring invalid distribution ~ransformers (/usr/local/lib/python3.11/dist-packages)\u001b[0m\u001b[33m\n",
            "\u001b[0m\u001b[33mWARNING: Ignoring invalid distribution ~ransformers (/usr/local/lib/python3.11/dist-packages)\u001b[0m\u001b[33m\n",
            "\u001b[0mRequirement already satisfied: ragatouille==0.0.9 in /usr/local/lib/python3.11/dist-packages (0.0.9)\n",
            "Requirement already satisfied: llama-index in /usr/local/lib/python3.11/dist-packages (from ragatouille==0.0.9) (0.12.43)\n",
            "Requirement already satisfied: faiss-cpu in /usr/local/lib/python3.11/dist-packages (from ragatouille==0.0.9) (1.11.0)\n",
            "Requirement already satisfied: langchain_core in /usr/local/lib/python3.11/dist-packages (from ragatouille==0.0.9) (0.3.65)\n",
            "Requirement already satisfied: colbert-ai>=0.2.19 in /usr/local/lib/python3.11/dist-packages (from ragatouille==0.0.9) (0.2.21)\n",
            "Requirement already satisfied: langchain in /usr/local/lib/python3.11/dist-packages (from ragatouille==0.0.9) (0.3.25)\n",
            "Requirement already satisfied: onnx in /usr/local/lib/python3.11/dist-packages (from ragatouille==0.0.9) (1.18.0)\n",
            "Requirement already satisfied: srsly in /usr/local/lib/python3.11/dist-packages (from ragatouille==0.0.9) (2.5.1)\n",
            "Requirement already satisfied: voyager in /usr/local/lib/python3.11/dist-packages (from ragatouille==0.0.9) (2.1.0)\n",
            "Requirement already satisfied: torch>=1.13 in /usr/local/lib/python3.11/dist-packages (from ragatouille==0.0.9) (2.6.0+cu124)\n",
            "Requirement already satisfied: fast-pytorch-kmeans in /usr/local/lib/python3.11/dist-packages (from ragatouille==0.0.9) (0.2.2)\n",
            "Requirement already satisfied: sentence-transformers in /usr/local/lib/python3.11/dist-packages (from ragatouille==0.0.9) (4.1.0)\n",
            "Requirement already satisfied: bitarray in /usr/local/lib/python3.11/dist-packages (from colbert-ai>=0.2.19->ragatouille==0.0.9) (3.4.2)\n",
            "Requirement already satisfied: datasets in /usr/local/lib/python3.11/dist-packages (from colbert-ai>=0.2.19->ragatouille==0.0.9) (2.14.4)\n",
            "Requirement already satisfied: flask in /usr/local/lib/python3.11/dist-packages (from colbert-ai>=0.2.19->ragatouille==0.0.9) (3.1.1)\n",
            "Requirement already satisfied: git-python in /usr/local/lib/python3.11/dist-packages (from colbert-ai>=0.2.19->ragatouille==0.0.9) (1.0.3)\n",
            "Requirement already satisfied: python-dotenv in /usr/local/lib/python3.11/dist-packages (from colbert-ai>=0.2.19->ragatouille==0.0.9) (1.1.0)\n",
            "Requirement already satisfied: ninja in /usr/local/lib/python3.11/dist-packages (from colbert-ai>=0.2.19->ragatouille==0.0.9) (1.11.1.4)\n",
            "Requirement already satisfied: scipy in /usr/local/lib/python3.11/dist-packages (from colbert-ai>=0.2.19->ragatouille==0.0.9) (1.15.3)\n",
            "Requirement already satisfied: tqdm in /usr/local/lib/python3.11/dist-packages (from colbert-ai>=0.2.19->ragatouille==0.0.9) (4.67.1)\n",
            "Collecting transformers (from colbert-ai>=0.2.19->ragatouille==0.0.9)\n",
            "  Using cached transformers-4.52.4-py3-none-any.whl.metadata (38 kB)\n",
            "Requirement already satisfied: ujson in /usr/local/lib/python3.11/dist-packages (from colbert-ai>=0.2.19->ragatouille==0.0.9) (5.10.0)\n",
            "Requirement already satisfied: filelock in /usr/local/lib/python3.11/dist-packages (from torch>=1.13->ragatouille==0.0.9) (3.18.0)\n",
            "Requirement already satisfied: typing-extensions>=4.10.0 in /usr/local/lib/python3.11/dist-packages (from torch>=1.13->ragatouille==0.0.9) (4.14.0)\n",
            "Requirement already satisfied: networkx in /usr/local/lib/python3.11/dist-packages (from torch>=1.13->ragatouille==0.0.9) (3.5)\n",
            "Requirement already satisfied: jinja2 in /usr/local/lib/python3.11/dist-packages (from torch>=1.13->ragatouille==0.0.9) (3.1.6)\n",
            "Requirement already satisfied: fsspec in /usr/local/lib/python3.11/dist-packages (from torch>=1.13->ragatouille==0.0.9) (2025.3.2)\n",
            "Requirement already satisfied: nvidia-cuda-nvrtc-cu12==12.4.127 in /usr/local/lib/python3.11/dist-packages (from torch>=1.13->ragatouille==0.0.9) (12.4.127)\n",
            "Requirement already satisfied: nvidia-cuda-runtime-cu12==12.4.127 in /usr/local/lib/python3.11/dist-packages (from torch>=1.13->ragatouille==0.0.9) (12.4.127)\n",
            "Requirement already satisfied: nvidia-cuda-cupti-cu12==12.4.127 in /usr/local/lib/python3.11/dist-packages (from torch>=1.13->ragatouille==0.0.9) (12.4.127)\n",
            "Requirement already satisfied: nvidia-cudnn-cu12==9.1.0.70 in /usr/local/lib/python3.11/dist-packages (from torch>=1.13->ragatouille==0.0.9) (9.1.0.70)\n",
            "Requirement already satisfied: nvidia-cublas-cu12==12.4.5.8 in /usr/local/lib/python3.11/dist-packages (from torch>=1.13->ragatouille==0.0.9) (12.4.5.8)\n",
            "Requirement already satisfied: nvidia-cufft-cu12==11.2.1.3 in /usr/local/lib/python3.11/dist-packages (from torch>=1.13->ragatouille==0.0.9) (11.2.1.3)\n",
            "Requirement already satisfied: nvidia-curand-cu12==10.3.5.147 in /usr/local/lib/python3.11/dist-packages (from torch>=1.13->ragatouille==0.0.9) (10.3.5.147)\n",
            "Requirement already satisfied: nvidia-cusolver-cu12==11.6.1.9 in /usr/local/lib/python3.11/dist-packages (from torch>=1.13->ragatouille==0.0.9) (11.6.1.9)\n",
            "Requirement already satisfied: nvidia-cusparse-cu12==12.3.1.170 in /usr/local/lib/python3.11/dist-packages (from torch>=1.13->ragatouille==0.0.9) (12.3.1.170)\n",
            "Requirement already satisfied: nvidia-cusparselt-cu12==0.6.2 in /usr/local/lib/python3.11/dist-packages (from torch>=1.13->ragatouille==0.0.9) (0.6.2)\n",
            "Requirement already satisfied: nvidia-nccl-cu12==2.21.5 in /usr/local/lib/python3.11/dist-packages (from torch>=1.13->ragatouille==0.0.9) (2.21.5)\n",
            "Requirement already satisfied: nvidia-nvtx-cu12==12.4.127 in /usr/local/lib/python3.11/dist-packages (from torch>=1.13->ragatouille==0.0.9) (12.4.127)\n",
            "Requirement already satisfied: nvidia-nvjitlink-cu12==12.4.127 in /usr/local/lib/python3.11/dist-packages (from torch>=1.13->ragatouille==0.0.9) (12.4.127)\n",
            "Requirement already satisfied: triton==3.2.0 in /usr/local/lib/python3.11/dist-packages (from torch>=1.13->ragatouille==0.0.9) (3.2.0)\n",
            "Requirement already satisfied: sympy==1.13.1 in /usr/local/lib/python3.11/dist-packages (from torch>=1.13->ragatouille==0.0.9) (1.13.1)\n",
            "Requirement already satisfied: mpmath<1.4,>=1.1.0 in /usr/local/lib/python3.11/dist-packages (from sympy==1.13.1->torch>=1.13->ragatouille==0.0.9) (1.3.0)\n",
            "Requirement already satisfied: numpy<3.0,>=1.25.0 in /usr/local/lib/python3.11/dist-packages (from faiss-cpu->ragatouille==0.0.9) (1.26.4)\n",
            "Requirement already satisfied: packaging in /usr/local/lib/python3.11/dist-packages (from faiss-cpu->ragatouille==0.0.9) (24.2)\n",
            "Requirement already satisfied: langchain-text-splitters<1.0.0,>=0.3.8 in /usr/local/lib/python3.11/dist-packages (from langchain->ragatouille==0.0.9) (0.3.8)\n",
            "Requirement already satisfied: langsmith<0.4,>=0.1.17 in /usr/local/lib/python3.11/dist-packages (from langchain->ragatouille==0.0.9) (0.3.45)\n",
            "Requirement already satisfied: pydantic<3.0.0,>=2.7.4 in /usr/local/lib/python3.11/dist-packages (from langchain->ragatouille==0.0.9) (2.11.7)\n",
            "Requirement already satisfied: SQLAlchemy<3,>=1.4 in /usr/local/lib/python3.11/dist-packages (from langchain->ragatouille==0.0.9) (2.0.41)\n",
            "Requirement already satisfied: requests<3,>=2 in /usr/local/lib/python3.11/dist-packages (from langchain->ragatouille==0.0.9) (2.32.3)\n",
            "Requirement already satisfied: PyYAML>=5.3 in /usr/local/lib/python3.11/dist-packages (from langchain->ragatouille==0.0.9) (6.0.2)\n",
            "Requirement already satisfied: tenacity!=8.4.0,<10.0.0,>=8.1.0 in /usr/local/lib/python3.11/dist-packages (from langchain_core->ragatouille==0.0.9) (9.1.2)\n",
            "Requirement already satisfied: jsonpatch<2.0,>=1.33 in /usr/local/lib/python3.11/dist-packages (from langchain_core->ragatouille==0.0.9) (1.33)\n",
            "Requirement already satisfied: llama-index-agent-openai<0.5,>=0.4.0 in /usr/local/lib/python3.11/dist-packages (from llama-index->ragatouille==0.0.9) (0.4.11)\n",
            "Requirement already satisfied: llama-index-cli<0.5,>=0.4.2 in /usr/local/lib/python3.11/dist-packages (from llama-index->ragatouille==0.0.9) (0.4.3)\n",
            "Requirement already satisfied: llama-index-core<0.13,>=0.12.43 in /usr/local/lib/python3.11/dist-packages (from llama-index->ragatouille==0.0.9) (0.12.43)\n",
            "Requirement already satisfied: llama-index-embeddings-openai<0.4,>=0.3.0 in /usr/local/lib/python3.11/dist-packages (from llama-index->ragatouille==0.0.9) (0.3.1)\n",
            "Requirement already satisfied: llama-index-indices-managed-llama-cloud>=0.4.0 in /usr/local/lib/python3.11/dist-packages (from llama-index->ragatouille==0.0.9) (0.7.7)\n",
            "Requirement already satisfied: llama-index-llms-openai<0.5,>=0.4.0 in /usr/local/lib/python3.11/dist-packages (from llama-index->ragatouille==0.0.9) (0.4.7)\n",
            "Requirement already satisfied: llama-index-multi-modal-llms-openai<0.6,>=0.5.0 in /usr/local/lib/python3.11/dist-packages (from llama-index->ragatouille==0.0.9) (0.5.1)\n",
            "Requirement already satisfied: llama-index-program-openai<0.4,>=0.3.0 in /usr/local/lib/python3.11/dist-packages (from llama-index->ragatouille==0.0.9) (0.3.2)\n",
            "Requirement already satisfied: llama-index-question-gen-openai<0.4,>=0.3.0 in /usr/local/lib/python3.11/dist-packages (from llama-index->ragatouille==0.0.9) (0.3.1)\n",
            "Requirement already satisfied: llama-index-readers-file<0.5,>=0.4.0 in /usr/local/lib/python3.11/dist-packages (from llama-index->ragatouille==0.0.9) (0.4.9)\n",
            "Requirement already satisfied: llama-index-readers-llama-parse>=0.4.0 in /usr/local/lib/python3.11/dist-packages (from llama-index->ragatouille==0.0.9) (0.4.0)\n",
            "Requirement already satisfied: nltk>3.8.1 in /usr/local/lib/python3.11/dist-packages (from llama-index->ragatouille==0.0.9) (3.9.1)\n",
            "Requirement already satisfied: protobuf>=4.25.1 in /usr/local/lib/python3.11/dist-packages (from onnx->ragatouille==0.0.9) (5.29.5)\n",
            "Requirement already satisfied: scikit-learn in /usr/local/lib/python3.11/dist-packages (from sentence-transformers->ragatouille==0.0.9) (1.6.1)\n",
            "Requirement already satisfied: huggingface-hub>=0.20.0 in /usr/local/lib/python3.11/dist-packages (from sentence-transformers->ragatouille==0.0.9) (0.33.0)\n",
            "Requirement already satisfied: Pillow in /usr/local/lib/python3.11/dist-packages (from sentence-transformers->ragatouille==0.0.9) (11.2.1)\n",
            "Requirement already satisfied: catalogue<2.1.0,>=2.0.3 in /usr/local/lib/python3.11/dist-packages (from srsly->ragatouille==0.0.9) (2.0.10)\n",
            "Requirement already satisfied: hf-xet<2.0.0,>=1.1.2 in /usr/local/lib/python3.11/dist-packages (from huggingface-hub>=0.20.0->sentence-transformers->ragatouille==0.0.9) (1.1.3)\n",
            "Requirement already satisfied: jsonpointer>=1.9 in /usr/local/lib/python3.11/dist-packages (from jsonpatch<2.0,>=1.33->langchain_core->ragatouille==0.0.9) (3.0.0)\n",
            "Requirement already satisfied: httpx<1,>=0.23.0 in /usr/local/lib/python3.11/dist-packages (from langsmith<0.4,>=0.1.17->langchain->ragatouille==0.0.9) (0.28.1)\n",
            "Requirement already satisfied: orjson<4.0.0,>=3.9.14 in /usr/local/lib/python3.11/dist-packages (from langsmith<0.4,>=0.1.17->langchain->ragatouille==0.0.9) (3.10.18)\n",
            "Requirement already satisfied: requests-toolbelt<2.0.0,>=1.0.0 in /usr/local/lib/python3.11/dist-packages (from langsmith<0.4,>=0.1.17->langchain->ragatouille==0.0.9) (1.0.0)\n",
            "Requirement already satisfied: zstandard<0.24.0,>=0.23.0 in /usr/local/lib/python3.11/dist-packages (from langsmith<0.4,>=0.1.17->langchain->ragatouille==0.0.9) (0.23.0)\n",
            "Requirement already satisfied: openai>=1.14.0 in /usr/local/lib/python3.11/dist-packages (from llama-index-agent-openai<0.5,>=0.4.0->llama-index->ragatouille==0.0.9) (1.86.0)\n",
            "Requirement already satisfied: aiohttp<4,>=3.8.6 in /usr/local/lib/python3.11/dist-packages (from llama-index-core<0.13,>=0.12.43->llama-index->ragatouille==0.0.9) (3.11.15)\n",
            "Requirement already satisfied: aiosqlite in /usr/local/lib/python3.11/dist-packages (from llama-index-core<0.13,>=0.12.43->llama-index->ragatouille==0.0.9) (0.21.0)\n",
            "Requirement already satisfied: banks<3,>=2.0.0 in /usr/local/lib/python3.11/dist-packages (from llama-index-core<0.13,>=0.12.43->llama-index->ragatouille==0.0.9) (2.1.2)\n",
            "Requirement already satisfied: dataclasses-json in /usr/local/lib/python3.11/dist-packages (from llama-index-core<0.13,>=0.12.43->llama-index->ragatouille==0.0.9) (0.6.7)\n",
            "Requirement already satisfied: deprecated>=1.2.9.3 in /usr/local/lib/python3.11/dist-packages (from llama-index-core<0.13,>=0.12.43->llama-index->ragatouille==0.0.9) (1.2.18)\n",
            "Requirement already satisfied: dirtyjson<2,>=1.0.8 in /usr/local/lib/python3.11/dist-packages (from llama-index-core<0.13,>=0.12.43->llama-index->ragatouille==0.0.9) (1.0.8)\n",
            "Requirement already satisfied: filetype<2,>=1.2.0 in /usr/local/lib/python3.11/dist-packages (from llama-index-core<0.13,>=0.12.43->llama-index->ragatouille==0.0.9) (1.2.0)\n",
            "Requirement already satisfied: llama-index-workflows>=0.2.1 in /usr/local/lib/python3.11/dist-packages (from llama-index-core<0.13,>=0.12.43->llama-index->ragatouille==0.0.9) (0.2.2)\n",
            "Requirement already satisfied: nest-asyncio<2,>=1.5.8 in /usr/local/lib/python3.11/dist-packages (from llama-index-core<0.13,>=0.12.43->llama-index->ragatouille==0.0.9) (1.6.0)\n",
            "Requirement already satisfied: setuptools>=80.9.0 in /usr/local/lib/python3.11/dist-packages (from llama-index-core<0.13,>=0.12.43->llama-index->ragatouille==0.0.9) (80.9.0)\n",
            "Requirement already satisfied: tiktoken>=0.7.0 in /usr/local/lib/python3.11/dist-packages (from llama-index-core<0.13,>=0.12.43->llama-index->ragatouille==0.0.9) (0.9.0)\n",
            "Requirement already satisfied: typing-inspect>=0.8.0 in /usr/local/lib/python3.11/dist-packages (from llama-index-core<0.13,>=0.12.43->llama-index->ragatouille==0.0.9) (0.9.0)\n",
            "Requirement already satisfied: wrapt in /usr/local/lib/python3.11/dist-packages (from llama-index-core<0.13,>=0.12.43->llama-index->ragatouille==0.0.9) (1.17.2)\n",
            "Requirement already satisfied: llama-cloud==0.1.26 in /usr/local/lib/python3.11/dist-packages (from llama-index-indices-managed-llama-cloud>=0.4.0->llama-index->ragatouille==0.0.9) (0.1.26)\n",
            "Requirement already satisfied: certifi>=2024.7.4 in /usr/local/lib/python3.11/dist-packages (from llama-cloud==0.1.26->llama-index-indices-managed-llama-cloud>=0.4.0->llama-index->ragatouille==0.0.9) (2025.6.15)\n",
            "Requirement already satisfied: beautifulsoup4<5,>=4.12.3 in /usr/local/lib/python3.11/dist-packages (from llama-index-readers-file<0.5,>=0.4.0->llama-index->ragatouille==0.0.9) (4.13.4)\n",
            "Requirement already satisfied: pandas<2.3.0 in /usr/local/lib/python3.11/dist-packages (from llama-index-readers-file<0.5,>=0.4.0->llama-index->ragatouille==0.0.9) (2.2.2)\n",
            "Requirement already satisfied: pypdf<6,>=5.1.0 in /usr/local/lib/python3.11/dist-packages (from llama-index-readers-file<0.5,>=0.4.0->llama-index->ragatouille==0.0.9) (5.6.1)\n",
            "Requirement already satisfied: striprtf<0.0.27,>=0.0.26 in /usr/local/lib/python3.11/dist-packages (from llama-index-readers-file<0.5,>=0.4.0->llama-index->ragatouille==0.0.9) (0.0.26)\n",
            "Requirement already satisfied: llama-parse>=0.5.0 in /usr/local/lib/python3.11/dist-packages (from llama-index-readers-llama-parse>=0.4.0->llama-index->ragatouille==0.0.9) (0.6.34)\n",
            "Requirement already satisfied: click in /usr/local/lib/python3.11/dist-packages (from nltk>3.8.1->llama-index->ragatouille==0.0.9) (8.2.1)\n",
            "Requirement already satisfied: joblib in /usr/local/lib/python3.11/dist-packages (from nltk>3.8.1->llama-index->ragatouille==0.0.9) (1.5.1)\n",
            "Requirement already satisfied: regex>=2021.8.3 in /usr/local/lib/python3.11/dist-packages (from nltk>3.8.1->llama-index->ragatouille==0.0.9) (2024.11.6)\n",
            "Requirement already satisfied: annotated-types>=0.6.0 in /usr/local/lib/python3.11/dist-packages (from pydantic<3.0.0,>=2.7.4->langchain->ragatouille==0.0.9) (0.7.0)\n",
            "Requirement already satisfied: pydantic-core==2.33.2 in /usr/local/lib/python3.11/dist-packages (from pydantic<3.0.0,>=2.7.4->langchain->ragatouille==0.0.9) (2.33.2)\n",
            "Requirement already satisfied: typing-inspection>=0.4.0 in /usr/local/lib/python3.11/dist-packages (from pydantic<3.0.0,>=2.7.4->langchain->ragatouille==0.0.9) (0.4.1)\n",
            "Requirement already satisfied: charset-normalizer<4,>=2 in /usr/local/lib/python3.11/dist-packages (from requests<3,>=2->langchain->ragatouille==0.0.9) (3.4.2)\n",
            "Requirement already satisfied: idna<4,>=2.5 in /usr/local/lib/python3.11/dist-packages (from requests<3,>=2->langchain->ragatouille==0.0.9) (3.10)\n",
            "Requirement already satisfied: urllib3<3,>=1.21.1 in /usr/local/lib/python3.11/dist-packages (from requests<3,>=2->langchain->ragatouille==0.0.9) (2.4.0)\n",
            "Requirement already satisfied: greenlet>=1 in /usr/local/lib/python3.11/dist-packages (from SQLAlchemy<3,>=1.4->langchain->ragatouille==0.0.9) (3.2.3)\n",
            "Requirement already satisfied: tokenizers<0.22,>=0.21 in /usr/local/lib/python3.11/dist-packages (from transformers->colbert-ai>=0.2.19->ragatouille==0.0.9) (0.21.1)\n",
            "Requirement already satisfied: safetensors>=0.4.3 in /usr/local/lib/python3.11/dist-packages (from transformers->colbert-ai>=0.2.19->ragatouille==0.0.9) (0.5.3)\n",
            "Requirement already satisfied: pyarrow>=8.0.0 in /usr/local/lib/python3.11/dist-packages (from datasets->colbert-ai>=0.2.19->ragatouille==0.0.9) (18.1.0)\n",
            "Requirement already satisfied: dill<0.3.8,>=0.3.0 in /usr/local/lib/python3.11/dist-packages (from datasets->colbert-ai>=0.2.19->ragatouille==0.0.9) (0.3.7)\n",
            "Requirement already satisfied: xxhash in /usr/local/lib/python3.11/dist-packages (from datasets->colbert-ai>=0.2.19->ragatouille==0.0.9) (3.5.0)\n",
            "Requirement already satisfied: multiprocess in /usr/local/lib/python3.11/dist-packages (from datasets->colbert-ai>=0.2.19->ragatouille==0.0.9) (0.70.15)\n",
            "Requirement already satisfied: blinker>=1.9.0 in /usr/local/lib/python3.11/dist-packages (from flask->colbert-ai>=0.2.19->ragatouille==0.0.9) (1.9.0)\n",
            "Requirement already satisfied: itsdangerous>=2.2.0 in /usr/local/lib/python3.11/dist-packages (from flask->colbert-ai>=0.2.19->ragatouille==0.0.9) (2.2.0)\n",
            "Requirement already satisfied: markupsafe>=2.1.1 in /usr/local/lib/python3.11/dist-packages (from flask->colbert-ai>=0.2.19->ragatouille==0.0.9) (3.0.2)\n",
            "Requirement already satisfied: werkzeug>=3.1.0 in /usr/local/lib/python3.11/dist-packages (from flask->colbert-ai>=0.2.19->ragatouille==0.0.9) (3.1.3)\n",
            "Requirement already satisfied: gitpython in /usr/local/lib/python3.11/dist-packages (from git-python->colbert-ai>=0.2.19->ragatouille==0.0.9) (3.1.44)\n",
            "Requirement already satisfied: threadpoolctl>=3.1.0 in /usr/local/lib/python3.11/dist-packages (from scikit-learn->sentence-transformers->ragatouille==0.0.9) (3.6.0)\n",
            "Requirement already satisfied: aiohappyeyeballs>=2.3.0 in /usr/local/lib/python3.11/dist-packages (from aiohttp<4,>=3.8.6->llama-index-core<0.13,>=0.12.43->llama-index->ragatouille==0.0.9) (2.6.1)\n",
            "Requirement already satisfied: aiosignal>=1.1.2 in /usr/local/lib/python3.11/dist-packages (from aiohttp<4,>=3.8.6->llama-index-core<0.13,>=0.12.43->llama-index->ragatouille==0.0.9) (1.3.2)\n",
            "Requirement already satisfied: attrs>=17.3.0 in /usr/local/lib/python3.11/dist-packages (from aiohttp<4,>=3.8.6->llama-index-core<0.13,>=0.12.43->llama-index->ragatouille==0.0.9) (25.3.0)\n",
            "Requirement already satisfied: frozenlist>=1.1.1 in /usr/local/lib/python3.11/dist-packages (from aiohttp<4,>=3.8.6->llama-index-core<0.13,>=0.12.43->llama-index->ragatouille==0.0.9) (1.7.0)\n",
            "Requirement already satisfied: multidict<7.0,>=4.5 in /usr/local/lib/python3.11/dist-packages (from aiohttp<4,>=3.8.6->llama-index-core<0.13,>=0.12.43->llama-index->ragatouille==0.0.9) (6.4.4)\n",
            "Requirement already satisfied: propcache>=0.2.0 in /usr/local/lib/python3.11/dist-packages (from aiohttp<4,>=3.8.6->llama-index-core<0.13,>=0.12.43->llama-index->ragatouille==0.0.9) (0.3.2)\n",
            "Requirement already satisfied: yarl<2.0,>=1.17.0 in /usr/local/lib/python3.11/dist-packages (from aiohttp<4,>=3.8.6->llama-index-core<0.13,>=0.12.43->llama-index->ragatouille==0.0.9) (1.20.1)\n",
            "Requirement already satisfied: griffe in /usr/local/lib/python3.11/dist-packages (from banks<3,>=2.0.0->llama-index-core<0.13,>=0.12.43->llama-index->ragatouille==0.0.9) (1.7.3)\n",
            "Requirement already satisfied: platformdirs in /usr/local/lib/python3.11/dist-packages (from banks<3,>=2.0.0->llama-index-core<0.13,>=0.12.43->llama-index->ragatouille==0.0.9) (4.3.8)\n",
            "Requirement already satisfied: soupsieve>1.2 in /usr/local/lib/python3.11/dist-packages (from beautifulsoup4<5,>=4.12.3->llama-index-readers-file<0.5,>=0.4.0->llama-index->ragatouille==0.0.9) (2.7)\n",
            "Requirement already satisfied: anyio in /usr/local/lib/python3.11/dist-packages (from httpx<1,>=0.23.0->langsmith<0.4,>=0.1.17->langchain->ragatouille==0.0.9) (4.9.0)\n",
            "Requirement already satisfied: httpcore==1.* in /usr/local/lib/python3.11/dist-packages (from httpx<1,>=0.23.0->langsmith<0.4,>=0.1.17->langchain->ragatouille==0.0.9) (1.0.9)\n",
            "Requirement already satisfied: h11>=0.16 in /usr/local/lib/python3.11/dist-packages (from httpcore==1.*->httpx<1,>=0.23.0->langsmith<0.4,>=0.1.17->langchain->ragatouille==0.0.9) (0.16.0)\n",
            "Requirement already satisfied: llama-index-instrumentation>=0.1.0 in /usr/local/lib/python3.11/dist-packages (from llama-index-workflows>=0.2.1->llama-index-core<0.13,>=0.12.43->llama-index->ragatouille==0.0.9) (0.2.0)\n",
            "Requirement already satisfied: llama-cloud-services>=0.6.32 in /usr/local/lib/python3.11/dist-packages (from llama-parse>=0.5.0->llama-index-readers-llama-parse>=0.4.0->llama-index->ragatouille==0.0.9) (0.6.34)\n",
            "Requirement already satisfied: distro<2,>=1.7.0 in /usr/local/lib/python3.11/dist-packages (from openai>=1.14.0->llama-index-agent-openai<0.5,>=0.4.0->llama-index->ragatouille==0.0.9) (1.9.0)\n",
            "Requirement already satisfied: jiter<1,>=0.4.0 in /usr/local/lib/python3.11/dist-packages (from openai>=1.14.0->llama-index-agent-openai<0.5,>=0.4.0->llama-index->ragatouille==0.0.9) (0.10.0)\n",
            "Requirement already satisfied: sniffio in /usr/local/lib/python3.11/dist-packages (from openai>=1.14.0->llama-index-agent-openai<0.5,>=0.4.0->llama-index->ragatouille==0.0.9) (1.3.1)\n",
            "Requirement already satisfied: python-dateutil>=2.8.2 in /usr/local/lib/python3.11/dist-packages (from pandas<2.3.0->llama-index-readers-file<0.5,>=0.4.0->llama-index->ragatouille==0.0.9) (2.9.0.post0)\n",
            "Requirement already satisfied: pytz>=2020.1 in /usr/local/lib/python3.11/dist-packages (from pandas<2.3.0->llama-index-readers-file<0.5,>=0.4.0->llama-index->ragatouille==0.0.9) (2025.2)\n",
            "Requirement already satisfied: tzdata>=2022.7 in /usr/local/lib/python3.11/dist-packages (from pandas<2.3.0->llama-index-readers-file<0.5,>=0.4.0->llama-index->ragatouille==0.0.9) (2025.2)\n",
            "Requirement already satisfied: mypy-extensions>=0.3.0 in /usr/local/lib/python3.11/dist-packages (from typing-inspect>=0.8.0->llama-index-core<0.13,>=0.12.43->llama-index->ragatouille==0.0.9) (1.1.0)\n",
            "Requirement already satisfied: marshmallow<4.0.0,>=3.18.0 in /usr/local/lib/python3.11/dist-packages (from dataclasses-json->llama-index-core<0.13,>=0.12.43->llama-index->ragatouille==0.0.9) (3.26.1)\n",
            "Requirement already satisfied: gitdb<5,>=4.0.1 in /usr/local/lib/python3.11/dist-packages (from gitpython->git-python->colbert-ai>=0.2.19->ragatouille==0.0.9) (4.0.12)\n",
            "Requirement already satisfied: smmap<6,>=3.0.1 in /usr/local/lib/python3.11/dist-packages (from gitdb<5,>=4.0.1->gitpython->git-python->colbert-ai>=0.2.19->ragatouille==0.0.9) (5.0.2)\n",
            "Requirement already satisfied: six>=1.5 in /usr/local/lib/python3.11/dist-packages (from python-dateutil>=2.8.2->pandas<2.3.0->llama-index-readers-file<0.5,>=0.4.0->llama-index->ragatouille==0.0.9) (1.17.0)\n",
            "Requirement already satisfied: colorama>=0.4 in /usr/local/lib/python3.11/dist-packages (from griffe->banks<3,>=2.0.0->llama-index-core<0.13,>=0.12.43->llama-index->ragatouille==0.0.9) (0.4.6)\n",
            "Using cached transformers-4.52.4-py3-none-any.whl (10.5 MB)\n",
            "\u001b[33mWARNING: Ignoring invalid distribution ~ransformers (/usr/local/lib/python3.11/dist-packages)\u001b[0m\u001b[33m\n",
            "\u001b[0mInstalling collected packages: transformers\n",
            "\u001b[33mWARNING: Ignoring invalid distribution ~ransformers (/usr/local/lib/python3.11/dist-packages)\u001b[0m\u001b[33m\n",
            "\u001b[0mSuccessfully installed transformers\n",
            "\u001b[33mWARNING: Ignoring invalid distribution ~ransformers (/usr/local/lib/python3.11/dist-packages)\u001b[0m\u001b[33m\n",
            "\u001b[0mCollecting transformers==4.49.0\n",
            "  Using cached transformers-4.49.0-py3-none-any.whl.metadata (44 kB)\n",
            "Requirement already satisfied: filelock in /usr/local/lib/python3.11/dist-packages (from transformers==4.49.0) (3.18.0)\n",
            "Requirement already satisfied: huggingface-hub<1.0,>=0.26.0 in /usr/local/lib/python3.11/dist-packages (from transformers==4.49.0) (0.33.0)\n",
            "Requirement already satisfied: numpy>=1.17 in /usr/local/lib/python3.11/dist-packages (from transformers==4.49.0) (1.26.4)\n",
            "Requirement already satisfied: packaging>=20.0 in /usr/local/lib/python3.11/dist-packages (from transformers==4.49.0) (24.2)\n",
            "Requirement already satisfied: pyyaml>=5.1 in /usr/local/lib/python3.11/dist-packages (from transformers==4.49.0) (6.0.2)\n",
            "Requirement already satisfied: regex!=2019.12.17 in /usr/local/lib/python3.11/dist-packages (from transformers==4.49.0) (2024.11.6)\n",
            "Requirement already satisfied: requests in /usr/local/lib/python3.11/dist-packages (from transformers==4.49.0) (2.32.3)\n",
            "Requirement already satisfied: tokenizers<0.22,>=0.21 in /usr/local/lib/python3.11/dist-packages (from transformers==4.49.0) (0.21.1)\n",
            "Requirement already satisfied: safetensors>=0.4.1 in /usr/local/lib/python3.11/dist-packages (from transformers==4.49.0) (0.5.3)\n",
            "Requirement already satisfied: tqdm>=4.27 in /usr/local/lib/python3.11/dist-packages (from transformers==4.49.0) (4.67.1)\n",
            "Requirement already satisfied: fsspec>=2023.5.0 in /usr/local/lib/python3.11/dist-packages (from huggingface-hub<1.0,>=0.26.0->transformers==4.49.0) (2025.3.2)\n",
            "Requirement already satisfied: typing-extensions>=3.7.4.3 in /usr/local/lib/python3.11/dist-packages (from huggingface-hub<1.0,>=0.26.0->transformers==4.49.0) (4.14.0)\n",
            "Requirement already satisfied: hf-xet<2.0.0,>=1.1.2 in /usr/local/lib/python3.11/dist-packages (from huggingface-hub<1.0,>=0.26.0->transformers==4.49.0) (1.1.3)\n",
            "Requirement already satisfied: charset-normalizer<4,>=2 in /usr/local/lib/python3.11/dist-packages (from requests->transformers==4.49.0) (3.4.2)\n",
            "Requirement already satisfied: idna<4,>=2.5 in /usr/local/lib/python3.11/dist-packages (from requests->transformers==4.49.0) (3.10)\n",
            "Requirement already satisfied: urllib3<3,>=1.21.1 in /usr/local/lib/python3.11/dist-packages (from requests->transformers==4.49.0) (2.4.0)\n",
            "Requirement already satisfied: certifi>=2017.4.17 in /usr/local/lib/python3.11/dist-packages (from requests->transformers==4.49.0) (2025.6.15)\n",
            "Using cached transformers-4.49.0-py3-none-any.whl (10.0 MB)\n",
            "\u001b[33mWARNING: Ignoring invalid distribution ~ransformers (/usr/local/lib/python3.11/dist-packages)\u001b[0m\u001b[33m\n",
            "\u001b[0mInstalling collected packages: transformers\n",
            "\u001b[33mWARNING: Ignoring invalid distribution ~ransformers (/usr/local/lib/python3.11/dist-packages)\u001b[0m\u001b[33m\n",
            "\u001b[0mSuccessfully installed transformers\n",
            "\u001b[33mWARNING: Ignoring invalid distribution ~ransformers (/usr/local/lib/python3.11/dist-packages)\u001b[0m\u001b[33m\n",
            "\u001b[0mRequirement already satisfied: faiss-gpu-cu12 in /usr/local/lib/python3.11/dist-packages (1.11.0)\n",
            "Requirement already satisfied: numpy<2 in /usr/local/lib/python3.11/dist-packages (from faiss-gpu-cu12) (1.26.4)\n",
            "Requirement already satisfied: packaging in /usr/local/lib/python3.11/dist-packages (from faiss-gpu-cu12) (24.2)\n",
            "Requirement already satisfied: nvidia-cuda-runtime-cu12>=12.1.105 in /usr/local/lib/python3.11/dist-packages (from faiss-gpu-cu12) (12.4.127)\n",
            "Requirement already satisfied: nvidia-cublas-cu12>=12.1.3.1 in /usr/local/lib/python3.11/dist-packages (from faiss-gpu-cu12) (12.4.5.8)\n",
            "\u001b[33mWARNING: Ignoring invalid distribution ~ransformers (/usr/local/lib/python3.11/dist-packages)\u001b[0m\u001b[33m\n",
            "\u001b[0mMounted at /content/drive\n"
          ]
        }
      ],
      "source": [
        "# Standard Library\n",
        "import json\n",
        "import random\n",
        "import re\n",
        "import shutil\n",
        "import time\n",
        "from collections import Counter\n",
        "from typing import Dict, Iterable, List, Tuple\n",
        "\n",
        "# Data Handling\n",
        "import numpy as np\n",
        "import pandas as pd\n",
        "import ast\n",
        "\n",
        "# Plotting\n",
        "%matplotlib inline\n",
        "import matplotlib.pyplot as plt\n",
        "!pip install seaborn\n",
        "import seaborn as sns\n",
        "\n",
        "# Retrieval Models\n",
        "!pip install rank_bm25\n",
        "from rank_bm25 import BM25Okapi\n",
        "!pip install -U ragatouille==0.0.9\n",
        "!pip install transformers==4.49.0 # Fix Ragatouille AdamW error\n",
        "#!pip uninstall --y faiss-cpu\n",
        "!pip install faiss-gpu-cu12 # check and install faiss w appropriate cuda version\n",
        "import requests\n",
        "from ragatouille import RAGPretrainedModel\n",
        "\n",
        "# Error Metrics\n",
        "import textwrap\n",
        "\n",
        "# Joblib for caching\n",
        "from joblib import dump, load\n",
        "import pickle\n",
        "\n",
        "\n",
        "# Optional uncomment if run on google colab\n",
        "from google.colab import drive, files\n",
        "drive.mount('/content/drive',force_remount=True)\n",
        "folder = \"/content/drive/MyDrive/dataset_cbs\"\n",
        "\n",
        "\n",
        "# Optional: Evaluation (commented out for future use potentially)\n",
        "# from sklearn.metrics import precision_score, recall_score, f1_score, accuracy_score\n",
        "\n",
        "\n",
        "\n",
        "\n",
        "## Retrieve CBS Table data test\n",
        "# url = \"https://datasets.cbs.nl/odata/v1/CBS/84363NED/Properties\"\n",
        "\n",
        "# response = requests.get(url) ## Retrieves top 10k by default, limit\n",
        "\n",
        "# if response.status_code == 200:\n",
        "#     data = response.json()\n",
        "#     print(data)\n",
        "# else:\n",
        "#     print(\"Error:\", response.status_code, response.text)\n"
      ]
    },
    {
      "cell_type": "markdown",
      "metadata": {
        "id": "cu78dowN9Jxb"
      },
      "source": [
        "# Load Data"
      ]
    },
    {
      "cell_type": "markdown",
      "metadata": {
        "id": "tuyJ_S3z9Jxc"
      },
      "source": [
        "## Load Metadata & Queries Dataset"
      ]
    },
    {
      "cell_type": "code",
      "execution_count": 111,
      "metadata": {
        "id": "LwFbX1qhnixr"
      },
      "outputs": [],
      "source": [
        "# folder = \"./dataset_cbs\"\n",
        "qa_path = f\"{folder}/questions_tables.csv\" # Original Queries Dataset\n",
        "tables_path = f\"{folder}/tables.csv\" # Original Table Metadata Dataset\n",
        "# qrels = f\"{folder}/qrels.tsv\" # To Map Table Metadata Dataset and Queries Dataset\n",
        "# queries = f\"{folder}/queries.tsv\" # Queries Dataset TSV\n",
        "\n",
        "observations = f\"{folder}/observations.json\" # Retrieved Table Data Dataset\n",
        "\n",
        "table_data_file = f\"{folder}/table_data_dfs.joblib\""
      ]
    },
    {
      "cell_type": "code",
      "execution_count": 112,
      "metadata": {
        "id": "KIBzsgKopQz3"
      },
      "outputs": [],
      "source": [
        "df_qa = pd.read_csv(qa_path)\n",
        "df_tables = pd.read_csv(tables_path)"
      ]
    },
    {
      "cell_type": "markdown",
      "metadata": {
        "id": "ZbLC2b2RYwXR"
      },
      "source": [
        "## Load CBS Table Data Dataset"
      ]
    },
    {
      "cell_type": "markdown",
      "metadata": {
        "id": "yRTQHdT69Jxd"
      },
      "source": [
        "### Retrieve Table Data from API -> observations.json (commented)\n",
        "from odata portal (Thanks Lucas Lageweg)\n",
        "\n",
        "Retrieved top 10.000 rows from each table for now, trying to retrieve everything takes too long (12h snellius job not enough)"
      ]
    },
    {
      "cell_type": "code",
      "execution_count": 113,
      "metadata": {
        "id": "UDISKF85hgiT"
      },
      "outputs": [],
      "source": [
        "## Retrieving all table Data\n",
        "# #table_ids = ['84365NED']\n",
        "# faulty = []\n",
        "# feed_url = \"https://opendata.cbs.nl/ODataFeed/OData\"\n",
        "\n",
        "# observations = {}\n",
        "# for table_id in table_ids:  # No tqdm for progress bar\n",
        "#     if table_id not in observations:\n",
        "#         observations[table_id] = []\n",
        "\n",
        "#     try:\n",
        "#         # Get the observations\n",
        "#         odata_url = f\"{feed_url}/{table_id}/TypedDataSet?$format=json&$top=9999\"\n",
        "\n",
        "#         i = 0\n",
        "#         while 1:\n",
        "#             data = requests.get(odata_url + f\"&$skip={9999 * i}\").json()\n",
        "\n",
        "#             if len(data['value']):\n",
        "#                 observations[table_id].append(data['value'])\n",
        "#             else:\n",
        "#                 break\n",
        "\n",
        "#             i += 1\n",
        "#             print(i)\n",
        "#     except Exception as e:\n",
        "#         faulty.append(table_id)\n"
      ]
    },
    {
      "cell_type": "code",
      "execution_count": 114,
      "metadata": {
        "id": "yqoYMc7p09hi"
      },
      "outputs": [],
      "source": [
        "# # Save to a file\n",
        "# with open(\"observations.json\", \"w\", encoding=\"utf-8\") as json_file:\n",
        "#     json.dump(observations, json_file, indent=4, ensure_ascii=False)\n",
        "\n",
        "# print(\"JSON data saved successfully!\")"
      ]
    },
    {
      "cell_type": "markdown",
      "metadata": {
        "id": "VAmcwSCq9Jxd"
      },
      "source": [
        "### (JSON example for reference)"
      ]
    },
    {
      "cell_type": "code",
      "execution_count": 115,
      "metadata": {
        "id": "CZkjuRre9Jxd"
      },
      "outputs": [],
      "source": [
        "# #Create the DataFrame using json_normalize() example from https://www.kdnuggets.com/how-to-convert-json-data-into-a-dataframe-with-pandas\n",
        "\n",
        "# df = pd.json_normalize(\n",
        "# data=tables_data['books'],\n",
        "# meta=['title', 'author'],\n",
        "# record_path='reviews',\n",
        "# errors='raise'\n",
        "# )\n",
        "\n",
        "# df\n"
      ]
    },
    {
      "cell_type": "code",
      "execution_count": 116,
      "metadata": {
        "id": "mKe7y98W9Jxe"
      },
      "outputs": [],
      "source": [
        "# for i, (key, value) in enumerate(tables_data.items()):\n",
        "#     print(f\"{key}: {value}\")\n",
        "#     if i >= 1:  # Show only first 5 entries\n",
        "#         break\n"
      ]
    },
    {
      "cell_type": "raw",
      "metadata": {
        "id": "3T0oWzsn9Jxe"
      },
      "source": [
        "Todo;\n",
        "for each table_id create a df\n",
        "    pd json load\n",
        "\n",
        "json file structure:\n",
        "{\n",
        " \"table_id1\" : [\n",
        "             { \"datarowid\" : 0,\n",
        "               \"column1\": \"stringvalue1\",\n",
        "               \"column2\": null,\n",
        "               \"column3\": 1\n",
        "               ...\n",
        "             },\n",
        "             { \"datarowid\" : 1,\n",
        "               \"column1\": \"stringvalue2\",\n",
        "               \"column2\": null,\n",
        "               \"column3\": 20\n",
        "               ...\n",
        "             },\n",
        "             ...\n",
        "             ],\n",
        " \"table_id2\": ... #unkown number of columns\n",
        " }"
      ]
    },
    {
      "cell_type": "markdown",
      "metadata": {
        "id": "uDFSuD0F9Jxe"
      },
      "source": [
        "### Process data from json into dataframes (commented) -> Saved as table_data_dfs.joblib"
      ]
    },
    {
      "cell_type": "code",
      "execution_count": 117,
      "metadata": {
        "id": "ohzqc36ZeiOu"
      },
      "outputs": [],
      "source": [
        "# # Load table data json retrieved from api\n",
        "# with open(observations, \"r\") as f:\n",
        "#     %time tables_data = json.load(f)\n"
      ]
    },
    {
      "cell_type": "code",
      "execution_count": 118,
      "metadata": {
        "id": "3K2fX5dD9Jxe"
      },
      "outputs": [],
      "source": [
        "# # # Dictionary to hold the resulting DataFrames\n",
        "# # table_data_dfs = {}\n",
        "\n",
        "# # # Loop through each table, k = tables, v = rows\n",
        "# # for table_id, rows in tables_data.items():\n",
        "# #     # Convert list of row dicts into a DataFrame\n",
        "# #     table_data_dfs[table_id] = pd.DataFrame(rows)\n",
        "\n",
        "# def convert_tables_to_dfs(tables_data: dict) -> dict:\n",
        "#     \"\"\"\n",
        "#     Converts a dictionary of table data into a dictionary of pandas DataFrames.\n",
        "\n",
        "#     Args:\n",
        "#         tables_data (dict): Dictionary where each key is a table ID and each value is\n",
        "#                             a list of row dictionaries representing that table.\n",
        "\n",
        "#     Returns:\n",
        "#         dict: Dictionary where each key is a table ID and each value is a pandas DataFrame.\n",
        "#     \"\"\"\n",
        "#     return {table_id: pd.DataFrame(rows) for table_id, rows in tables_data.items()}\n",
        "# table_data_dfs = convert_tables_to_dfs(tables_data)"
      ]
    },
    {
      "cell_type": "code",
      "execution_count": 119,
      "metadata": {
        "id": "dP1cFLTe9Jxf"
      },
      "outputs": [],
      "source": [
        "# dump(table_data_dfs, 'table_data_dfs.joblib')"
      ]
    },
    {
      "cell_type": "markdown",
      "metadata": {
        "id": "rctBtevU9Jxf"
      },
      "source": [
        "### Load Processed Retrieved Table Data Dataset (joblib)"
      ]
    },
    {
      "cell_type": "code",
      "execution_count": 120,
      "metadata": {
        "id": "qKH1sGqP9Jxf"
      },
      "outputs": [],
      "source": [
        "table_data_dfs = load(table_data_file)"
      ]
    },
    {
      "cell_type": "markdown",
      "metadata": {
        "id": "Y36mBqHz9Jxf"
      },
      "source": [
        "## Load Experiment Results"
      ]
    },
    {
      "cell_type": "markdown",
      "source": [
        "## Generated Summaries"
      ],
      "metadata": {
        "id": "gVIgEx6FYSpF"
      }
    },
    {
      "cell_type": "code",
      "execution_count": 121,
      "metadata": {
        "id": "7gV9hL6p9Jxf"
      },
      "outputs": [],
      "source": [
        "folder = f\"{folder}/experiment_results\"\n",
        "llama_CSSummary_TS_filepath = f\"{folder}/final_llama_summary_output.json\" # 2 phase Column flattened with Row Sample values Summary + Table Summary\n",
        "llama_CSample_TS_filepath = f\"{folder}/final_table_w_samples_llama_summary_output.json\" # 1 phase Column flattened with Row Samples values Table Summary\n",
        "llama_Column_TS_filepath = f\"{folder}/final_table_flatten_only_llama_summary_output.json\" # 1 phase Column flattened Table Summary\n",
        "\n",
        "with open(llama_CSSummary_TS_filepath, \"r\") as f:\n",
        "            llama_CSSummary_TS = json.load(f)\n",
        "\n",
        "with open(llama_CSample_TS_filepath, \"r\") as f:\n",
        "            llama_CSample_TS = json.load(f)\n",
        "\n",
        "with open(llama_Column_TS_filepath, \"r\") as f:\n",
        "            llama_Column_TS = json.load(f)\n",
        "\n",
        "# for table_id, table_df in table_data.items():\n",
        "#     if table_id in summary_dict:\n",
        "\n",
        "# # Save final version as JSON\n",
        "# with open(save_path, \"w\") as f:\n",
        "#     json.dump(summary_dict, f)\n",
        "\n",
        "# print(f\"Summary saved to {save_path}\")"
      ]
    },
    {
      "cell_type": "markdown",
      "source": [
        "## Colbert retrieval results"
      ],
      "metadata": {
        "id": "wifwmYqoYVXM"
      }
    },
    {
      "cell_type": "code",
      "source": [
        "colbert_original_results_filepath = f\"{folder}/results_original.json\"\n",
        "colbert_csummary_results_filepath = f\"{folder}/results_CSummary_TSummary.json\"\n",
        "colbert_csample_results_filepath = f\"{folder}/results_CSample_TSummary.json\"\n",
        "colbert_column_results_filepath = f\"{folder}/results_Column_TSummary.json\"\n",
        "\n",
        "with open(colbert_original_results_filepath, \"r\") as f:\n",
        "            colbert_original_results = json.load(f)\n",
        "\n",
        "with open(colbert_csummary_results_filepath, \"r\") as f:\n",
        "            colbert_csummary_results = json.load(f)\n",
        "\n",
        "with open(colbert_csample_results_filepath, \"r\") as f:\n",
        "            colbert_csample_results = json.load(f)\n",
        "\n",
        "with open(colbert_column_results_filepath, \"r\") as f:\n",
        "            colbert_column_results = json.load(f)\n"
      ],
      "metadata": {
        "id": "84BoUFRtXJu6"
      },
      "execution_count": 200,
      "outputs": []
    },
    {
      "cell_type": "markdown",
      "metadata": {
        "id": "B1plVlju9Jxg"
      },
      "source": [
        "# EDA & some preprocessing"
      ]
    },
    {
      "cell_type": "markdown",
      "metadata": {
        "id": "5it68AnP9Jxg"
      },
      "source": [
        " ## Table Metadata Dataset"
      ]
    },
    {
      "cell_type": "markdown",
      "metadata": {
        "id": "po3_I6Wa9Jxg"
      },
      "source": [
        "Should be 494 table metadata in total"
      ]
    },
    {
      "cell_type": "code",
      "execution_count": 122,
      "metadata": {
        "id": "ybcp0WKj9Jxg",
        "colab": {
          "base_uri": "https://localhost:8080/",
          "height": 205
        },
        "outputId": "9eda65c3-dbb4-446f-f3ff-ecc01e216068"
      },
      "outputs": [
        {
          "output_type": "execute_result",
          "data": {
            "text/plain": [
              "pandas.core.frame.DataFrame"
            ],
            "text/html": [
              "<div style=\"max-width:800px; border: 1px solid var(--colab-border-color);\"><style>\n",
              "      pre.function-repr-contents {\n",
              "        overflow-x: auto;\n",
              "        padding: 8px 12px;\n",
              "        max-height: 500px;\n",
              "      }\n",
              "\n",
              "      pre.function-repr-contents.function-repr-contents-collapsed {\n",
              "        cursor: pointer;\n",
              "        max-height: 100px;\n",
              "      }\n",
              "    </style>\n",
              "    <pre style=\"white-space: initial; background:\n",
              "         var(--colab-secondary-surface-color); padding: 8px 12px;\n",
              "         border-bottom: 1px solid var(--colab-border-color);\"><b>pandas.core.frame.DataFrame</b><br/>def __init__(data=None, index: Axes | None=None, columns: Axes | None=None, dtype: Dtype | None=None, copy: bool | None=None) -&gt; None</pre><pre class=\"function-repr-contents function-repr-contents-collapsed\" style=\"\"><a class=\"filepath\" style=\"display:none\" href=\"#\">/usr/local/lib/python3.11/dist-packages/pandas/core/frame.py</a>Two-dimensional, size-mutable, potentially heterogeneous tabular data.\n",
              "\n",
              "Data structure also contains labeled axes (rows and columns).\n",
              "Arithmetic operations align on both row and column labels. Can be\n",
              "thought of as a dict-like container for Series objects. The primary\n",
              "pandas data structure.\n",
              "\n",
              "Parameters\n",
              "----------\n",
              "data : ndarray (structured or homogeneous), Iterable, dict, or DataFrame\n",
              "    Dict can contain Series, arrays, constants, dataclass or list-like objects. If\n",
              "    data is a dict, column order follows insertion-order. If a dict contains Series\n",
              "    which have an index defined, it is aligned by its index. This alignment also\n",
              "    occurs if data is a Series or a DataFrame itself. Alignment is done on\n",
              "    Series/DataFrame inputs.\n",
              "\n",
              "    If data is a list of dicts, column order follows insertion-order.\n",
              "\n",
              "index : Index or array-like\n",
              "    Index to use for resulting frame. Will default to RangeIndex if\n",
              "    no indexing information part of input data and no index provided.\n",
              "columns : Index or array-like\n",
              "    Column labels to use for resulting frame when data does not have them,\n",
              "    defaulting to RangeIndex(0, 1, 2, ..., n). If data contains column labels,\n",
              "    will perform column selection instead.\n",
              "dtype : dtype, default None\n",
              "    Data type to force. Only a single dtype is allowed. If None, infer.\n",
              "copy : bool or None, default None\n",
              "    Copy data from inputs.\n",
              "    For dict data, the default of None behaves like ``copy=True``.  For DataFrame\n",
              "    or 2d ndarray input, the default of None behaves like ``copy=False``.\n",
              "    If data is a dict containing one or more Series (possibly of different dtypes),\n",
              "    ``copy=False`` will ensure that these inputs are not copied.\n",
              "\n",
              "    .. versionchanged:: 1.3.0\n",
              "\n",
              "See Also\n",
              "--------\n",
              "DataFrame.from_records : Constructor from tuples, also record arrays.\n",
              "DataFrame.from_dict : From dicts of Series, arrays, or dicts.\n",
              "read_csv : Read a comma-separated values (csv) file into DataFrame.\n",
              "read_table : Read general delimited file into DataFrame.\n",
              "read_clipboard : Read text from clipboard into DataFrame.\n",
              "\n",
              "Notes\n",
              "-----\n",
              "Please reference the :ref:`User Guide &lt;basics.dataframe&gt;` for more information.\n",
              "\n",
              "Examples\n",
              "--------\n",
              "Constructing DataFrame from a dictionary.\n",
              "\n",
              "&gt;&gt;&gt; d = {&#x27;col1&#x27;: [1, 2], &#x27;col2&#x27;: [3, 4]}\n",
              "&gt;&gt;&gt; df = pd.DataFrame(data=d)\n",
              "&gt;&gt;&gt; df\n",
              "   col1  col2\n",
              "0     1     3\n",
              "1     2     4\n",
              "\n",
              "Notice that the inferred dtype is int64.\n",
              "\n",
              "&gt;&gt;&gt; df.dtypes\n",
              "col1    int64\n",
              "col2    int64\n",
              "dtype: object\n",
              "\n",
              "To enforce a single dtype:\n",
              "\n",
              "&gt;&gt;&gt; df = pd.DataFrame(data=d, dtype=np.int8)\n",
              "&gt;&gt;&gt; df.dtypes\n",
              "col1    int8\n",
              "col2    int8\n",
              "dtype: object\n",
              "\n",
              "Constructing DataFrame from a dictionary including Series:\n",
              "\n",
              "&gt;&gt;&gt; d = {&#x27;col1&#x27;: [0, 1, 2, 3], &#x27;col2&#x27;: pd.Series([2, 3], index=[2, 3])}\n",
              "&gt;&gt;&gt; pd.DataFrame(data=d, index=[0, 1, 2, 3])\n",
              "   col1  col2\n",
              "0     0   NaN\n",
              "1     1   NaN\n",
              "2     2   2.0\n",
              "3     3   3.0\n",
              "\n",
              "Constructing DataFrame from numpy ndarray:\n",
              "\n",
              "&gt;&gt;&gt; df2 = pd.DataFrame(np.array([[1, 2, 3], [4, 5, 6], [7, 8, 9]]),\n",
              "...                    columns=[&#x27;a&#x27;, &#x27;b&#x27;, &#x27;c&#x27;])\n",
              "&gt;&gt;&gt; df2\n",
              "   a  b  c\n",
              "0  1  2  3\n",
              "1  4  5  6\n",
              "2  7  8  9\n",
              "\n",
              "Constructing DataFrame from a numpy ndarray that has labeled columns:\n",
              "\n",
              "&gt;&gt;&gt; data = np.array([(1, 2, 3), (4, 5, 6), (7, 8, 9)],\n",
              "...                 dtype=[(&quot;a&quot;, &quot;i4&quot;), (&quot;b&quot;, &quot;i4&quot;), (&quot;c&quot;, &quot;i4&quot;)])\n",
              "&gt;&gt;&gt; df3 = pd.DataFrame(data, columns=[&#x27;c&#x27;, &#x27;a&#x27;])\n",
              "...\n",
              "&gt;&gt;&gt; df3\n",
              "   c  a\n",
              "0  3  1\n",
              "1  6  4\n",
              "2  9  7\n",
              "\n",
              "Constructing DataFrame from dataclass:\n",
              "\n",
              "&gt;&gt;&gt; from dataclasses import make_dataclass\n",
              "&gt;&gt;&gt; Point = make_dataclass(&quot;Point&quot;, [(&quot;x&quot;, int), (&quot;y&quot;, int)])\n",
              "&gt;&gt;&gt; pd.DataFrame([Point(0, 0), Point(0, 3), Point(2, 3)])\n",
              "   x  y\n",
              "0  0  0\n",
              "1  0  3\n",
              "2  2  3\n",
              "\n",
              "Constructing DataFrame from Series/DataFrame:\n",
              "\n",
              "&gt;&gt;&gt; ser = pd.Series([1, 2, 3], index=[&quot;a&quot;, &quot;b&quot;, &quot;c&quot;])\n",
              "&gt;&gt;&gt; df = pd.DataFrame(data=ser, index=[&quot;a&quot;, &quot;c&quot;])\n",
              "&gt;&gt;&gt; df\n",
              "   0\n",
              "a  1\n",
              "c  3\n",
              "\n",
              "&gt;&gt;&gt; df1 = pd.DataFrame([1, 2, 3], index=[&quot;a&quot;, &quot;b&quot;, &quot;c&quot;], columns=[&quot;x&quot;])\n",
              "&gt;&gt;&gt; df2 = pd.DataFrame(data=df1, index=[&quot;a&quot;, &quot;c&quot;])\n",
              "&gt;&gt;&gt; df2\n",
              "   x\n",
              "a  1\n",
              "c  3</pre>\n",
              "      <script>\n",
              "      if (google.colab.kernel.accessAllowed && google.colab.files && google.colab.files.view) {\n",
              "        for (const element of document.querySelectorAll('.filepath')) {\n",
              "          element.style.display = 'block'\n",
              "          element.onclick = (event) => {\n",
              "            event.preventDefault();\n",
              "            event.stopPropagation();\n",
              "            google.colab.files.view(element.textContent, 509);\n",
              "          };\n",
              "        }\n",
              "      }\n",
              "      for (const element of document.querySelectorAll('.function-repr-contents')) {\n",
              "        element.onclick = (event) => {\n",
              "          event.preventDefault();\n",
              "          event.stopPropagation();\n",
              "          element.classList.toggle('function-repr-contents-collapsed');\n",
              "        };\n",
              "      }\n",
              "      </script>\n",
              "      </div>"
            ]
          },
          "metadata": {},
          "execution_count": 122
        }
      ],
      "source": [
        "type(df_tables)"
      ]
    },
    {
      "cell_type": "code",
      "execution_count": 123,
      "metadata": {
        "id": "Llokb90S9Jxg",
        "colab": {
          "base_uri": "https://localhost:8080/",
          "height": 0
        },
        "outputId": "4974a2cb-47e1-4967-fed5-f35e72841d73"
      },
      "outputs": [
        {
          "output_type": "execute_result",
          "data": {
            "text/plain": [
              "494"
            ]
          },
          "metadata": {},
          "execution_count": 123
        }
      ],
      "source": [
        "len(df_tables)"
      ]
    },
    {
      "cell_type": "markdown",
      "metadata": {
        "id": "Fyjnkake9Jxh"
      },
      "source": [
        "### Check Missing Table Metadata Data\n",
        "No missing data within the metadata dataset"
      ]
    },
    {
      "cell_type": "code",
      "execution_count": 124,
      "metadata": {
        "id": "qws4MljR9Jxh",
        "colab": {
          "base_uri": "https://localhost:8080/",
          "height": 0
        },
        "outputId": "6fb6656b-4e17-472c-e5bd-4363a03e196b"
      },
      "outputs": [
        {
          "output_type": "stream",
          "name": "stdout",
          "text": [
            "               NaN values  Empty/Whitespace strings  Total empty or missing  \\\n",
            "table_id                0                         0                       0   \n",
            "table_desc              0                         0                       0   \n",
            "expanded_desc           0                         0                       0   \n",
            "Keywords                0                         0                       0   \n",
            "Summary                 0                         0                       0   \n",
            "\n",
            "               Total rows  % empty or missing  \n",
            "table_id              494                 0.0  \n",
            "table_desc            494                 0.0  \n",
            "expanded_desc         494                 0.0  \n",
            "Keywords              494                 0.0  \n",
            "Summary               494                 0.0  \n"
          ]
        }
      ],
      "source": [
        "# Strip whitespace and check for empty strings\n",
        "empty_string_counts = df_tables.apply(lambda col: col.astype(str).str.strip().eq(\"\").sum())\n",
        "\n",
        "# NaN values\n",
        "missing_counts = df_tables.isna().sum()\n",
        "\n",
        "# Combined\n",
        "empty_or_missing_counts = missing_counts + empty_string_counts\n",
        "\n",
        "# Summary DataFrame\n",
        "empty_stats = pd.DataFrame({\n",
        "    \"NaN values\": missing_counts,\n",
        "    \"Empty/Whitespace strings\": empty_string_counts,\n",
        "    \"Total empty or missing\": empty_or_missing_counts,\n",
        "    \"Total rows\": len(df_tables),\n",
        "    \"% empty or missing\": (empty_or_missing_counts / len(df_tables) * 100).round(1)\n",
        "})\n",
        "\n",
        "print(empty_stats)\n"
      ]
    },
    {
      "cell_type": "markdown",
      "metadata": {
        "id": "EFCFXWCm9Jxh"
      },
      "source": [
        "### FLATTEN tables into metadata text for bm25 retrieved table data\n",
        "For each table retrieved by BM25, we create a flattened text representation by concatenating:\n",
        "\n",
        "Column names separated by |\n",
        "\n",
        "Row Samples in list\n",
        "\n",
        "ColNameA: [Row_sample2, Row_sample1, Row_Sample15] | ColNameB: [Row_sample2, Row_sample5, Row_Sample9]"
      ]
    },
    {
      "cell_type": "code",
      "execution_count": 125,
      "metadata": {
        "id": "jKGm5viX9Jxh"
      },
      "outputs": [],
      "source": [
        "# Clean PascalCase, snake_case, and strip numeric prefixes/suffixes\n",
        "def clean_column_name(colname):\n",
        "    # Remove leading/trailing digits and underscores\n",
        "    cleaned = re.sub(r'^[_\\d]+|[_\\d]+$', '', colname)\n",
        "    cleaned = cleaned.replace('_', ' ')\n",
        "    words = []\n",
        "    for token in cleaned.split():\n",
        "        words += re.findall(r'[A-Z]+(?=[A-Z][a-z])|[A-Z][a-z]*|[a-z]+|\\d+', token)\n",
        "    return ' '.join(words)\n",
        "\n",
        "def format_table_info(table_dict, seed=88, n_sample_values=3):\n",
        "    random.seed(seed)\n",
        "    result = {}\n",
        "\n",
        "    for table_id, df in table_dict.items():\n",
        "        raw_columns = [str(col) for col in df.columns]\n",
        "        cleaned_columns = [clean_column_name(col) for col in raw_columns]\n",
        "        raw_column_string = ' | '.join(raw_columns)\n",
        "        cleaned_column_string = ' | '.join(cleaned_columns)\n",
        "\n",
        "        # Column unique sample values and types\n",
        "        column_sample_summaries = []\n",
        "        for col in df.columns:\n",
        "            col_type = str(df[col].dtype)\n",
        "            unique_vals = df[col].dropna().unique().tolist()\n",
        "            sample_vals = random.sample(unique_vals, min(n_sample_values, len(unique_vals))) if unique_vals else []\n",
        "            sample_vals_repr = [repr(val) for val in sample_vals]\n",
        "            column_sample_summaries.append(f\"{col}: [{', '.join(sample_vals_repr)}]\")\n",
        "\n",
        "        column_samples_string = ' | '.join(column_sample_summaries)\n",
        "\n",
        "        # Sample rows\n",
        "        sample_df = df.sample(n=2, random_state=seed) if len(df) >= 2 else df\n",
        "        formatted_rows = []\n",
        "        for _, row in sample_df.iterrows():\n",
        "            formatted_cells = []\n",
        "            for col in df.columns:\n",
        "                val = row[col]\n",
        "                if isinstance(val, str):\n",
        "                    formatted_cells.append(f\"{col}: '{val}'\")\n",
        "                elif pd.isna(val):\n",
        "                    formatted_cells.append(f\"{col}: null\")\n",
        "                else:\n",
        "                    formatted_cells.append(f\"{col}: {val}\")\n",
        "            formatted_rows.append(' | '.join(formatted_cells))\n",
        "\n",
        "        result[table_id] = {\n",
        "            \"raw_columns_string\": raw_column_string,\n",
        "            \"columns_string\": cleaned_column_string,\n",
        "            \"column_samples_string\": column_samples_string,\n",
        "            \"example_rows_string\": '\\n'.join(formatted_rows)\n",
        "        }\n",
        "\n",
        "    return result\n"
      ]
    },
    {
      "cell_type": "code",
      "execution_count": 126,
      "metadata": {
        "id": "En0cpO3T9Jxn",
        "colab": {
          "base_uri": "https://localhost:8080/",
          "height": 0
        },
        "outputId": "6b96af33-32f3-4858-a671-766f9b5bd1a7"
      },
      "outputs": [
        {
          "output_type": "stream",
          "name": "stdout",
          "text": [
            "Indelingswijziging 50 EUR Wijken En Buurten 4 ABC Test\n",
            "Indelingswijziging 50 EUR Wijken En Buurten 4 AB Ctest\n"
          ]
        }
      ],
      "source": [
        "# Test, handwrittencase, note the edge case for abbreviations uncapitalized after\n",
        "print(clean_column_name(\"___2__Indelingswijziging50EURWijkenEnBuurten_4_ABCTest\"))\n",
        "print(clean_column_name(\"___2__Indelingswijziging50EURWijkenEnBuurten_4_ABCtest\"))"
      ]
    },
    {
      "cell_type": "code",
      "execution_count": 127,
      "metadata": {
        "id": "zjxe5nxu9Jxn"
      },
      "outputs": [],
      "source": [
        "formatted_tables = format_table_info(table_data_dfs)"
      ]
    },
    {
      "cell_type": "code",
      "execution_count": 128,
      "metadata": {
        "colab": {
          "base_uri": "https://localhost:8080/",
          "height": 0
        },
        "id": "-HedtZTd9Jxn",
        "outputId": "d99c19a2-2e72-46e2-8957-0ba011105729"
      },
      "outputs": [
        {
          "output_type": "execute_result",
          "data": {
            "text/plain": [
              "{'raw_columns_string': 'ID | RegioS | Perioden | TotaalLevendGeborenKinderen_1 | LevendGeborenKinderenRelatief_2 | LevendGeborenJongens_3 | LevendGeborenMeisjes_4 | AlgemeenVruchtbaarheidscijfer_5 | GestandaardiseerdVruchtbaarheidscijfer_6 | GemiddeldKindertalPerVrouw_7 | TotaalLevendGeborenKinderen_8 | JongerDan20Jaar_9 | k_20Tot25Jaar_10 | k_25Tot30Jaar_11 | k_30Tot35Jaar_12 | k_35Tot40Jaar_13 | k_40Tot45Jaar_14 | k_45JaarOfOuder_15 | TotaalLevendGeborenKinderen_16 | k_1eKind_17 | k_2eKind_18 | k_3eKind_19 | k_4eOfVolgendeKinderen_20 | TotaalLevendGeborenKinderen_21 | MoederGehuwd_22 | MoederNietGehuwd_23',\n",
              " 'columns_string': 'I D | Regio S | Perioden | Totaal Levend Geboren Kinderen | Levend Geboren Kinderen Relatief | Levend Geboren Jongens | Levend Geboren Meisjes | Algemeen Vruchtbaarheidscijfer | Gestandaardiseerd Vruchtbaarheidscijfer | Gemiddeld Kindertal Per Vrouw | Totaal Levend Geboren Kinderen | Jonger Dan 20 Jaar | k 20 Tot 25 Jaar | k 25 Tot 30 Jaar | k 30 Tot 35 Jaar | k 35 Tot 40 Jaar | k 40 Tot 45 Jaar | k 45 Jaar Of Ouder | Totaal Levend Geboren Kinderen | k 1 e Kind | k 2 e Kind | k 3 e Kind | k 4 e Of Volgende Kinderen | Totaal Levend Geboren Kinderen | Moeder Gehuwd | Moeder Niet Gehuwd',\n",
              " 'column_samples_string': \"ID: [6512, 3104, 5452] | RegioS: ['GM0649', 'PV22  ', 'GM1940'] | Perioden: ['1988JJ00', '2009JJ00', '2017JJ00'] | TotaalLevendGeborenKinderen_1: [25015.0, 4522.0, 4502.0] | LevendGeborenKinderenRelatief_2: [8.5, 12.9, 17.9] | LevendGeborenJongens_3: [3620.0, 4955.0, 7.0] | LevendGeborenMeisjes_4: [6363.0, 7095.0, 1989.0] | AlgemeenVruchtbaarheidscijfer_5: [55.3, 61.4, 71.3] | GestandaardiseerdVruchtbaarheidscijfer_6: [39.0, 49.0, 42.6] | GemiddeldKindertalPerVrouw_7: [2.08, 2.15, 1.41] | TotaalLevendGeborenKinderen_8: [4462.0, 3665.0, 15763.0] | JongerDan20Jaar_9: [917.0, 530.0, 170.0] | k_20Tot25Jaar_10: [996.0, 788.0, 1735.0] | k_25Tot30Jaar_11: [167.0, 954.0, 1928.0] | k_30Tot35Jaar_12: [2686.0, 575.0, 2974.0] | k_35Tot40Jaar_13: [403.0, 314.0, 20145.0] | k_40Tot45Jaar_14: [36.0, 883.0, 1606.0] | k_45JaarOfOuder_15: [249.0, 503.0, 427.0] | TotaalLevendGeborenKinderen_16: [2429.0, 1797.0, 612.0] | k_1eKind_17: [20426.0, 13206.0, 14393.0] | k_2eKind_18: [1741.0, 894.0, 661.0] | k_3eKind_19: [193.0, 5689.0, 841.0] | k_4eOfVolgendeKinderen_20: [699.0, 69.0, 8046.0] | TotaalLevendGeborenKinderen_21: [220.0, 16247.0, 149.0] | MoederGehuwd_22: [1927.0, 448.0, 1203.0] | MoederNietGehuwd_23: [1587.0, 638.0, 496.0]\",\n",
              " 'example_rows_string': \"ID: 6312 | RegioS: 'GM1876' | Perioden: '2000JJ00' | TotaalLevendGeborenKinderen_1: null | LevendGeborenKinderenRelatief_2: null | LevendGeborenJongens_3: null | LevendGeborenMeisjes_4: null | AlgemeenVruchtbaarheidscijfer_5: null | GestandaardiseerdVruchtbaarheidscijfer_6: null | GemiddeldKindertalPerVrouw_7: null | TotaalLevendGeborenKinderen_8: null | JongerDan20Jaar_9: null | k_20Tot25Jaar_10: null | k_25Tot30Jaar_11: null | k_30Tot35Jaar_12: null | k_35Tot40Jaar_13: null | k_40Tot45Jaar_14: null | k_45JaarOfOuder_15: null | TotaalLevendGeborenKinderen_16: null | k_1eKind_17: null | k_2eKind_18: null | k_3eKind_19: null | k_4eOfVolgendeKinderen_20: null | TotaalLevendGeborenKinderen_21: null | MoederGehuwd_22: null | MoederNietGehuwd_23: null\\nID: 4425 | RegioS: 'GM0372' | Perioden: '2021JJ00' | TotaalLevendGeborenKinderen_1: null | LevendGeborenKinderenRelatief_2: null | LevendGeborenJongens_3: null | LevendGeborenMeisjes_4: null | AlgemeenVruchtbaarheidscijfer_5: null | GestandaardiseerdVruchtbaarheidscijfer_6: null | GemiddeldKindertalPerVrouw_7: null | TotaalLevendGeborenKinderen_8: null | JongerDan20Jaar_9: null | k_20Tot25Jaar_10: null | k_25Tot30Jaar_11: null | k_30Tot35Jaar_12: null | k_35Tot40Jaar_13: null | k_40Tot45Jaar_14: null | k_45JaarOfOuder_15: null | TotaalLevendGeborenKinderen_16: null | k_1eKind_17: null | k_2eKind_18: null | k_3eKind_19: null | k_4eOfVolgendeKinderen_20: null | TotaalLevendGeborenKinderen_21: null | MoederGehuwd_22: null | MoederNietGehuwd_23: null\"}"
            ]
          },
          "metadata": {},
          "execution_count": 128
        }
      ],
      "source": [
        "# Test\n",
        "sample_key = list(formatted_tables.keys())[0]\n",
        "formatted_tables[sample_key]"
      ]
    },
    {
      "cell_type": "markdown",
      "metadata": {
        "id": "hOnFBWRn9Jxo"
      },
      "source": [
        "## Queries Dataset"
      ]
    },
    {
      "cell_type": "markdown",
      "metadata": {
        "id": "pbJ64O509Jxo"
      },
      "source": [
        "### Check Missing Queries Data"
      ]
    },
    {
      "cell_type": "markdown",
      "metadata": {
        "id": "4OlmmVV1xqFW"
      },
      "source": [
        "Queries seem to have more unique table ids than tables metadata"
      ]
    },
    {
      "cell_type": "code",
      "execution_count": 129,
      "metadata": {
        "colab": {
          "base_uri": "https://localhost:8080/",
          "height": 0
        },
        "id": "fnDupJCdpc0s",
        "outputId": "692a56dd-c4ea-4b56-8170-5553b12ddd5b"
      },
      "outputs": [
        {
          "output_type": "stream",
          "name": "stdout",
          "text": [
            "567\n"
          ]
        }
      ],
      "source": [
        "qa_table_ids = df_qa[\"table_id\"].unique()\n",
        "print(len(qa_table_ids))"
      ]
    },
    {
      "cell_type": "markdown",
      "metadata": {
        "id": "KKm7KrnP9Jxp"
      },
      "source": [
        "So let's check the mismatch of tables"
      ]
    },
    {
      "cell_type": "code",
      "execution_count": 130,
      "metadata": {
        "id": "_l9tR0NMdVjY"
      },
      "outputs": [],
      "source": [
        "all_qa_id = set(df_qa[\"table_id\"].unique())\n",
        "all_table_id = set(df_tables[\"table_id\"].unique())"
      ]
    },
    {
      "cell_type": "markdown",
      "metadata": {
        "id": "arLMH8aK9Jxp"
      },
      "source": [
        "Amount of tables present in queries, but missing in table metadata dataset"
      ]
    },
    {
      "cell_type": "code",
      "execution_count": 131,
      "metadata": {
        "colab": {
          "base_uri": "https://localhost:8080/",
          "height": 0
        },
        "id": "fOOXq1fAuqi_",
        "outputId": "209335d8-0174-46e9-9bf4-907017c08acd"
      },
      "outputs": [
        {
          "output_type": "stream",
          "name": "stdout",
          "text": [
            "73\n"
          ]
        }
      ],
      "source": [
        "missing_from_qa = all_qa_id - all_table_id\n",
        "print(len(missing_from_qa))"
      ]
    },
    {
      "cell_type": "markdown",
      "metadata": {
        "id": "-YPU1KwO9Jxp"
      },
      "source": [
        "Amount of tables present in table metadata dataset, but missing in queries dataset"
      ]
    },
    {
      "cell_type": "code",
      "execution_count": 132,
      "metadata": {
        "colab": {
          "base_uri": "https://localhost:8080/",
          "height": 0
        },
        "id": "PiVRebj-TWlJ",
        "outputId": "0d078d00-57a4-4097-a71c-ac339f407026"
      },
      "outputs": [
        {
          "output_type": "stream",
          "name": "stdout",
          "text": [
            "0\n"
          ]
        }
      ],
      "source": [
        "missing_from_tables = all_table_id - all_qa_id\n",
        "print(len(missing_from_tables))"
      ]
    },
    {
      "cell_type": "markdown",
      "metadata": {
        "id": "VRllLFTJ9Jxq"
      },
      "source": [
        "Frequency of missing tables in queries dataset\n",
        "\n",
        "Total 988 queries miss their table metadata"
      ]
    },
    {
      "cell_type": "code",
      "execution_count": 133,
      "metadata": {
        "colab": {
          "base_uri": "https://localhost:8080/",
          "height": 0
        },
        "id": "NNGS93SKeZ_X",
        "outputId": "6750812e-0f2b-4948-8490-9ce45a5b2fb7"
      },
      "outputs": [
        {
          "output_type": "stream",
          "name": "stdout",
          "text": [
            "table_id\n",
            "37296ned    87\n",
            "71450ned    79\n",
            "84672NED    59\n",
            "85082NED    49\n",
            "37422ned    46\n",
            "            ..\n",
            "82634NED     1\n",
            "70787ned     1\n",
            "85424NED     1\n",
            "85132NED     1\n",
            "84997NED     1\n",
            "Name: count, Length: 73, dtype: int64\n",
            "Total queries with missing table metadata: 988\n"
          ]
        }
      ],
      "source": [
        "# Convert missing_from_qa\n",
        "missing_from_qa = list(missing_from_qa)\n",
        "\n",
        "# Count occurrences of each table_id in df_qa\n",
        "table_id_counts_in_qa = df_qa['table_id'].value_counts()\n",
        "\n",
        "# Filter out counts for missing_from_qa table_ids\n",
        "missing_table_counts = table_id_counts_in_qa[table_id_counts_in_qa.index.isin(missing_from_qa)]\n",
        "\n",
        "# Display the counts\n",
        "print(missing_table_counts)\n",
        "print(f\"Total queries with missing table metadata: {missing_table_counts.sum()}\")\n"
      ]
    },
    {
      "cell_type": "markdown",
      "metadata": {
        "id": "vMx-O82afxlq"
      },
      "source": [
        "So we remove the queries where we do not have the tables metadata\n",
        "\n",
        "Dropped missing tables from queries, so we retain only queries where we have metadata for"
      ]
    },
    {
      "cell_type": "code",
      "execution_count": 134,
      "metadata": {
        "colab": {
          "base_uri": "https://localhost:8080/",
          "height": 0
        },
        "id": "1fuax4cUgCy5",
        "outputId": "f7ecd7c3-62db-482b-f625-07a1a6091f6b"
      },
      "outputs": [
        {
          "output_type": "stream",
          "name": "stdout",
          "text": [
            "Original df_qa shape: (18686, 3)\n",
            "Cleaned df_qa shape: (17698, 3)\n",
            "Unique tables in cleaned df_qa: 494\n",
            "Total queries with missing table metadata removed: 988\n"
          ]
        }
      ],
      "source": [
        "# Get the list of missing table_ids from the `missing_from_qa` set\n",
        "missing_table_ids = list(missing_from_qa)\n",
        "\n",
        "# Drop the rows in df_qa where the table_id is in missing_table_ids\n",
        "df_qa_cleaned = df_qa[~df_qa['table_id'].isin(missing_table_ids)]\n",
        "queries_removed = df_qa.shape[0] - df_qa_cleaned.shape[0]\n",
        "\n",
        "unique_tables_check = len(df_qa_cleaned[\"table_id\"].unique())\n",
        "\n",
        "# Check the shape of the cleaned dataset\n",
        "print(f\"Original df_qa shape: {df_qa.shape}\")\n",
        "print(f\"Cleaned df_qa shape: {df_qa_cleaned.shape}\")\n",
        "print(f\"Unique tables in cleaned df_qa: {unique_tables_check}\")\n",
        "\n",
        "print(f\"Total queries with missing table metadata removed: {queries_removed}\")\n",
        "\n",
        "df_qa = df_qa_cleaned"
      ]
    },
    {
      "cell_type": "markdown",
      "metadata": {
        "id": "WPFHBmlr9Jxr"
      },
      "source": [
        "### Exporting missing tables for Lucas"
      ]
    },
    {
      "cell_type": "code",
      "execution_count": 135,
      "metadata": {
        "id": "vSKCgm-I-sxN"
      },
      "outputs": [],
      "source": [
        "# # Anti-join: Rows in table1 not in table2\n",
        "# missing_qa_tables_matches = df_qa[~df_qa['table_id'].isin(df_tables['table_id'])]\n",
        "\n",
        "# missing_qa_tables_matches.to_csv(\"missing_qa_tables_matches.csv\", index=False)"
      ]
    },
    {
      "cell_type": "code",
      "execution_count": 136,
      "metadata": {
        "id": "0A-fmU6fD9Nr"
      },
      "outputs": [],
      "source": [
        "# df_tables.info()"
      ]
    },
    {
      "cell_type": "code",
      "execution_count": 137,
      "metadata": {
        "id": "oEYMB_2nCAo1"
      },
      "outputs": [],
      "source": [
        "# df_tables.head()"
      ]
    },
    {
      "cell_type": "code",
      "execution_count": 138,
      "metadata": {
        "id": "Bj6DHC6hUHk3"
      },
      "outputs": [],
      "source": [
        "# missing_qa_tables_matches\n"
      ]
    },
    {
      "cell_type": "code",
      "execution_count": 139,
      "metadata": {
        "id": "AZLyUsEyVJW7"
      },
      "outputs": [],
      "source": [
        "# unique_missing_qa_tables_matches = missing_qa_tables_matches.drop_duplicates(subset=['table_id'])"
      ]
    },
    {
      "cell_type": "code",
      "execution_count": 140,
      "metadata": {
        "id": "sjiRdwWgVhM2"
      },
      "outputs": [],
      "source": [
        "# unique_missing_qa_tables_matches.to_csv(\"unique_missing_qa_table_rows.csv\", index=False)"
      ]
    },
    {
      "cell_type": "markdown",
      "metadata": {
        "id": "Sojj04TdxbXk"
      },
      "source": [
        "73 tables in queries are missing from metadata csv, so no description provided? Drop them?"
      ]
    },
    {
      "cell_type": "markdown",
      "metadata": {
        "id": "b_geCm0n5Ick"
      },
      "source": [
        "Retrieves whole table"
      ]
    },
    {
      "cell_type": "code",
      "execution_count": 141,
      "metadata": {
        "id": "5cTxZm8kpFB_"
      },
      "outputs": [],
      "source": [
        "# all_qa_id = df_qa_cleaned[\"table_id\"].unique()\n",
        "# all_table_id = df_tables[\"table_id\"].unique()\n",
        "# all_qa_id"
      ]
    },
    {
      "cell_type": "markdown",
      "metadata": {
        "id": "d0O312mZ9Jxs"
      },
      "source": [
        "## Retrieved Table Data Dataset (from API)\n",
        "There are several tables with fewer than 100 rows, which could impact the value sampling process when selecting (e.g., 3 unique sample values) to generate summaries.\n",
        "\n",
        "To address this, our Snellius job code dynamically adjusts the number of samples taken based on the actual row count of each table, ensuring meaningful sampling even for smaller tables."
      ]
    },
    {
      "cell_type": "markdown",
      "metadata": {
        "id": "A_xbGETf9Jxs"
      },
      "source": [
        "We could (and ideally should) have excluded tables that were not present in the table metadata before querying their data from the API to save time and resources. However, we retained these tables in our analysis because we were awaiting potential data availability and wanted to ensure no relevant tables were overlooked (update; the data was never found in the end)."
      ]
    },
    {
      "cell_type": "code",
      "execution_count": 142,
      "metadata": {
        "colab": {
          "base_uri": "https://localhost:8080/",
          "height": 0
        },
        "id": "iDwKdxj_9Jxt",
        "outputId": "5a2b94f0-03d7-4448-daf5-4e24761876a7"
      },
      "outputs": [
        {
          "output_type": "stream",
          "name": "stdout",
          "text": [
            "Number of tables: 567\n",
            "\n"
          ]
        }
      ],
      "source": [
        "num_tables = len(table_data_dfs)\n",
        "\n",
        "print(f\"Number of tables: {num_tables}\\n\")"
      ]
    },
    {
      "cell_type": "markdown",
      "metadata": {
        "id": "f2CApNgq9Jxt"
      },
      "source": [
        "### EDA on Rows"
      ]
    },
    {
      "cell_type": "code",
      "execution_count": 143,
      "metadata": {
        "colab": {
          "base_uri": "https://localhost:8080/",
          "height": 0
        },
        "id": "ovS3wweY9Jxt",
        "outputId": "40814249-4ffe-42cc-a6ef-be9ed53c0f09"
      },
      "outputs": [
        {
          "output_type": "stream",
          "name": "stdout",
          "text": [
            "\n",
            " Row Count Statistics:\n",
            "count     567.00\n",
            "mean     5307.76\n",
            "std      4415.29\n",
            "min         2.00\n",
            "10%        95.60\n",
            "25%       540.00\n",
            "50%      4860.00\n",
            "75%      9999.00\n",
            "90%      9999.00\n",
            "95%      9999.00\n",
            "max      9999.00\n",
            "Name: num_rows, dtype: float64\n"
          ]
        }
      ],
      "source": [
        "table_observations = {k: len(v) for k, v in table_data_dfs.items()} #rows\n",
        "\n",
        "# Convert row counts to a Series\n",
        "table_lengths_series = pd.Series(table_observations, name=\"num_rows\")\n",
        "\n",
        "# Describe it\n",
        "row_stats = table_lengths_series.describe(percentiles=[0.1, 0.25, 0.5, 0.75, 0.9, 0.95])\n",
        "\n",
        "print(f\"\\n Row Count Statistics:\\n{row_stats.round(2)}\")"
      ]
    },
    {
      "cell_type": "code",
      "execution_count": 144,
      "metadata": {
        "colab": {
          "base_uri": "https://localhost:8080/",
          "height": 607
        },
        "id": "_SogrY449Jxt",
        "outputId": "ca86c797-65bd-4adc-fc55-6e7a87abdd77"
      },
      "outputs": [
        {
          "output_type": "display_data",
          "data": {
            "text/plain": [
              "<Figure size 1000x600 with 1 Axes>"
            ],
            "image/png": "[encoded data removed]"
          },
          "metadata": {}
        }
      ],
      "source": [
        "num_tables = len(table_lengths_series)\n",
        "\n",
        "# Define bins and labels\n",
        "bins = [0, 10, 50, 100, 500, 1000, 5000, float('inf')]\n",
        "labels = [\"0–10\", \"11–50\", \"51–100\", \"101–500\", \"501–1000\", \"1001–5000\", \"5000+\"]\n",
        "\n",
        "# Bin the data\n",
        "binned = pd.cut(table_lengths_series, bins=bins, labels=labels, right=True)\n",
        "binned_counts = binned.value_counts().sort_index()\n",
        "\n",
        "# Calculate cumulative distribution\n",
        "cumulative = binned_counts.cumsum() / num_tables * 100  # percent\n",
        "\n",
        "# Plot bar chart\n",
        "fig, ax1 = plt.subplots(figsize=(10, 6))\n",
        "binned_counts.plot(kind='bar', ax=ax1, color='skyblue', edgecolor='black')\n",
        "\n",
        "# Bar annotations\n",
        "for i, count in enumerate(binned_counts):\n",
        "    ax1.text(i, count + 0.5, str(count), ha='center', va='bottom', fontsize=9)\n",
        "\n",
        "ax1.set_title(\"Distribution of Retrieved Table Sizes (Row Counts)\")\n",
        "ax1.set_xlabel(\"Row Count Range\")\n",
        "ax1.set_ylabel(\"Number of Tables\")\n",
        "ax1.set_xticklabels(labels, rotation=45)\n",
        "ax1.grid(axis='y')\n",
        "\n",
        "plt.tight_layout()\n",
        "plt.savefig(f\"{folder}/table_row_count_distribution.pdf\")\n",
        "plt.show()\n"
      ]
    },
    {
      "cell_type": "markdown",
      "metadata": {
        "id": "acmiIVA-9Jxu"
      },
      "source": [
        "### EDA on Columns"
      ]
    },
    {
      "cell_type": "markdown",
      "metadata": {
        "id": "WapsGBag9Jxu"
      },
      "source": [
        "##### Column counts across all tables"
      ]
    },
    {
      "cell_type": "code",
      "execution_count": 145,
      "metadata": {
        "colab": {
          "base_uri": "https://localhost:8080/",
          "height": 0
        },
        "id": "ewWu7gp_9Jxu",
        "outputId": "573966ff-a864-464d-8068-aa88ab74a5f1"
      },
      "outputs": [
        {
          "output_type": "stream",
          "name": "stdout",
          "text": [
            " Descriptive column stats:\n",
            " count    567.000000\n",
            "mean      35.186949\n",
            "std       78.414030\n",
            "min        3.000000\n",
            "25%        7.000000\n",
            "50%       11.000000\n",
            "75%       24.000000\n",
            "90%       86.800000\n",
            "95%      152.700000\n",
            "max      674.000000\n",
            "Name: num_columns, dtype: float64\n",
            "\n",
            "Total number of columns across all tables: 19951\n",
            "\n",
            "Number of tables with more than (> 153 columns): 29\n"
          ]
        }
      ],
      "source": [
        "# Get the number of columns for each table\n",
        "column_counts = pd.Series({table_id: df.shape[1] for table_id, df in table_data_dfs.items()}, name=\"num_columns\")\n",
        "\n",
        "# Get descriptive statistics including 90th percentile\n",
        "column_stats = column_counts.describe(percentiles=[0.25, 0.5, 0.75, 0.9, 0.95])\n",
        "\n",
        "# Get the 95th percentile value\n",
        "p95 = column_stats.loc['95%']\n",
        "\n",
        "# Count how many tables exceed the 90th percentile\n",
        "count_above_95th = (column_counts > p95).sum()\n",
        "\n",
        "print(\" Descriptive column stats:\\n\", column_stats)\n",
        "\n",
        "total_columns = column_counts.sum()\n",
        "print(f\"\\nTotal number of columns across all tables: {total_columns}\")\n",
        "print(f\"\\nNumber of tables with more than (> {round(p95)} columns): {count_above_95th}\")"
      ]
    },
    {
      "cell_type": "code",
      "execution_count": 146,
      "metadata": {
        "colab": {
          "base_uri": "https://localhost:8080/",
          "height": 607
        },
        "id": "tH6Tikl19Jxu",
        "outputId": "22d1b226-475b-4337-96a6-3e7e2fdda11c"
      },
      "outputs": [
        {
          "output_type": "display_data",
          "data": {
            "text/plain": [
              "<Figure size 1000x600 with 1 Axes>"
            ],
            "image/png": "[encoded data removed]"
          },
          "metadata": {}
        }
      ],
      "source": [
        "num_tables = len(column_counts)\n",
        "\n",
        "# Define bins & labels for column counts\n",
        "bins = [1, 10, 50, 100, 500, float('inf')]\n",
        "labels = [\"1–10\", \"11–50\", \"51–100\", \"101–500\", \"500+\"]\n",
        "\n",
        "# Bin the column counts\n",
        "binned_cols = pd.cut(column_counts, bins=bins, labels=labels, right=True)\n",
        "binned_counts = binned_cols.value_counts().sort_index()\n",
        "\n",
        "# Calculate cumulative distribution in %\n",
        "cumulative = binned_counts.cumsum() / num_tables * 100\n",
        "\n",
        "# Plot bar chart with cumulative line\n",
        "fig, ax1 = plt.subplots(figsize=(10, 6))\n",
        "binned_counts.plot(kind='bar', ax=ax1, color='skyblue', edgecolor='black')\n",
        "\n",
        "# Bar labels\n",
        "for i, count in enumerate(binned_counts):\n",
        "    ax1.text(i, count + 0.5, str(count), ha='center', va='bottom', fontsize=10)\n",
        "\n",
        "ax1.set_title(\"Distribution of Retrieved Table Sizes (Column Counts)\", fontsize=16)\n",
        "ax1.set_xlabel(\"Column Count Range\", fontsize=14)\n",
        "ax1.set_ylabel(\"Number of Tables\", fontsize=14)\n",
        "ax1.set_xticklabels(labels, rotation=45, fontsize=12)\n",
        "ax1.grid(axis='y')\n",
        "\n",
        "plt.tight_layout()\n",
        "plt.savefig(\"table_column_count_distribution.pdf\")\n",
        "plt.show()\n"
      ]
    },
    {
      "cell_type": "markdown",
      "metadata": {
        "id": "yG4a2Iic9Jxv"
      },
      "source": [
        "57 tables with more than 85 columns, with some extreme outliers (might be really slow for these cases)"
      ]
    },
    {
      "cell_type": "markdown",
      "metadata": {
        "id": "1AU3p96E9Jxv"
      },
      "source": [
        "##### Frequency count of column names across all tables\n",
        "To reduce the number of summaries, one idea is to group columns by their header names across tables. However, even with the same header, the values and surrounding context of that column could differ, leading to different interpretations. So relying only on column names might ignore important differences.\n",
        "\n",
        "However, it could still be interesting for generalization. If multiple summaries are generated for the same column name, we could try a self-consistency approach by selecting the most frequent one. This might be useful when there's no clear ground truth, like when inferring column types or generating summaries. It's a probably a direction worth exploring if time allows. Or naively generate one to potentially save time and costs."
      ]
    },
    {
      "cell_type": "code",
      "execution_count": 147,
      "metadata": {
        "id": "d8N3fPko9Jxv"
      },
      "outputs": [],
      "source": [
        "all_column_names = []\n",
        "column_types_per_table = {}\n",
        "\n",
        "for table_id, df in table_data_dfs.items():\n",
        "    all_column_names.extend(df.columns.astype(str))\n",
        "    column_types_per_table[table_id] = dict(df.dtypes.astype(str))\n",
        "\n",
        "    # Count how often each column name appears\n",
        "column_name_counts = Counter(all_column_names)\n",
        "\n",
        "common_columns = column_name_counts.most_common()"
      ]
    },
    {
      "cell_type": "code",
      "execution_count": 148,
      "metadata": {
        "colab": {
          "base_uri": "https://localhost:8080/",
          "height": 0
        },
        "id": "2Ee9CVYD9Jxv",
        "outputId": "e6308284-856a-42be-fb60-1697fd77ddf8"
      },
      "outputs": [
        {
          "output_type": "execute_result",
          "data": {
            "text/plain": [
              "[('ID', 567),\n",
              " ('Perioden', 532),\n",
              " ('Geslacht', 132),\n",
              " ('RegioS', 108),\n",
              " ('Leeftijd', 78),\n",
              " ('BedrijfstakkenBranchesSBI2008', 60),\n",
              " ('Marges', 52),\n",
              " ('Persoonskenmerken', 32),\n",
              " ('WijkenEnBuurten', 21),\n",
              " ('Gemeentenaam_1', 19),\n",
              " ('SoortRegio_2', 19),\n",
              " ('Codering_3', 19),\n",
              " ('Herkomstland', 14),\n",
              " ('Migratieachtergrond', 13),\n",
              " ('Nationaliteit', 13),\n",
              " ('BevolkingOp1Januari_1', 12),\n",
              " ('IndelingswijzigingWijkenEnBuurten_4', 12),\n",
              " ('Kenmerken', 12),\n",
              " ('BeroepsEnNietBeroepsbevolking_1', 11),\n",
              " ('ParticuliereHuishoudens_1', 11),\n",
              " ('KenmerkenVanHuishoudens', 11),\n",
              " ('Totaal_1', 10),\n",
              " ('LeeftijdOp31December', 10),\n",
              " ('GeboortelandOuders', 9),\n",
              " ('Regiokenmerken', 9)]"
            ]
          },
          "metadata": {},
          "execution_count": 148
        }
      ],
      "source": [
        "common_columns[0:25]"
      ]
    },
    {
      "cell_type": "code",
      "execution_count": 149,
      "metadata": {
        "colab": {
          "base_uri": "https://localhost:8080/",
          "height": 0
        },
        "id": "spG3TxPo9Jxv",
        "outputId": "d7c3639a-bd29-4092-df99-52db5cd77c51"
      },
      "outputs": [
        {
          "output_type": "stream",
          "name": "stdout",
          "text": [
            "Total number of columns across all tables: 19951\n",
            "Number of unique column headers that appear in more than one table: 2959\n",
            "Total number of repeated column header appearances across tables: 9557\n"
          ]
        }
      ],
      "source": [
        "# Count how often each column name appears\n",
        "column_name_counts = Counter(all_column_names)\n",
        "\n",
        "# Filter for column names that occur more than once\n",
        "repeated_columns = {col: count for col, count in column_name_counts.items() if count > 1}\n",
        "\n",
        "# Total number of such repeated columns\n",
        "total_repeated_column_headers = len(repeated_columns)\n",
        "\n",
        "# Total appearances of repeated column names (including duplicates)\n",
        "total_repeated_column_appearances = sum(repeated_columns.values())\n",
        "\n",
        "# Total number of columns across all tables\n",
        "total_columns = sum(column_name_counts.values())\n",
        "\n",
        "print(f\"Total number of columns across all tables: {total_columns}\")\n",
        "print(f\"Number of unique column headers that appear in more than one table: {total_repeated_column_headers}\")\n",
        "print(f\"Total number of repeated column header appearances across tables: {total_repeated_column_appearances}\")\n"
      ]
    },
    {
      "cell_type": "markdown",
      "metadata": {
        "id": "YHxBN5p69Jxw"
      },
      "source": [
        "##### Column Header Name Lengths"
      ]
    },
    {
      "cell_type": "code",
      "execution_count": 150,
      "metadata": {
        "colab": {
          "base_uri": "https://localhost:8080/",
          "height": 0
        },
        "id": "cHhDBulT9Jxw",
        "outputId": "7ae8970e-f954-422d-9598-09a2003bbdb5"
      },
      "outputs": [
        {
          "output_type": "stream",
          "name": "stdout",
          "text": [
            "Column Header Length Stats:\n",
            " count    19951.00\n",
            "mean        21.02\n",
            "std          9.71\n",
            "min          2.00\n",
            "25%         13.00\n",
            "50%         21.00\n",
            "75%         29.00\n",
            "90%         35.00\n",
            "95%         37.00\n",
            "max         42.00\n",
            "Name: column_name_length, dtype: float64\n",
            "\n",
            "Average column header length: 21.02\n",
            "Max column header length: 42\n",
            "\n",
            "Top 10 longest column headers:\n",
            "OnderwijsvoorzieningenJonggehandicapten_33 (42 characters)\n",
            "OnderwijsvoorzieningenJonggehandicapten_10 (42 characters)\n",
            "TotaalWerkelijkeIndividueleConsumptie_203 (41 characters)\n",
            "BetaaldeInkomensoverdrachtenBuitenland_82 (41 characters)\n",
            "k_78UitzendbureausEnArbeidsbemiddeling_51 (41 characters)\n",
            "FunctieroulatieDetacheringStudiebezoek_31 (41 characters)\n",
            "ElektrotechnischeEnOptischeApparatuur_166 (41 characters)\n",
            "k_2TaalwetenschappenGeschiedenisKunst_117 (41 characters)\n",
            "FinancieringsverschilBudgetOpbrengsten_78 (41 characters)\n",
            "SeizoengecorrigeerdeDagomzetBinnenland_11 (41 characters)\n"
          ]
        }
      ],
      "source": [
        "# Initialize lists and dictionaries\n",
        "all_column_names = []\n",
        "column_name_lengths = []  # To store lengths of column names\n",
        "column_types_per_table = {}\n",
        "\n",
        "# Iterate over all tables\n",
        "for table_id, df in table_data_dfs.items():\n",
        "    col_names = df.columns.astype(str)\n",
        "    all_column_names.extend(col_names)\n",
        "    column_name_lengths.extend([len(col) for col in col_names])  # Length of each column name\n",
        "    column_types_per_table[table_id] = dict(df.dtypes.astype(str))\n",
        "\n",
        "# Basic statistics on column header lengths (rounded)\n",
        "col_len_series = pd.Series(column_name_lengths, name=\"column_name_length\")\n",
        "col_len_stats = col_len_series.describe(percentiles=[0.25, 0.5, 0.75, 0.9, 0.95]).round(2)\n",
        "\n",
        "print(\"Column Header Length Stats:\\n\", col_len_stats)\n",
        "print(f\"\\nAverage column header length: {col_len_series.mean():.2f}\")\n",
        "print(f\"Max column header length: {col_len_series.max()}\")\n",
        "\n",
        "# If you want to see the longest column names\n",
        "longest_cols = [(col, len(col)) for col in set(all_column_names)]\n",
        "longest_cols_sorted = sorted(longest_cols, key=lambda x: x[1], reverse=True)[:10]\n",
        "\n",
        "print(\"\\nTop 10 longest column headers:\")\n",
        "for name, length in longest_cols_sorted:\n",
        "    print(f\"{name} ({length} characters)\")\n"
      ]
    },
    {
      "cell_type": "code",
      "execution_count": 151,
      "metadata": {
        "colab": {
          "base_uri": "https://localhost:8080/",
          "height": 407
        },
        "id": "j3zldY659Jxw",
        "outputId": "a468fe0a-d579-4caf-e6ac-2e3cf5f107d4"
      },
      "outputs": [
        {
          "output_type": "display_data",
          "data": {
            "text/plain": [
              "<Figure size 800x400 with 1 Axes>"
            ],
            "image/png": "[encoded data removed]"
          },
          "metadata": {}
        }
      ],
      "source": [
        "plt.figure(figsize=(8, 4))\n",
        "sns.histplot(column_name_lengths, bins=range(1, max(column_name_lengths)+2), kde=False, color=\"orange\")\n",
        "plt.title(\"Distribution of Column Name Lengths\")\n",
        "plt.xlabel(\"Length of Column Name (characters)\")\n",
        "plt.ylabel(\"Frequency\")\n",
        "plt.grid(True)\n",
        "plt.tight_layout()\n",
        "plt.show()\n"
      ]
    },
    {
      "cell_type": "markdown",
      "metadata": {
        "id": "ETBgMRqNcutb"
      },
      "source": [
        "# Preprocess Data + some additional EDA"
      ]
    },
    {
      "cell_type": "markdown",
      "metadata": {
        "id": "oZHMMDRz9UMH"
      },
      "source": [
        "## Helper functions"
      ]
    },
    {
      "cell_type": "markdown",
      "metadata": {
        "id": "iYnJMrBt9mU7"
      },
      "source": [
        "### Cleaning Text and Columns for BM25"
      ]
    },
    {
      "cell_type": "markdown",
      "metadata": {
        "id": "BBtmAmaR9agZ"
      },
      "source": [
        "Data Cleaning helper functions needed to stringify the tables dataset itself, and tokenizer for bm25"
      ]
    },
    {
      "cell_type": "code",
      "execution_count": 152,
      "metadata": {
        "id": "rjm7GOnNeLDQ"
      },
      "outputs": [],
      "source": [
        "def clean_text_string(text):\n",
        "    if isinstance(text, str):\n",
        "        return text.replace('\\n', ' ').strip()\n",
        "    return text  # leave unchanged if not a string\n",
        "\n",
        "def clean_text_column(df, column_name):\n",
        "    df[column_name] = df[column_name].apply(clean_text_string)\n",
        "    return df\n",
        "\n",
        "def safe_eval_keywords(x):\n",
        "    return ast.literal_eval(x) if pd.notnull(x) else []\n",
        "\n",
        "def combine_metadata_fields(row, columns=None):\n",
        "    \"\"\"\n",
        "    Concatenate selected fields from a DataFrame row into a single string.\n",
        "\n",
        "    Args:\n",
        "        row (pd.Series): A row from a DataFrame.\n",
        "        columns (list): List of column names to concatenate. If None, all columns are used by default.\n",
        "\n",
        "    Returns:\n",
        "        str: Concatenated string of the metadata.\n",
        "    \"\"\"\n",
        "    if columns is None:\n",
        "        columns = row.index  # Use all columns if none specified\n",
        "\n",
        "    pieces = []\n",
        "    for col in columns:\n",
        "        value = row[col]\n",
        "\n",
        "        if isinstance(value, list):\n",
        "            pieces.append(' '.join(map(str, value)))\n",
        "        elif pd.notnull(value):\n",
        "            pieces.append(str(value))\n",
        "\n",
        "    return ' '.join(pieces).strip()\n",
        "\n"
      ]
    },
    {
      "cell_type": "markdown",
      "metadata": {
        "id": "ihkPa7uK9ojx"
      },
      "source": [
        "### Preprocessing for BM25"
      ]
    },
    {
      "cell_type": "markdown",
      "metadata": {
        "id": "fuienFGD9w24"
      },
      "source": [
        "BM25 expects a specific token format (where tokens are just words, as exact term matching is performed)\n",
        "\n",
        "We preprocessing these tokens as follows: lowercasing & non alphanumeric from metadata columns (excl table id)\n",
        "Could make reflections on normalization gain and potential information loss due to ambiguity (i.e. Apple the brand vs apple the fruit)\n",
        "\n",
        "note Spacy too much overhead, regex same result for our usecase"
      ]
    },
    {
      "cell_type": "code",
      "execution_count": 153,
      "metadata": {
        "id": "q0dkRxOU9o1b"
      },
      "outputs": [],
      "source": [
        "def tokenize_text(text):\n",
        "    \"\"\"\n",
        "\n",
        "    Args:\n",
        "    - text (str): The text to be cleaned.\n",
        "\n",
        "    Returns:\n",
        "    - list: A list of cleaned, tokenized words.\n",
        "    \"\"\"\n",
        "    # Remove non-alphanumeric characters (keeping spaces)\n",
        "    cleaned_text = re.sub(r'[^a-zA-Z0-9\\s]', '', text)\n",
        "\n",
        "    # Convert to lowercase to normalize the text\n",
        "    cleaned_text = cleaned_text.lower()\n",
        "\n",
        "    # Tokenize by splitting on spaces (this will now give full words)\n",
        "    tokens = cleaned_text.split()\n",
        "\n",
        "    return tokens\n",
        "\n",
        "# # Enable Spacy GPU before loading the model\n",
        "# activated = spacy.prefer_gpu()\n",
        "# # Load Dutch model once\n",
        "# nlp = spacy.load(\"nl_core_news_sm\")\n",
        "\n",
        "# def spacy_tokenizer(text: str) -> List[str]:\n",
        "#     \"\"\"\n",
        "#     Tokenize Dutch text using spaCy.\n",
        "#     Clean and tokenize text by removing non-alphanumeric characters and converting to lowercase.\n",
        "\n",
        "\n",
        "#     Args:\n",
        "#         text (str): Input string.\n",
        "\n",
        "#     Returns:\n",
        "#         List[str]: Token list.\n",
        "#     \"\"\"\n",
        "#     doc = nlp(text)\n",
        "#     return [token.text.lower() for token in doc if not token.is_punct and not token.is_space]\n",
        "\n",
        "# #Testing, regex LGTM, spacy = overkill\n",
        "\n",
        "# dutch_text = \"\"\"\n",
        "# In dit onderzoek analyseren we de gegevens van verschillende tabellen die afkomstig zijn van open overheidsdatabronnen.\n",
        "# Elke tabel bevat kolomnamen zoals [\"Gemeente\", \"Bevolking\", \"Inkomen per huishouden\", \"Jaar\"].\n",
        "# De bedoeling is om inzicht te krijgen in hoe Nederlandse gemeenten verschillen op basis van sociaaleconomische factoren.\n",
        "\n",
        "# Daarnaast willen we kijken naar trends over tijd. Bijvoorbeeld, hoe heeft het gemiddeld inkomen per huishouden zich ontwikkeld tussen 2010 en 2020?\n",
        "# Hiervoor gebruiken we kolommen als [\"Jaar\", \"Gemiddeld Inkomen\", \"Huishoudenstype\"].\n",
        "\n",
        "# Het is belangrijk om dubbele kolomnamen correct te interpreteren, vooral als de waarden qua context verschillen.\n",
        "# Sommige datasets gebruiken de kolom \"Inkomen\" om bruto-inkomen aan te duiden, terwijl andere \"Inkomen\" bedoelen als netto-inkomen.\n",
        "\n",
        "# Verder bevat elke tabel rijen met gegevens, zoals:\n",
        "# [\"Amsterdam\", 872757, 42000, 2020]\n",
        "# [\"Rotterdam\", 651157, 37000, 2020]\n",
        "\n",
        "# Deze data wordt vervolgens geschoond, getokenized en verwerkt met behulp van BM25 om de relevantste tabellen te vinden bij een gebruikersvraag.\n",
        "# \"\"\"\n",
        "\n",
        "# spacy_tokenizer(dutch_text)\n",
        "# tokenize_text(dutch_text)"
      ]
    },
    {
      "cell_type": "markdown",
      "metadata": {
        "id": "5JivkEJ69Jxx"
      },
      "source": [
        "### Concatinating Original Metadata"
      ]
    },
    {
      "cell_type": "code",
      "execution_count": 154,
      "metadata": {
        "id": "XQb-5Qnl9Jxy"
      },
      "outputs": [],
      "source": [
        "columns_to_concat = ['table_desc', 'expanded_desc', 'Keywords', 'Summary']\n",
        "\n",
        "def clean_and_concat(row, columns_to_concat):\n",
        "    \"\"\"Clean selected columns by removing all \\\\n and \\n and reducing whitespace to single space.\"\"\"\n",
        "    pattern_newlines = re.compile(r'(\\\\n|\\n)+')\n",
        "    pattern_whitespace = re.compile(r'\\s+')\n",
        "\n",
        "    cleaned_parts = []\n",
        "    for col in columns_to_concat:\n",
        "        # Convert to string, replace newlines with space\n",
        "        cleaned = pattern_newlines.sub(' ', str(row[col]))\n",
        "        # Reduce multiple whitespace chars to a single space\n",
        "        cleaned = pattern_whitespace.sub(' ', cleaned).strip()\n",
        "        cleaned_parts.append(cleaned)\n",
        "\n",
        "    return ' '.join(cleaned_parts)\n",
        "\n",
        "df_tables['original_metadata_text'] = df_tables.apply(\n",
        "    lambda row: clean_and_concat(row, columns_to_concat),\n",
        "    axis=1\n",
        ")\n"
      ]
    },
    {
      "cell_type": "code",
      "execution_count": 155,
      "metadata": {
        "id": "M7-1aszi9Jxy"
      },
      "outputs": [],
      "source": [
        "# df_tables['original_metadata_text'][0]"
      ]
    },
    {
      "cell_type": "markdown",
      "metadata": {
        "id": "5ZBuzwN09Jxy"
      },
      "source": [
        "## CENTRALIZED dataframe of tables Metadata + Table Schema Data (Flattened) to create docs"
      ]
    },
    {
      "cell_type": "code",
      "execution_count": 156,
      "metadata": {
        "id": "4aaFisaF9Jxy"
      },
      "outputs": [],
      "source": [
        "# Step 1: Get formatted data\n",
        "formatted_tables\n",
        "\n",
        "# Step 2: Convert the result to a DataFrame\n",
        "info_df = pd.DataFrame.from_dict(formatted_tables, orient='index')\n",
        "info_df.reset_index(inplace=True)\n",
        "info_df.rename(columns={'index': 'table_id'}, inplace=True)\n",
        "\n",
        "# Step 3: Merge with df_tables on 'table_id'\n",
        "new_columns = ['raw_columns_string', 'columns_string', 'column_samples_string', 'example_rows_string']\n",
        "if not all(col in df_tables.columns for col in new_columns):\n",
        "    df_tables = df_tables.merge(info_df, on='table_id', how='left')"
      ]
    },
    {
      "cell_type": "markdown",
      "metadata": {
        "id": "YheBBqlH9Jxy"
      },
      "source": [
        "### EDA Original metadata text length"
      ]
    },
    {
      "cell_type": "code",
      "execution_count": 157,
      "metadata": {
        "colab": {
          "base_uri": "https://localhost:8080/",
          "height": 380
        },
        "id": "gqGTewOz9Jxy",
        "outputId": "4044f604-ac1c-4290-9a71-438e4166d33b"
      },
      "outputs": [
        {
          "output_type": "execute_result",
          "data": {
            "text/plain": [
              "   table_id                                         table_desc  \\\n",
              "0  70072ned  Regionale kerncijfers Nederland \\nIn deze tabe...   \n",
              "1  60048ned  Verhuisde personen; regio \\nDeze tabel bevat g...   \n",
              "2  85539NED  SES-WOA scores per wijk en buurt \\nDeze tabel ...   \n",
              "3  80783ned  Landbouw; hoofdbedrijfstype, regio \\nDeze tabe...   \n",
              "4  85163NED  SES-WOA scores per wijk en buurt \\nDeze tabel ...   \n",
              "\n",
              "                                       expanded_desc  \\\n",
              "0                    Regionale kerncijfers Nederland   \n",
              "1  Verhuisde personen; binnen gemeenten, tussen r...   \n",
              "2  Sociaal-economische status; scores per wijk en...   \n",
              "3  Landbouw; gewassen, dieren en grondgebruik naa...   \n",
              "4  Sociaal-economische status; scores per wijk en...   \n",
              "\n",
              "                                            Keywords  \\\n",
              "0  ['Regionale kerncijfers Nederland', 'oud papie...   \n",
              "1  ['Verhuisde personen', 'binnen gemeenten', 'tu...   \n",
              "2  ['Sociaal-economische status', 'scores', 'wijk...   \n",
              "3  ['Landbouw', 'Gewassen', 'Dieren', 'Grondgebru...   \n",
              "4  ['Sociaal-economische status', 'Wijk en buurt'...   \n",
              "\n",
              "                                             Summary  \\\n",
              "0  Deze tabel kan geraadpleegd worden indien gege...   \n",
              "1  Deze tabel kan geraadpleegd worden indien men ...   \n",
              "2  Deze tabel kan geraadpleegd worden indien men ...   \n",
              "3  Deze tabel kan geraadpleegd worden indien men ...   \n",
              "4  Deze tabel kan geraadpleegd worden indien men ...   \n",
              "\n",
              "                              original_metadata_text  \\\n",
              "0  Regionale kerncijfers Nederland In deze tabel ...   \n",
              "1  Verhuisde personen; regio Deze tabel bevat geg...   \n",
              "2  SES-WOA scores per wijk en buurt Deze tabel be...   \n",
              "3  Landbouw; hoofdbedrijfstype, regio Deze tabel ...   \n",
              "4  SES-WOA scores per wijk en buurt Deze tabel be...   \n",
              "\n",
              "                                  raw_columns_string  \\\n",
              "0  ID | RegioS | Perioden | TotaleBevolking_1 | M...   \n",
              "1  ID | RegioS | Perioden | BinnenGemeentenVerhui...   \n",
              "2  ID | WijkenEnBuurten | Perioden | RegiocodeGem...   \n",
              "3  ID | Bedrijfstypen | RegioS | Perioden | Aanta...   \n",
              "4  ID | WijkenEnBuurten | Perioden | RegiocodeGem...   \n",
              "\n",
              "                                      columns_string  \\\n",
              "0  I D | Regio S | Perioden | Totale Bevolking | ...   \n",
              "1  I D | Regio S | Perioden | Binnen Gemeenten Ve...   \n",
              "2  I D | Wijken En Buurten | Perioden | Regiocode...   \n",
              "3  I D | Bedrijfstypen | Regio S | Perioden | Aan...   \n",
              "4  I D | Wijken En Buurten | Perioden | Regiocode...   \n",
              "\n",
              "                               column_samples_string  \\\n",
              "0  ID: [7188, 5781, 8299] | RegioS: ['GM1774', 'G...   \n",
              "1  ID: [608, 4179, 713] | RegioS: ['GM1876', 'GM0...   \n",
              "2  ID: [811, 1917, 3389] | WijkenEnBuurten: ['BU0...   \n",
              "3  ID: [9747, 5218, 3448] | Bedrijfstypen: ['A009...   \n",
              "4  ID: [685, 2619, 8844] | WijkenEnBuurten: ['BU1...   \n",
              "\n",
              "                                 example_rows_string  \n",
              "0  ID: 6312 | RegioS: 'GM1719' | Perioden: '2007J...  \n",
              "1  ID: 6312 | RegioS: 'GM1876' | Perioden: '2000J...  \n",
              "2  ID: 6312 | WijkenEnBuurten: 'BU04847015' | Per...  \n",
              "3  ID: 6312 | Bedrijfstypen: 'A009481' | RegioS: ...  \n",
              "4  ID: 6312 | WijkenEnBuurten: 'WK036315  ' | Per...  "
            ],
            "text/html": [
              "\n",
              "  <div id=\"df-5bb39959-b83e-4910-a518-982e6e3ab2e2\" class=\"colab-df-container\">\n",
              "    <div>\n",
              "<style scoped>\n",
              "    .dataframe tbody tr th:only-of-type {\n",
              "        vertical-align: middle;\n",
              "    }\n",
              "\n",
              "    .dataframe tbody tr th {\n",
              "        vertical-align: top;\n",
              "    }\n",
              "\n",
              "    .dataframe thead th {\n",
              "        text-align: right;\n",
              "    }\n",
              "</style>\n",
              "<table border=\"1\" class=\"dataframe\">\n",
              "  <thead>\n",
              "    <tr style=\"text-align: right;\">\n",
              "      <th></th>\n",
              "      <th>table_id</th>\n",
              "      <th>table_desc</th>\n",
              "      <th>expanded_desc</th>\n",
              "      <th>Keywords</th>\n",
              "      <th>Summary</th>\n",
              "      <th>original_metadata_text</th>\n",
              "      <th>raw_columns_string</th>\n",
              "      <th>columns_string</th>\n",
              "      <th>column_samples_string</th>\n",
              "      <th>example_rows_string</th>\n",
              "    </tr>\n",
              "  </thead>\n",
              "  <tbody>\n",
              "    <tr>\n",
              "      <th>0</th>\n",
              "      <td>70072ned</td>\n",
              "      <td>Regionale kerncijfers Nederland \\nIn deze tabe...</td>\n",
              "      <td>Regionale kerncijfers Nederland</td>\n",
              "      <td>['Regionale kerncijfers Nederland', 'oud papie...</td>\n",
              "      <td>Deze tabel kan geraadpleegd worden indien gege...</td>\n",
              "      <td>Regionale kerncijfers Nederland In deze tabel ...</td>\n",
              "      <td>ID | RegioS | Perioden | TotaleBevolking_1 | M...</td>\n",
              "      <td>I D | Regio S | Perioden | Totale Bevolking | ...</td>\n",
              "      <td>ID: [7188, 5781, 8299] | RegioS: ['GM1774', 'G...</td>\n",
              "      <td>ID: 6312 | RegioS: 'GM1719' | Perioden: '2007J...</td>\n",
              "    </tr>\n",
              "    <tr>\n",
              "      <th>1</th>\n",
              "      <td>60048ned</td>\n",
              "      <td>Verhuisde personen; regio \\nDeze tabel bevat g...</td>\n",
              "      <td>Verhuisde personen; binnen gemeenten, tussen r...</td>\n",
              "      <td>['Verhuisde personen', 'binnen gemeenten', 'tu...</td>\n",
              "      <td>Deze tabel kan geraadpleegd worden indien men ...</td>\n",
              "      <td>Verhuisde personen; regio Deze tabel bevat geg...</td>\n",
              "      <td>ID | RegioS | Perioden | BinnenGemeentenVerhui...</td>\n",
              "      <td>I D | Regio S | Perioden | Binnen Gemeenten Ve...</td>\n",
              "      <td>ID: [608, 4179, 713] | RegioS: ['GM1876', 'GM0...</td>\n",
              "      <td>ID: 6312 | RegioS: 'GM1876' | Perioden: '2000J...</td>\n",
              "    </tr>\n",
              "    <tr>\n",
              "      <th>2</th>\n",
              "      <td>85539NED</td>\n",
              "      <td>SES-WOA scores per wijk en buurt \\nDeze tabel ...</td>\n",
              "      <td>Sociaal-economische status; scores per wijk en...</td>\n",
              "      <td>['Sociaal-economische status', 'scores', 'wijk...</td>\n",
              "      <td>Deze tabel kan geraadpleegd worden indien men ...</td>\n",
              "      <td>SES-WOA scores per wijk en buurt Deze tabel be...</td>\n",
              "      <td>ID | WijkenEnBuurten | Perioden | RegiocodeGem...</td>\n",
              "      <td>I D | Wijken En Buurten | Perioden | Regiocode...</td>\n",
              "      <td>ID: [811, 1917, 3389] | WijkenEnBuurten: ['BU0...</td>\n",
              "      <td>ID: 6312 | WijkenEnBuurten: 'BU04847015' | Per...</td>\n",
              "    </tr>\n",
              "    <tr>\n",
              "      <th>3</th>\n",
              "      <td>80783ned</td>\n",
              "      <td>Landbouw; hoofdbedrijfstype, regio \\nDeze tabe...</td>\n",
              "      <td>Landbouw; gewassen, dieren en grondgebruik naa...</td>\n",
              "      <td>['Landbouw', 'Gewassen', 'Dieren', 'Grondgebru...</td>\n",
              "      <td>Deze tabel kan geraadpleegd worden indien men ...</td>\n",
              "      <td>Landbouw; hoofdbedrijfstype, regio Deze tabel ...</td>\n",
              "      <td>ID | Bedrijfstypen | RegioS | Perioden | Aanta...</td>\n",
              "      <td>I D | Bedrijfstypen | Regio S | Perioden | Aan...</td>\n",
              "      <td>ID: [9747, 5218, 3448] | Bedrijfstypen: ['A009...</td>\n",
              "      <td>ID: 6312 | Bedrijfstypen: 'A009481' | RegioS: ...</td>\n",
              "    </tr>\n",
              "    <tr>\n",
              "      <th>4</th>\n",
              "      <td>85163NED</td>\n",
              "      <td>SES-WOA scores per wijk en buurt \\nDeze tabel ...</td>\n",
              "      <td>Sociaal-economische status; scores per wijk en...</td>\n",
              "      <td>['Sociaal-economische status', 'Wijk en buurt'...</td>\n",
              "      <td>Deze tabel kan geraadpleegd worden indien men ...</td>\n",
              "      <td>SES-WOA scores per wijk en buurt Deze tabel be...</td>\n",
              "      <td>ID | WijkenEnBuurten | Perioden | RegiocodeGem...</td>\n",
              "      <td>I D | Wijken En Buurten | Perioden | Regiocode...</td>\n",
              "      <td>ID: [685, 2619, 8844] | WijkenEnBuurten: ['BU1...</td>\n",
              "      <td>ID: 6312 | WijkenEnBuurten: 'WK036315  ' | Per...</td>\n",
              "    </tr>\n",
              "  </tbody>\n",
              "</table>\n",
              "</div>\n",
              "    <div class=\"colab-df-buttons\">\n",
              "\n",
              "  <div class=\"colab-df-container\">\n",
              "    <button class=\"colab-df-convert\" onclick=\"convertToInteractive('df-5bb39959-b83e-4910-a518-982e6e3ab2e2')\"\n",
              "            title=\"Convert this dataframe to an interactive table.\"\n",
              "            style=\"display:none;\">\n",
              "\n",
              "  <svg xmlns=\"http://www.w3.org/2000/svg\" height=\"24px\" viewBox=\"0 -960 960 960\">\n",
              "    <path d=\"M120-120v-720h720v720H120Zm60-500h600v-160H180v160Zm220 220h160v-160H400v160Zm0 220h160v-160H400v160ZM180-400h160v-160H180v160Zm440 0h160v-160H620v160ZM180-180h160v-160H180v160Zm440 0h160v-160H620v160Z\"/>\n",
              "  </svg>\n",
              "    </button>\n",
              "\n",
              "  <style>\n",
              "    .colab-df-container {\n",
              "      display:flex;\n",
              "      gap: 12px;\n",
              "    }\n",
              "\n",
              "    .colab-df-convert {\n",
              "      background-color: #E8F0FE;\n",
              "      border: none;\n",
              "      border-radius: 50%;\n",
              "      cursor: pointer;\n",
              "      display: none;\n",
              "      fill: #1967D2;\n",
              "      height: 32px;\n",
              "      padding: 0 0 0 0;\n",
              "      width: 32px;\n",
              "    }\n",
              "\n",
              "    .colab-df-convert:hover {\n",
              "      background-color: #E2EBFA;\n",
              "      box-shadow: 0px 1px 2px rgba(60, 64, 67, 0.3), 0px 1px 3px 1px rgba(60, 64, 67, 0.15);\n",
              "      fill: #174EA6;\n",
              "    }\n",
              "\n",
              "    .colab-df-buttons div {\n",
              "      margin-bottom: 4px;\n",
              "    }\n",
              "\n",
              "    [theme=dark] .colab-df-convert {\n",
              "      background-color: #3B4455;\n",
              "      fill: #D2E3FC;\n",
              "    }\n",
              "\n",
              "    [theme=dark] .colab-df-convert:hover {\n",
              "      background-color: #434B5C;\n",
              "      box-shadow: 0px 1px 3px 1px rgba(0, 0, 0, 0.15);\n",
              "      filter: drop-shadow(0px 1px 2px rgba(0, 0, 0, 0.3));\n",
              "      fill: #FFFFFF;\n",
              "    }\n",
              "  </style>\n",
              "\n",
              "    <script>\n",
              "      const buttonEl =\n",
              "        document.querySelector('#df-5bb39959-b83e-4910-a518-982e6e3ab2e2 button.colab-df-convert');\n",
              "      buttonEl.style.display =\n",
              "        google.colab.kernel.accessAllowed ? 'block' : 'none';\n",
              "\n",
              "      async function convertToInteractive(key) {\n",
              "        const element = document.querySelector('#df-5bb39959-b83e-4910-a518-982e6e3ab2e2');\n",
              "        const dataTable =\n",
              "          await google.colab.kernel.invokeFunction('convertToInteractive',\n",
              "                                                    [key], {});\n",
              "        if (!dataTable) return;\n",
              "\n",
              "        const docLinkHtml = 'Like what you see? Visit the ' +\n",
              "          '<a target=\"_blank\" href=https://colab.research.google.com/notebooks/data_table.ipynb>data table notebook</a>'\n",
              "          + ' to learn more about interactive tables.';\n",
              "        element.innerHTML = '';\n",
              "        dataTable['output_type'] = 'display_data';\n",
              "        await google.colab.output.renderOutput(dataTable, element);\n",
              "        const docLink = document.createElement('div');\n",
              "        docLink.innerHTML = docLinkHtml;\n",
              "        element.appendChild(docLink);\n",
              "      }\n",
              "    </script>\n",
              "  </div>\n",
              "\n",
              "\n",
              "    <div id=\"df-a1618af8-a280-49b5-9c23-3a16cc939d8a\">\n",
              "      <button class=\"colab-df-quickchart\" onclick=\"quickchart('df-a1618af8-a280-49b5-9c23-3a16cc939d8a')\"\n",
              "                title=\"Suggest charts\"\n",
              "                style=\"display:none;\">\n",
              "\n",
              "<svg xmlns=\"http://www.w3.org/2000/svg\" height=\"24px\"viewBox=\"0 0 24 24\"\n",
              "     width=\"24px\">\n",
              "    <g>\n",
              "        <path d=\"M19 3H5c-1.1 0-2 .9-2 2v14c0 1.1.9 2 2 2h14c1.1 0 2-.9 2-2V5c0-1.1-.9-2-2-2zM9 17H7v-7h2v7zm4 0h-2V7h2v10zm4 0h-2v-4h2v4z\"/>\n",
              "    </g>\n",
              "</svg>\n",
              "      </button>\n",
              "\n",
              "<style>\n",
              "  .colab-df-quickchart {\n",
              "      --bg-color: #E8F0FE;\n",
              "      --fill-color: #1967D2;\n",
              "      --hover-bg-color: #E2EBFA;\n",
              "      --hover-fill-color: #174EA6;\n",
              "      --disabled-fill-color: #AAA;\n",
              "      --disabled-bg-color: #DDD;\n",
              "  }\n",
              "\n",
              "  [theme=dark] .colab-df-quickchart {\n",
              "      --bg-color: #3B4455;\n",
              "      --fill-color: #D2E3FC;\n",
              "      --hover-bg-color: #434B5C;\n",
              "      --hover-fill-color: #FFFFFF;\n",
              "      --disabled-bg-color: #3B4455;\n",
              "      --disabled-fill-color: #666;\n",
              "  }\n",
              "\n",
              "  .colab-df-quickchart {\n",
              "    background-color: var(--bg-color);\n",
              "    border: none;\n",
              "    border-radius: 50%;\n",
              "    cursor: pointer;\n",
              "    display: none;\n",
              "    fill: var(--fill-color);\n",
              "    height: 32px;\n",
              "    padding: 0;\n",
              "    width: 32px;\n",
              "  }\n",
              "\n",
              "  .colab-df-quickchart:hover {\n",
              "    background-color: var(--hover-bg-color);\n",
              "    box-shadow: 0 1px 2px rgba(60, 64, 67, 0.3), 0 1px 3px 1px rgba(60, 64, 67, 0.15);\n",
              "    fill: var(--button-hover-fill-color);\n",
              "  }\n",
              "\n",
              "  .colab-df-quickchart-complete:disabled,\n",
              "  .colab-df-quickchart-complete:disabled:hover {\n",
              "    background-color: var(--disabled-bg-color);\n",
              "    fill: var(--disabled-fill-color);\n",
              "    box-shadow: none;\n",
              "  }\n",
              "\n",
              "  .colab-df-spinner {\n",
              "    border: 2px solid var(--fill-color);\n",
              "    border-color: transparent;\n",
              "    border-bottom-color: var(--fill-color);\n",
              "    animation:\n",
              "      spin 1s steps(1) infinite;\n",
              "  }\n",
              "\n",
              "  @keyframes spin {\n",
              "    0% {\n",
              "      border-color: transparent;\n",
              "      border-bottom-color: var(--fill-color);\n",
              "      border-left-color: var(--fill-color);\n",
              "    }\n",
              "    20% {\n",
              "      border-color: transparent;\n",
              "      border-left-color: var(--fill-color);\n",
              "      border-top-color: var(--fill-color);\n",
              "    }\n",
              "    30% {\n",
              "      border-color: transparent;\n",
              "      border-left-color: var(--fill-color);\n",
              "      border-top-color: var(--fill-color);\n",
              "      border-right-color: var(--fill-color);\n",
              "    }\n",
              "    40% {\n",
              "      border-color: transparent;\n",
              "      border-right-color: var(--fill-color);\n",
              "      border-top-color: var(--fill-color);\n",
              "    }\n",
              "    60% {\n",
              "      border-color: transparent;\n",
              "      border-right-color: var(--fill-color);\n",
              "    }\n",
              "    80% {\n",
              "      border-color: transparent;\n",
              "      border-right-color: var(--fill-color);\n",
              "      border-bottom-color: var(--fill-color);\n",
              "    }\n",
              "    90% {\n",
              "      border-color: transparent;\n",
              "      border-bottom-color: var(--fill-color);\n",
              "    }\n",
              "  }\n",
              "</style>\n",
              "\n",
              "      <script>\n",
              "        async function quickchart(key) {\n",
              "          const quickchartButtonEl =\n",
              "            document.querySelector('#' + key + ' button');\n",
              "          quickchartButtonEl.disabled = true;  // To prevent multiple clicks.\n",
              "          quickchartButtonEl.classList.add('colab-df-spinner');\n",
              "          try {\n",
              "            const charts = await google.colab.kernel.invokeFunction(\n",
              "                'suggestCharts', [key], {});\n",
              "          } catch (error) {\n",
              "            console.error('Error during call to suggestCharts:', error);\n",
              "          }\n",
              "          quickchartButtonEl.classList.remove('colab-df-spinner');\n",
              "          quickchartButtonEl.classList.add('colab-df-quickchart-complete');\n",
              "        }\n",
              "        (() => {\n",
              "          let quickchartButtonEl =\n",
              "            document.querySelector('#df-a1618af8-a280-49b5-9c23-3a16cc939d8a button');\n",
              "          quickchartButtonEl.style.display =\n",
              "            google.colab.kernel.accessAllowed ? 'block' : 'none';\n",
              "        })();\n",
              "      </script>\n",
              "    </div>\n",
              "\n",
              "    </div>\n",
              "  </div>\n"
            ],
            "application/vnd.google.colaboratory.intrinsic+json": {
              "type": "dataframe",
              "variable_name": "df_tables",
              "summary": "{\n  \"name\": \"df_tables\",\n  \"rows\": 494,\n  \"fields\": [\n    {\n      \"column\": \"table_id\",\n      \"properties\": {\n        \"dtype\": \"string\",\n        \"num_unique_values\": 494,\n        \"samples\": [\n          \"84125NED\",\n          \"83102NED\",\n          \"84102NED\"\n        ],\n        \"semantic_type\": \"\",\n        \"description\": \"\"\n      }\n    },\n    {\n      \"column\": \"table_desc\",\n      \"properties\": {\n        \"dtype\": \"string\",\n        \"num_unique_values\": 494,\n        \"samples\": [\n          \"Maneges, sportscholen; exploitatie \\nDeze tabel bevat informatie over maneges en sportscholen die bij de Kamer van Koophandel staan geregistreerd. Van de maneges en sportscholen wordt informatie over hun leden, accommodatie, inzet van vrijwilligers en personeel (niet) in loondienst en de samenstelling van baten en lasten gepresenteerd.\\n\\nGegevens beschikbaar vanaf: 2000 \\nHet onderzoek kent een driejaarlijkse onderzoekscyclus. In 2020 is hiervan eenmalig afgeweken vanwege de bijzondere situatie in dat jaar in verband met het uitbreken van de coronapandemie.\\n\\nStatus van de cijfers: \\nDe cijfers over 2020 en 2021 zijn voorlopig. De overige cijfers in deze tabel zijn definitief.\\n\\nWijzigingen per juni 2023:\\nGegevens over 2021 zijn toegevoegd.\\n\\nWanneer komen er nieuwe cijfers?\\nDe uitkomsten van het verslagjaar 2024 zullen in 2025 beschikbaar komen.\\n\\n Organisaties, cursisten/klanten, accommodatie, personeel en vrijwilligers\\nexploitatiekosten en -opbrengsten, maneges en sportscholen\",\n          \"Asielverzoeken, nareizigers; kerncijfers \\nDeze tabel bevat gegevens over aantallen ingediende asielverzoeken en nareizende gezinsleden (nareizigers) per maand, kwartaal en jaar, onderscheiden naar de nationaliteit, het geslacht en de leeftijdsklasse van de asielzoeker en de nareiziger. Naast het totaal aantal verzoeken zijn ook de aantallen eerste en volgende verzoeken opgenomen. Met ingang van 2016 zijn de eerste verzoeken inclusief relocatie. Er zijn cijfers beschikbaar vanaf januari 2013. De weergegeven cijfers betreffen de asielzoekers die formeel zijn ge\\u00efdentificeerd en geregistreerd. \\n\\nStatus van de cijfers: \\nDe cijfers tot en met 2022 zijn definitief. \\nDe cijfers van 2023 zijn voorlopig. \\n\\nWijzigingen per 22 december 2023:\\nDe voorlopige cijfers over november 2023 zijn toegevoegd.\\n\\nWanneer komen er nieuwe cijfers?\\nMaandelijks worden de nieuwste cijfers gepubliceerd.\\n Asielverzoeken en nareizigers\\nnationaliteit, geslacht en leeftijd\",\n          \"Inkomen, bestedingen, hh.; kerncijfers \\nDeze tabel geeft een beschrijving van transacties van inkomens, bestedingen, besparingen en vermogens van de sector huishoudens in de nationale rekeningen naar verschillende huishoudensgroepen. De huishoudens worden onderscheiden naar de voornaamste bron van inkomen, woonsituatie, samenstelling van het huishouden, leeftijdsklasse van de hoofdkostwinner, 20%-inkomensgroepen en 20%-vermogensgroepen. \\n\\nGegevens beschikbaar vanaf: 2015. \\n\\nStatus van de cijfers: \\nAlle gegevens zijn voorlopig.\\n\\nWijzigingen per 19 oktober 2023: \\nDe cijfers voor 2015-2020 zijn bijgesteld, als gevolg van de bijstellingenbeleid van het CBS. De uitkomsten voor 2021 zijn toegevoegd.\\n\\nWanneer komen er nieuwe cijfers? \\nDe nieuwe cijfers komen in oktober 2024. \\n\\n Kerncijfers inkomens, vermogen en bestedingen van huishoudens\\nHuishoudenskenmerken\"\n        ],\n        \"semantic_type\": \"\",\n        \"description\": \"\"\n      }\n    },\n    {\n      \"column\": \"expanded_desc\",\n      \"properties\": {\n        \"dtype\": \"string\",\n        \"num_unique_values\": 494,\n        \"samples\": [\n          \"Maneges, sportscholen; accommodatie, personeel en exploitatie zzpers\",\n          \"Asielverzoeken en nareizigers; nationaliteit, geslacht leeftijd leeftijdsklasse leeftijdsopbouw leeftijdsgroepen\",\n          \"Inkomen, bestedingen en vermogen huishoudens; kerncijfers, NR toeristische bestedingen doorsnee vermogen\"\n        ],\n        \"semantic_type\": \"\",\n        \"description\": \"\"\n      }\n    },\n    {\n      \"column\": \"Keywords\",\n      \"properties\": {\n        \"dtype\": \"string\",\n        \"num_unique_values\": 494,\n        \"samples\": [\n          \"['Maneges', 'sportscholen', 'accommodatie', 'personeel', 'exploitatie', 'inhuur personeel', 'gehuurde accommodatie', 'rijbak paardensport', 'arbeidsvolume', 'percentage']\",\n          \"['Asielverzoeken', 'nareizigers', 'nationaliteit', 'geslacht', 'leeftijd', 'Albanezen', 'Moldavi\\u00ebrs', 'Soedanezen']\",\n          \"['Inkomen', 'Bestedingen', 'Vermogen', 'Huishoudens', 'Gemiddelde schulden', 'Inkomsten', 'Leeftijdsgroepen', 'Kostwinners', 'Bestedingen huurders', 'Vermogensverdeling']\"\n        ],\n        \"semantic_type\": \"\",\n        \"description\": \"\"\n      }\n    },\n    {\n      \"column\": \"Summary\",\n      \"properties\": {\n        \"dtype\": \"string\",\n        \"num_unique_values\": 494,\n        \"samples\": [\n          \"Deze tabel kan geraadpleegd worden indien men informatie zoekt over maneges en sportscholen, inclusief gegevens over accommodatie, personeel en exploitatie. Het bevat details zoals inhuur van personeel, percentage maneges met gehuurde accommodatie, gebruik van rijbak voor paardensport en verdeling van arbeidsvolume in maneges. Data is beschikbaar voor verschillende jaren, waaronder 2006 en 2015.\",\n          \"Deze tabel kan geraadpleegd worden indien men informatie nodig heeft over asielverzoeken en nareizigers op basis van nationaliteit, geslacht en leeftijd. Specifieke vragen zoals het aantal eerste asielverzoeken van Albanese kinderen van 0 tot 5 jaar in april 2019 en het totaal aantal asielverzoeken van Moldavi\\u00ebrs in het 4e kwartaal van 2017 kunnen hier beantwoord worden.\",\n          \"Deze tabel kan geraadpleegd worden indien men informatie zoekt over inkomen, bestedingen en vermogen van huishoudens. Specifieke gegevens omvatten het gemiddelde bedrag van overige schulden in 2020, totaal inkomen van huishoudens met overige inkomsten in 2019, overig vermogen van 50 tot 65 jarige kostwinners in 2018, werkelijke individuele bestedingen van huurders met huurtoeslag in 2020, en het totaal vermogen van huishoudens in de 4e 20% groep in 2019.\"\n        ],\n        \"semantic_type\": \"\",\n        \"description\": \"\"\n      }\n    },\n    {\n      \"column\": \"original_metadata_text\",\n      \"properties\": {\n        \"dtype\": \"string\",\n        \"num_unique_values\": 494,\n        \"samples\": [\n          \"Maneges, sportscholen; exploitatie Deze tabel bevat informatie over maneges en sportscholen die bij de Kamer van Koophandel staan geregistreerd. Van de maneges en sportscholen wordt informatie over hun leden, accommodatie, inzet van vrijwilligers en personeel (niet) in loondienst en de samenstelling van baten en lasten gepresenteerd. Gegevens beschikbaar vanaf: 2000 Het onderzoek kent een driejaarlijkse onderzoekscyclus. In 2020 is hiervan eenmalig afgeweken vanwege de bijzondere situatie in dat jaar in verband met het uitbreken van de coronapandemie. Status van de cijfers: De cijfers over 2020 en 2021 zijn voorlopig. De overige cijfers in deze tabel zijn definitief. Wijzigingen per juni 2023: Gegevens over 2021 zijn toegevoegd. Wanneer komen er nieuwe cijfers? De uitkomsten van het verslagjaar 2024 zullen in 2025 beschikbaar komen. Organisaties, cursisten/klanten, accommodatie, personeel en vrijwilligers exploitatiekosten en -opbrengsten, maneges en sportscholen Maneges, sportscholen; accommodatie, personeel en exploitatie zzpers ['Maneges', 'sportscholen', 'accommodatie', 'personeel', 'exploitatie', 'inhuur personeel', 'gehuurde accommodatie', 'rijbak paardensport', 'arbeidsvolume', 'percentage'] Deze tabel kan geraadpleegd worden indien men informatie zoekt over maneges en sportscholen, inclusief gegevens over accommodatie, personeel en exploitatie. Het bevat details zoals inhuur van personeel, percentage maneges met gehuurde accommodatie, gebruik van rijbak voor paardensport en verdeling van arbeidsvolume in maneges. Data is beschikbaar voor verschillende jaren, waaronder 2006 en 2015.\",\n          \"Asielverzoeken, nareizigers; kerncijfers Deze tabel bevat gegevens over aantallen ingediende asielverzoeken en nareizende gezinsleden (nareizigers) per maand, kwartaal en jaar, onderscheiden naar de nationaliteit, het geslacht en de leeftijdsklasse van de asielzoeker en de nareiziger. Naast het totaal aantal verzoeken zijn ook de aantallen eerste en volgende verzoeken opgenomen. Met ingang van 2016 zijn de eerste verzoeken inclusief relocatie. Er zijn cijfers beschikbaar vanaf januari 2013. De weergegeven cijfers betreffen de asielzoekers die formeel zijn ge\\u00efdentificeerd en geregistreerd. Status van de cijfers: De cijfers tot en met 2022 zijn definitief. De cijfers van 2023 zijn voorlopig. Wijzigingen per 22 december 2023: De voorlopige cijfers over november 2023 zijn toegevoegd. Wanneer komen er nieuwe cijfers? Maandelijks worden de nieuwste cijfers gepubliceerd. Asielverzoeken en nareizigers nationaliteit, geslacht en leeftijd Asielverzoeken en nareizigers; nationaliteit, geslacht leeftijd leeftijdsklasse leeftijdsopbouw leeftijdsgroepen ['Asielverzoeken', 'nareizigers', 'nationaliteit', 'geslacht', 'leeftijd', 'Albanezen', 'Moldavi\\u00ebrs', 'Soedanezen'] Deze tabel kan geraadpleegd worden indien men informatie nodig heeft over asielverzoeken en nareizigers op basis van nationaliteit, geslacht en leeftijd. Specifieke vragen zoals het aantal eerste asielverzoeken van Albanese kinderen van 0 tot 5 jaar in april 2019 en het totaal aantal asielverzoeken van Moldavi\\u00ebrs in het 4e kwartaal van 2017 kunnen hier beantwoord worden.\",\n          \"Inkomen, bestedingen, hh.; kerncijfers Deze tabel geeft een beschrijving van transacties van inkomens, bestedingen, besparingen en vermogens van de sector huishoudens in de nationale rekeningen naar verschillende huishoudensgroepen. De huishoudens worden onderscheiden naar de voornaamste bron van inkomen, woonsituatie, samenstelling van het huishouden, leeftijdsklasse van de hoofdkostwinner, 20%-inkomensgroepen en 20%-vermogensgroepen. Gegevens beschikbaar vanaf: 2015. Status van de cijfers: Alle gegevens zijn voorlopig. Wijzigingen per 19 oktober 2023: De cijfers voor 2015-2020 zijn bijgesteld, als gevolg van de bijstellingenbeleid van het CBS. De uitkomsten voor 2021 zijn toegevoegd. Wanneer komen er nieuwe cijfers? De nieuwe cijfers komen in oktober 2024. Kerncijfers inkomens, vermogen en bestedingen van huishoudens Huishoudenskenmerken Inkomen, bestedingen en vermogen huishoudens; kerncijfers, NR toeristische bestedingen doorsnee vermogen ['Inkomen', 'Bestedingen', 'Vermogen', 'Huishoudens', 'Gemiddelde schulden', 'Inkomsten', 'Leeftijdsgroepen', 'Kostwinners', 'Bestedingen huurders', 'Vermogensverdeling'] Deze tabel kan geraadpleegd worden indien men informatie zoekt over inkomen, bestedingen en vermogen van huishoudens. Specifieke gegevens omvatten het gemiddelde bedrag van overige schulden in 2020, totaal inkomen van huishoudens met overige inkomsten in 2019, overig vermogen van 50 tot 65 jarige kostwinners in 2018, werkelijke individuele bestedingen van huurders met huurtoeslag in 2020, en het totaal vermogen van huishoudens in de 4e 20% groep in 2019.\"\n        ],\n        \"semantic_type\": \"\",\n        \"description\": \"\"\n      }\n    },\n    {\n      \"column\": \"raw_columns_string\",\n      \"properties\": {\n        \"dtype\": \"string\",\n        \"num_unique_values\": 479,\n        \"samples\": [\n          \"ID | Inkomensbegrippen | Inkomensklassen | Geslacht | KenmerkenVanPersonen | Perioden | PersonenMetInkomen_1 | GemiddeldInkomen_2 | MediaanInkomen_3\",\n          \"ID | Nationaliteit | Perioden | TotaalAsielverzoekenEnNareizigers_1 | EersteAsielverzoekenPersonen_2 | VolgendeAsielverzoeken_3 | NareizigersPersonen_4\",\n          \"ID | GebruikVanGeweld | SoortDiefstal | RegioS | Perioden | TotaalGeregistreerdeDiefstallen_1 | GeregistreerdeDiefstallenRelatief_2 | GeregistreerdeDiefstallenPer1000Inw_3 | TotaalOpgehelderdeDiefstallen_4 | OpgehelderdeDiefstallenRelatief_5 | RegistratiesVanVerdachten_6\"\n        ],\n        \"semantic_type\": \"\",\n        \"description\": \"\"\n      }\n    },\n    {\n      \"column\": \"columns_string\",\n      \"properties\": {\n        \"dtype\": \"string\",\n        \"num_unique_values\": 479,\n        \"samples\": [\n          \"I D | Inkomensbegrippen | Inkomensklassen | Geslacht | Kenmerken Van Personen | Perioden | Personen Met Inkomen | Gemiddeld Inkomen | Mediaan Inkomen\",\n          \"I D | Nationaliteit | Perioden | Totaal Asielverzoeken En Nareizigers | Eerste Asielverzoeken Personen | Volgende Asielverzoeken | Nareizigers Personen\",\n          \"I D | Gebruik Van Geweld | Soort Diefstal | Regio S | Perioden | Totaal Geregistreerde Diefstallen | Geregistreerde Diefstallen Relatief | Geregistreerde Diefstallen Per 1000 Inw | Totaal Opgehelderde Diefstallen | Opgehelderde Diefstallen Relatief | Registraties Van Verdachten\"\n        ],\n        \"semantic_type\": \"\",\n        \"description\": \"\"\n      }\n    },\n    {\n      \"column\": \"column_samples_string\",\n      \"properties\": {\n        \"dtype\": \"string\",\n        \"num_unique_values\": 494,\n        \"samples\": [\n          \"ID: [10, 9, 11] | Organisatie: ['A045314', 'A045315'] | Perioden: ['2012JJ00', '2018JJ00', '2006JJ00'] | TotaalAantalOrganisaties_1: [1450.0, 1420.0, 1090.0] | TotaalAantalKlanten_2: [234.0, 265.0, 358.0] | GemiddeldAantalKlanten_3: [176.0, 184.0, 121.0] | GemiddeldAantalKlantenOnder18Jaar_4: [88.0, 113.0, 96.0] | MinderDan51Klanten_5: [27.0, 31.0, 44.0] | k_51100Klanten_6: [24.0, 20.0, 19.0] | k_101200Klanten_7: [26.0, 16.0, 17.0] | k_201300Klanten_8: [6.0, 9.0, 10.0] | k_301400Klanten_9: [6.0, 4.0, 7.0] | k_401500Klanten_10: [5.0, 3.0, 4.0] | MeerDan500Klanten_11: [11.0, 5.0, 3.0] | BeschiktOverGehuurdeAccommodatie_12: [30.0, 81.0, 82.0] | BeschiktOverAccommodatieInEigendom_13: [10.0, 73.0, 16.0] | GymzaalSportzaalEnSporthal_14: [0.0, 2.0, 5.0] | Tennishal_15: [0.0] | OverigeOverdekteSportruimte_16: [0.0, 1.0, 10.0] | RijbakVoorPaardensport_17: [56.0, 0.0, 70.0] | Clubhuis_18: [16.0, 45.0, 25.0] | ClubhuisInEigendom_19: [11.0, 18.0, 47.0] | InLoondienst_20: [31.0, 32.0, 38.0] | NietInLoondienst_21: [86.0, 92.0, 89.0] | WerkzamePersonenInLoondienst_22: [2110.0, 1800.0, 1930.0] | TotaalWerkzamePersonen_23: [2230.0, 1900.0, 2520.0] | WerkzamePersonenInLoondienst_24: [1070.0, 860.0, 920.0] | TrainingInstructieVerzorging_25: [66.0, 73.0, 80.0] | BestuurAdministratie_26: [13.0, 7.0, 9.0] | OnderhoudSchoonmaakKantine_27: [20.0, 15.0, 22.0] | OverigPersoneel_28: [0.0, 3.0, 1.0] | WerkzamePersonenNietInLoondienst_29: [1500.0, 1350.0, 850.0] | DirecteurEigenaar_30: [96.0, 95.0, 91.0] | Inhuur_31: [8.0, 14.0, 9.0] | OrganisatiesMetVrijwilligers_32: [46.0, 37.0, 30.0] | TotaalBaten_33: [118.0, 122.0, 135.0] | AbonnementsEnLesgelden_34: [136.0, 92.0, 94.0] | SubsidiesEnBijdragen_35: [3.0, 8.0, 2.0] | SponsorEnReclamegelden_36: [1.0, 4.0, 2.0] | Kantineverkopen_37: [31.0, 1.0, 7.0] | OverigeBaten_38: [14.0, 26.0, 21.0] | TotaalLasten_39: [139.0, 123.0, 149.0] | LonenEnSocialeLasten_40: [26.0, 27.0, 24.0] | PersoneelNietInLoondienst_41: [4.0, 9.0, 3.0] | Huisvestingskosten_42: [29.0, 21.0, 26.0] | OnderhoudEnSchoonmaak_43: [9.0, 1.0, 7.0] | InkoopkostenKantine_44: [1.0, 6.0, 15.0] | Kapitaallasten_45: [16.0, 15.0, 8.0] | OverigeLasten_46: [35.0, 42.0, 49.0] | Saldo_47: [30.0, 18.0, 26.0]\",\n          \"ID: [4733, 6578, 4915] | Geslacht: ['T001038'] | Leeftijd: ['10000'] | Nationaliteit: ['NAT9288  ', 'NAT9310  ', 'NAT9311  '] | Perioden: ['2017KW03', '2024MM02', '2013MM06'] | TotaalAsielverzoeken_1: [21025, 490, 85] | EersteAsielverzoekenPersonen_2: [1250, 15, 1505] | VolgendeAsielverzoeken_3: [365, 135, 805] | NareizigersPersonen_4: [505, 110, 695]\",\n          \"ID: [53, 142, 185] | Huishoudenskenmerken: ['1014900', '1014950', 'A045200'] | Perioden: ['2018JJ00', '2019JJ00', '2017JJ00'] | BrutoExploitatieoverschot_1: [1608, 493, 2028] | BrutoGemengdInkomen_2: [1973, 28641, 2133] | BeloningVanWerknemers_3: [2389, 151060, 3132] | BrutoBeschikbaarInkomen_4: [14192, 44087, 85747] | SocialeOverdrachtenInNatura_5: [26464, 11552, 36445] | BrutoAlternatiefBeschikbaarInkomen_6: [107613, 290162, 99424] | ConsumptieveBestedingen_7: [7301, 76341, 76980] | WerkelijkeIndividueleBestedingen_8: [329547, 117206, 71490] | BrutoBesparingen_9: [28038, -1804, 22425] | Vermogenssaldo_10: [1370901, 2115853, 160150] | Totaal_11: [938288, 528275, 2187322] | Pensioenrechten_12: [541043, 1454492, 398130] | OverigeVorderingen_13: [281958, 118265, 111285] | Totaal_14: [79674, 42450, 781906] | Woninghypotheken_15: [32204, 89672, 285559] | OverigeSchulden_16: [7897, 30211, 18029] | NietFinancieleActiva_17: [327904, 928261, 252971] | BrutoExploitatieoverschot_18: [3.2, 3.7, 4.8] | BrutoGemengdInkomen_19: [15.5, 12.0, 6.4] | BeloningVanWerknemers_20: [102.8, 48.9, 60.6] | BrutoBeschikbaarInkomen_21: [64.8, 29.8, 89.0] | SocialeOverdrachtenInNatura_22: [30.6, 17.8, 18.8] | BrutoAlternatiefBeschikbaarInkomen_23: [45.3, 43.9, 84.1] | ConsumptieveBestedingen_24: [43.6, 42.2, 39.2] | WerkelijkeIndividueleBestedingen_25: [69.0, 35.9, 39.8] | BrutoBesparingen_26: [26.4, 18.3, -3.3] | Vermogenssaldo_27: [206.4, 169.7, 103.3] | Totaal_28: [44.5, 202.9, 240.0] | Pensioenrechten_29: [250.3, 102.3, 78.0] | OverigeVorderingen_30: [80.3, 311.7, 191.7] | Totaal_31: [55.1, 104.6, 114.8] | Woninghypotheken_32: [58.1, 2.4, 94.7] | OverigeSchulden_33: [23.7, 10.8, 1.5] | NietFinancieleActiva_34: [494.9, 472.1, 119.8] | BrutoExploitatieoverschot_35: [0.1, 1.2, -0.1] | BrutoGemengdInkomen_36: [4.1, 3.2, 8.2] | BeloningVanWerknemers_37: [30.1, 65.0, 43.8] | BrutoBeschikbaarInkomen_38: [43.1, 39.1, 16.1] | SocialeOverdrachtenInNatura_39: [11.3, 10.0, 8.3] | BrutoAlternatiefBeschikbaarInkomen_40: [27.6, 48.3, 33.0] | ConsumptieveBestedingen_41: [37.5, 18.7, 27.7] | WerkelijkeIndividueleBestedingen_42: [31.0, 41.6, 43.5] | BrutoBesparingen_43: [-10.0, -5.0, 25.6] | Vermogenssaldo_44: [90.8, 94.8, 563.2] | Totaal_45: [124.7, 147.4, 364.3] | Pensioenrechten_46: [62.6, 59.6, 31.0] | OverigeVorderingen_47: [117.9, 56.8, 29.4] | Totaal_48: [92.2, 86.6, 94.9] | Woninghypotheken_49: [63.0, 83.7, 45.3] | OverigeSchulden_50: [14.6, 10.1, 6.4] | NietFinancieleActiva_51: [79.2, 5.4, 35.5]\"\n        ],\n        \"semantic_type\": \"\",\n        \"description\": \"\"\n      }\n    },\n    {\n      \"column\": \"example_rows_string\",\n      \"properties\": {\n        \"dtype\": \"string\",\n        \"num_unique_values\": 493,\n        \"samples\": [\n          \"ID: 8 | Organisatie: 'A045314' | Perioden: '2021JJ00' | TotaalAantalOrganisaties_1: 1050.0 | TotaalAantalKlanten_2: 126.0 | GemiddeldAantalKlanten_3: 121.0 | GemiddeldAantalKlantenOnder18Jaar_4: 73.0 | MinderDan51Klanten_5: 45.0 | k_51100Klanten_6: 21.0 | k_101200Klanten_7: 15.0 | k_201300Klanten_8: 9.0 | k_301400Klanten_9: 5.0 | k_401500Klanten_10: 2.0 | MeerDan500Klanten_11: 2.0 | BeschiktOverGehuurdeAccommodatie_12: 22.0 | BeschiktOverAccommodatieInEigendom_13: 57.0 | GymzaalSportzaalEnSporthal_14: 1.0 | Tennishal_15: 0.0 | OverigeOverdekteSportruimte_16: 0.0 | RijbakVoorPaardensport_17: 56.0 | Clubhuis_18: 45.0 | ClubhuisInEigendom_19: 38.0 | InLoondienst_20: 33.0 | NietInLoondienst_21: 92.0 | WerkzamePersonenInLoondienst_22: 1820.0 | TotaalWerkzamePersonen_23: 1790.0 | WerkzamePersonenInLoondienst_24: 940.0 | TrainingInstructieVerzorging_25: 78.0 | BestuurAdministratie_26: 7.0 | OnderhoudSchoonmaakKantine_27: 14.0 | OverigPersoneel_28: 1.0 | WerkzamePersonenNietInLoondienst_29: 850.0 | DirecteurEigenaar_30: 97.0 | Inhuur_31: 3.0 | OrganisatiesMetVrijwilligers_32: 33.0 | TotaalBaten_33: 122.0 | AbonnementsEnLesgelden_34: 89.0 | SubsidiesEnBijdragen_35: 8.0 | SponsorEnReclamegelden_36: 1.0 | Kantineverkopen_37: 5.0 | OverigeBaten_38: 19.0 | TotaalLasten_39: 99.0 | LonenEnSocialeLasten_40: 24.0 | PersoneelNietInLoondienst_41: 4.0 | Huisvestingskosten_42: 14.0 | OnderhoudEnSchoonmaak_43: 6.0 | InkoopkostenKantine_44: 3.0 | Kapitaallasten_45: 13.0 | OverigeLasten_46: 35.0 | Saldo_47: 26.0\\nID: 6 | Organisatie: 'A045314' | Perioden: '2018JJ00' | TotaalAantalOrganisaties_1: 1090.0 | TotaalAantalKlanten_2: 184.0 | GemiddeldAantalKlanten_3: 169.0 | GemiddeldAantalKlantenOnder18Jaar_4: 95.0 | MinderDan51Klanten_5: 40.0 | k_51100Klanten_6: 20.0 | k_101200Klanten_7: 23.0 | k_201300Klanten_8: 6.0 | k_301400Klanten_9: 5.0 | k_401500Klanten_10: 3.0 | MeerDan500Klanten_11: 3.0 | BeschiktOverGehuurdeAccommodatie_12: 30.0 | BeschiktOverAccommodatieInEigendom_13: 66.0 | GymzaalSportzaalEnSporthal_14: 0.0 | Tennishal_15: 0.0 | OverigeOverdekteSportruimte_16: 1.0 | RijbakVoorPaardensport_17: 67.0 | Clubhuis_18: 57.0 | ClubhuisInEigendom_19: 47.0 | InLoondienst_20: 39.0 | NietInLoondienst_21: 90.0 | WerkzamePersonenInLoondienst_22: 1930.0 | TotaalWerkzamePersonen_23: 2520.0 | WerkzamePersonenInLoondienst_24: 1050.0 | TrainingInstructieVerzorging_25: 76.0 | BestuurAdministratie_26: 8.0 | OnderhoudSchoonmaakKantine_27: 15.0 | OverigPersoneel_28: 1.0 | WerkzamePersonenNietInLoondienst_29: 1470.0 | DirecteurEigenaar_30: 95.0 | Inhuur_31: 5.0 | OrganisatiesMetVrijwilligers_32: 44.0 | TotaalBaten_33: 144.0 | AbonnementsEnLesgelden_34: 100.0 | SubsidiesEnBijdragen_35: 6.0 | SponsorEnReclamegelden_36: 2.0 | Kantineverkopen_37: 19.0 | OverigeBaten_38: 18.0 | TotaalLasten_39: 129.0 | LonenEnSocialeLasten_40: 30.0 | PersoneelNietInLoondienst_41: 3.0 | Huisvestingskosten_42: 22.0 | OnderhoudEnSchoonmaak_43: 8.0 | InkoopkostenKantine_44: 10.0 | Kapitaallasten_45: 15.0 | OverigeLasten_46: 39.0 | Saldo_47: 15.0\",\n          \"ID: 6312 | Geslacht: 'T001038' | Leeftijd: '10000' | Nationaliteit: 'NAT9384  ' | Perioden: '2020MM11' | TotaalAsielverzoeken_1: 0 | EersteAsielverzoekenPersonen_2: 0 | VolgendeAsielverzoeken_3: 0 | NareizigersPersonen_4: 0\\nID: 4425 | Geslacht: 'T001038' | Leeftijd: '10000' | Nationaliteit: 'NAT9350  ' | Perioden: '2018MM12' | TotaalAsielverzoeken_1: 110 | EersteAsielverzoekenPersonen_2: 60 | VolgendeAsielverzoeken_3: 50 | NareizigersPersonen_4: 5\",\n          \"ID: 3280 | KenmerkenVanHuishoudens: 'A025368' | InkomensgrensHuishouden: 'A043007' | DuurInkomenspositie: 'A028721' | Perioden: '2015JJ00' | Huishoudens_1: 212.0 | HuishoudensRelatief_2: 30.2\\nID: 992 | KenmerkenVanHuishoudens: '1017780' | InkomensgrensHuishouden: 'A043007' | DuurInkomenspositie: 'A028721' | Perioden: '2015JJ00' | Huishoudens_1: 90.3 | HuishoudensRelatief_2: 4.3\"\n        ],\n        \"semantic_type\": \"\",\n        \"description\": \"\"\n      }\n    }\n  ]\n}"
            }
          },
          "metadata": {},
          "execution_count": 157
        }
      ],
      "source": [
        "df_tables.head()"
      ]
    },
    {
      "cell_type": "code",
      "execution_count": 158,
      "metadata": {
        "colab": {
          "base_uri": "https://localhost:8080/",
          "height": 0
        },
        "id": "slPi03zj9Jxz",
        "outputId": "1c81f184-7db0-4b64-c75f-5170a0034ae9"
      },
      "outputs": [
        {
          "output_type": "stream",
          "name": "stdout",
          "text": [
            "Original Metadata Character Length Stats:\n",
            " count     494.00\n",
            "mean     2324.55\n",
            "std       996.81\n",
            "min       922.00\n",
            "10%      1353.90\n",
            "25%      1616.75\n",
            "50%      2111.50\n",
            "75%      2756.00\n",
            "90%      3347.30\n",
            "95%      4105.80\n",
            "max      7135.00\n",
            "Name: original_metadata_text, dtype: float64\n"
          ]
        }
      ],
      "source": [
        "# Get character lengths\n",
        "text_lengths = df_tables['original_metadata_text'].str.len()\n",
        "\n",
        "# Get summary statistics on character length\n",
        "summary_stats = text_lengths.describe(percentiles=[0.1, 0.25, 0.5, 0.75, 0.9, 0.95])\n",
        "\n",
        "# Print nicely\n",
        "print(\"Original Metadata Character Length Stats:\\n\", summary_stats.round(2))"
      ]
    },
    {
      "cell_type": "code",
      "execution_count": 159,
      "metadata": {
        "colab": {
          "base_uri": "https://localhost:8080/",
          "height": 850
        },
        "id": "PbEdMega9Jxz",
        "outputId": "b68ec196-ab54-46ff-8201-5467a6822b4f"
      },
      "outputs": [
        {
          "output_type": "stream",
          "name": "stdout",
          "text": [
            "Character Length Statistics for column 'original_metadata_text':\n",
            " count     494.00\n",
            "mean     2324.55\n",
            "std       996.81\n",
            "min       922.00\n",
            "10%      1353.90\n",
            "25%      1616.75\n",
            "50%      2111.50\n",
            "75%      2756.00\n",
            "90%      3347.30\n",
            "95%      4105.80\n",
            "max      7135.00\n",
            "Name: original_metadata_text, dtype: float64\n",
            "Plot exported as image to original_metadata_length.pdf\n"
          ]
        },
        {
          "output_type": "display_data",
          "data": {
            "text/plain": [
              "<Figure size 1000x600 with 1 Axes>"
            ],
            "image/png": "[encoded data removed]"
          },
          "metadata": {}
        }
      ],
      "source": [
        "def analyze_text_lengths_log(df, column='original_metadata_text', plot=True, export_name=None):\n",
        "    \"\"\"\n",
        "    Analyzes character lengths of text data in a given column of a DataFrame,\n",
        "    and plots a binned distribution without log-scaled y-axis.\n",
        "    Optionally exports the plot as an image file.\n",
        "\n",
        "    Args:\n",
        "        df (pd.DataFrame): The DataFrame containing the text data.\n",
        "        column (str): The column name with the text data.\n",
        "        plot (bool): Whether to plot a binned distribution of character lengths.\n",
        "        export_path (str or None): File path to export the plot as an image (png, jpg, etc.).\n",
        "                                   If None, plot is shown but not saved.\n",
        "\n",
        "    Returns:\n",
        "        pd.Series: Series of character lengths.\n",
        "    \"\"\"\n",
        "    # Compute character lengths\n",
        "    text_lengths = df[column].str.len()\n",
        "\n",
        "    # Summary statistics\n",
        "    summary_stats = text_lengths.describe(percentiles=[0.1, 0.25, 0.5, 0.75, 0.9, 0.95])\n",
        "    print(f\"Character Length Statistics for column '{column}':\\n\", summary_stats.round(2))\n",
        "\n",
        "    if plot:\n",
        "        # Define bins and labels\n",
        "        bins = [0, 1000, 1500, 2000, 2500, 3000, 4000, 5000, float('inf')]\n",
        "        labels = [\"0–1k\", \"1k–1.5k\", \"1.5k–2k\", \"2k–2.5k\", \"2.5k–3k\", \"3k–4k\", \"4k–5k\", \"5k+\"]\n",
        "\n",
        "        # Bin and count\n",
        "        binned = pd.cut(text_lengths, bins=bins, labels=labels, right=True)\n",
        "        binned_counts = binned.value_counts().sort_index()\n",
        "\n",
        "        # Convert counts to percentages\n",
        "        relative_freq = binned_counts / binned_counts.sum() * 100\n",
        "\n",
        "        # Plot\n",
        "        plt.figure(figsize=(10, 6))\n",
        "        relative_freq.plot(kind='bar', color='skyblue', edgecolor='black')\n",
        "\n",
        "        for i, count in enumerate(relative_freq):\n",
        "            plt.text(i, count + 0.3, f\"{count:.1f}%\", ha='center', va='bottom', fontsize=9)\n",
        "\n",
        "        plt.title(f\"Character Length Distribution for '{column}'\")\n",
        "        plt.xlabel(\"Character Length Range\")\n",
        "        plt.ylabel(\"Percentage of Documents (%)\")\n",
        "        plt.xticks(rotation=45)\n",
        "        plt.grid(axis='y', linestyle='--', linewidth=0.5)\n",
        "        plt.tight_layout()\n",
        "\n",
        "        if export_name:\n",
        "            plt.savefig(f\"{folder}/{export_name}.pdf\")\n",
        "            print(f\"Plot exported as image to {export_name}.pdf\")\n",
        "            plt.show()\n",
        "            plt.close()\n",
        "        else:\n",
        "            plt.show()\n",
        "\n",
        "    return text_lengths\n",
        "\n",
        "\n",
        "char_lengths = analyze_text_lengths_log(df_tables, column='original_metadata_text', export_name=\"original_metadata_length\")\n"
      ]
    },
    {
      "cell_type": "markdown",
      "metadata": {
        "id": "pesQ92tM9Jxz"
      },
      "source": [
        "### Rough estimated LLM tokens (i.e. minimum context length required for generating a column summary)\n",
        "From https://help.openai.com/en/articles/4936856-what-are-tokens-and-how-to-count-them\n",
        "Other model and language, but ballpark estimate but nonetheless to estimate job duration"
      ]
    },
    {
      "cell_type": "code",
      "execution_count": 160,
      "metadata": {
        "colab": {
          "base_uri": "https://localhost:8080/",
          "height": 0
        },
        "id": "Qrpa-8Ap9Jxz",
        "outputId": "6cc20dc7-5cf0-4742-b48f-06302736ba17"
      },
      "outputs": [
        {
          "output_type": "stream",
          "name": "stdout",
          "text": [
            "Rough Estimated Token Stats:\n",
            " count     494.00\n",
            "mean      581.14\n",
            "std       249.20\n",
            "min       230.50\n",
            "10%       338.48\n",
            "25%       404.19\n",
            "50%       527.88\n",
            "75%       689.00\n",
            "90%       836.82\n",
            "95%      1026.45\n",
            "max      1783.75\n",
            "Name: original_metadata_text, dtype: float64\n"
          ]
        }
      ],
      "source": [
        "# Step 1: Compute text lengths\n",
        "text_lengths = df_tables['original_metadata_text'].str.len()\n",
        "\n",
        "# Step 2: Rough token estimation (1 token ≈ 4 characters)\n",
        "estimated_tokens = text_lengths / 4\n",
        "\n",
        "# Step 4: Describe the estimated token stats\n",
        "token_stats = estimated_tokens.describe(percentiles=[0.1, 0.25, 0.5, 0.75, 0.9, 0.95])\n",
        "\n",
        "# Step 5: Print it nicely\n",
        "print(\"Rough Estimated Token Stats:\\n\", token_stats.round(2))"
      ]
    },
    {
      "cell_type": "markdown",
      "metadata": {
        "id": "kExo4d0e9Jxz"
      },
      "source": [
        "#### Approx worst case context length for 2nd phase end table summary (4char/token):\n",
        "llama 3.1 max context length 128k\n",
        "\n",
        "max_generated_tokens(512) * max columns + prompt"
      ]
    },
    {
      "cell_type": "code",
      "execution_count": 161,
      "metadata": {
        "colab": {
          "base_uri": "https://localhost:8080/",
          "height": 0
        },
        "id": "_WfmkMOZ9Jx0",
        "outputId": "36f23983-45e7-4db9-dc0e-05d2970444d5"
      },
      "outputs": [
        {
          "output_type": "stream",
          "name": "stdout",
          "text": [
            "Token generation required (fall back method): 86472\n",
            "Token generation required (current implementation): 345288\n"
          ]
        }
      ],
      "source": [
        "adjusted = 128 * column_counts.max() + 200\n",
        "worst = 512 * column_counts.max() + 200\n",
        "print(f\"Token generation required (fall back method): {adjusted}\")\n",
        "print(f\"Token generation required (current implementation): {worst}\")"
      ]
    },
    {
      "cell_type": "markdown",
      "metadata": {
        "id": "fflMBLmf9Jx0"
      },
      "source": [
        "#### Missing data (Summary of missing data for each table in each column"
      ]
    },
    {
      "cell_type": "code",
      "execution_count": 162,
      "metadata": {
        "id": "1L7VS5qQ9Jx0"
      },
      "outputs": [],
      "source": [
        "missing_summary = {}\n",
        "\n",
        "for table_id, df in table_data_dfs.items():\n",
        "    missing = df.isnull().sum()\n",
        "    if missing.sum() > 0:\n",
        "        missing_summary[table_id] = missing[missing > 0].to_dict()\n"
      ]
    },
    {
      "cell_type": "markdown",
      "metadata": {
        "id": "CurwnI6u9Jx0"
      },
      "source": [
        "#### Data types of Tables\n",
        "Since the table data is retrieved as JSON from the API, original data types are lost and only inferred upon loading. This makes data type based EDA unreliable and should be interpreted cautiously."
      ]
    },
    {
      "cell_type": "code",
      "execution_count": 163,
      "metadata": {
        "id": "EqMntJTh9Jx0"
      },
      "outputs": [],
      "source": [
        "# dtype_summary = {\"object\": 0, \"int\": 0, \"float\": 0, \"bool\": 0, \"other\": 0}\n",
        "\n",
        "# for df in table_data_dfs.values():\n",
        "#     for dtype in df.dtypes:\n",
        "#         t = str(dtype)\n",
        "#         if \"int\" in t:\n",
        "#             dtype_summary[\"int\"] += 1\n",
        "#         elif \"float\" in t:\n",
        "#             dtype_summary[\"float\"] += 1\n",
        "#         elif \"bool\" in t:\n",
        "#             dtype_summary[\"bool\"] += 1\n",
        "#         elif t == \"object\":\n",
        "#             dtype_summary[\"object\"] += 1\n",
        "#         else:\n",
        "#             dtype_summary[\"other\"] += 1\n",
        "\n",
        "# # dtype_summary"
      ]
    },
    {
      "cell_type": "code",
      "execution_count": 164,
      "metadata": {
        "id": "hkt77EXY9Jx0"
      },
      "outputs": [],
      "source": [
        "# column_value_stats = {}\n",
        "\n",
        "# for table_id, df in table_data_dfs.items():\n",
        "#     stats = {}\n",
        "#     for col in df.columns:\n",
        "#         col_data = df[col]\n",
        "#         stats[col] = {\n",
        "#             \"dtype\": str(col_data.dtype),\n",
        "#             \"n_unique\": col_data.nunique(),\n",
        "#             \"most_common\": col_data.value_counts().head(3).to_dict()\n",
        "#         }\n",
        "#     column_value_stats[table_id] = stats\n",
        "# column_value_stats"
      ]
    },
    {
      "cell_type": "markdown",
      "metadata": {
        "id": "XuzzKtYN9Jx0"
      },
      "source": [
        "## Experiment Results (Granular) LLM summary generation\n",
        "Our approach leverages intermediate token generations to build summaries, mimicking the LLM’s \"reasoning\" process. We break the summarization task into smaller subtasks to produce a more representative description of each table, essentially as an attempt to divert from standard greedy decoding and its token distribution biases (also by setting the model parameters to deviate from greedy decoding). Inspired by self-consistency methods, we generate stepwise summaries of table contents and aggregate them into a final summary, aiming for a more accurate representation to support document expansion and information retrieval.\n",
        "\n",
        "todo if time allows explore and evaluate the initial column summary phase"
      ]
    },
    {
      "cell_type": "code",
      "execution_count": 165,
      "metadata": {
        "id": "ZnAaYj7h9Jx1"
      },
      "outputs": [],
      "source": [
        "df_CSummary_TS = pd.DataFrame.from_dict(llama_CSSummary_TS, orient='index')\n",
        "df_CSample_TS = pd.DataFrame.from_dict(llama_CSample_TS, orient='index')\n",
        "df_Column_TS = pd.DataFrame.from_dict(llama_Column_TS, orient='index')"
      ]
    },
    {
      "cell_type": "code",
      "execution_count": 166,
      "metadata": {
        "colab": {
          "base_uri": "https://localhost:8080/",
          "height": 206
        },
        "id": "mVzs4m8O9Jx1",
        "outputId": "00f13aaa-5590-4eef-d9d6-56d758d144bd"
      },
      "outputs": [
        {
          "output_type": "execute_result",
          "data": {
            "text/plain": [
              "          table_id                             original_metadata_text  \\\n",
              "37201        37201  Geboorte; kerncijfers per regio Deze tabel bev...   \n",
              "37296ned  37296ned                                  Niet Beschikbaar.   \n",
              "37422ned  37422ned                                  Niet Beschikbaar.   \n",
              "37772ned  37772ned  Huwen; kerncijfers Deze tabel bevat kerncijfer...   \n",
              "37789ksz  37789ksz  Sociale zekerheid; kerncijfers Deze tabel geef...   \n",
              "\n",
              "                                 table_flatten_only_summary  \\\n",
              "37201     Deze dataset bevat statistieken over geboortec...   \n",
              "37296ned  De dataset bevat informatie over de demografis...   \n",
              "37422ned  Deze dataset lijkt te bestaan uit gegevens ove...   \n",
              "37772ned  Hier is een korte, duidelijke samenvatting van...   \n",
              "37789ksz  Deze dataset bevat statistieken over de Nederl...   \n",
              "\n",
              "                                             schema_summary  \n",
              "37201     ID | RegioS | Perioden | TotaalLevendGeborenKi...  \n",
              "37296ned  ID | Perioden | TotaleBevolking_1 | Mannen_2 |...  \n",
              "37422ned  ID | Perioden | TotaalLevendGeborenKinderen_1 ...  \n",
              "37772ned  ID | Perioden | TotaalHuwelijkssluitingen_1 | ...  \n",
              "37789ksz  ID | Perioden | TotaalArbeidsongeschiktheidsui...  "
            ],
            "text/html": [
              "\n",
              "  <div id=\"df-c3b81ffb-fbad-4d3a-978f-c6782ce8b6c5\" class=\"colab-df-container\">\n",
              "    <div>\n",
              "<style scoped>\n",
              "    .dataframe tbody tr th:only-of-type {\n",
              "        vertical-align: middle;\n",
              "    }\n",
              "\n",
              "    .dataframe tbody tr th {\n",
              "        vertical-align: top;\n",
              "    }\n",
              "\n",
              "    .dataframe thead th {\n",
              "        text-align: right;\n",
              "    }\n",
              "</style>\n",
              "<table border=\"1\" class=\"dataframe\">\n",
              "  <thead>\n",
              "    <tr style=\"text-align: right;\">\n",
              "      <th></th>\n",
              "      <th>table_id</th>\n",
              "      <th>original_metadata_text</th>\n",
              "      <th>table_flatten_only_summary</th>\n",
              "      <th>schema_summary</th>\n",
              "    </tr>\n",
              "  </thead>\n",
              "  <tbody>\n",
              "    <tr>\n",
              "      <th>37201</th>\n",
              "      <td>37201</td>\n",
              "      <td>Geboorte; kerncijfers per regio Deze tabel bev...</td>\n",
              "      <td>Deze dataset bevat statistieken over geboortec...</td>\n",
              "      <td>ID | RegioS | Perioden | TotaalLevendGeborenKi...</td>\n",
              "    </tr>\n",
              "    <tr>\n",
              "      <th>37296ned</th>\n",
              "      <td>37296ned</td>\n",
              "      <td>Niet Beschikbaar.</td>\n",
              "      <td>De dataset bevat informatie over de demografis...</td>\n",
              "      <td>ID | Perioden | TotaleBevolking_1 | Mannen_2 |...</td>\n",
              "    </tr>\n",
              "    <tr>\n",
              "      <th>37422ned</th>\n",
              "      <td>37422ned</td>\n",
              "      <td>Niet Beschikbaar.</td>\n",
              "      <td>Deze dataset lijkt te bestaan uit gegevens ove...</td>\n",
              "      <td>ID | Perioden | TotaalLevendGeborenKinderen_1 ...</td>\n",
              "    </tr>\n",
              "    <tr>\n",
              "      <th>37772ned</th>\n",
              "      <td>37772ned</td>\n",
              "      <td>Huwen; kerncijfers Deze tabel bevat kerncijfer...</td>\n",
              "      <td>Hier is een korte, duidelijke samenvatting van...</td>\n",
              "      <td>ID | Perioden | TotaalHuwelijkssluitingen_1 | ...</td>\n",
              "    </tr>\n",
              "    <tr>\n",
              "      <th>37789ksz</th>\n",
              "      <td>37789ksz</td>\n",
              "      <td>Sociale zekerheid; kerncijfers Deze tabel geef...</td>\n",
              "      <td>Deze dataset bevat statistieken over de Nederl...</td>\n",
              "      <td>ID | Perioden | TotaalArbeidsongeschiktheidsui...</td>\n",
              "    </tr>\n",
              "  </tbody>\n",
              "</table>\n",
              "</div>\n",
              "    <div class=\"colab-df-buttons\">\n",
              "\n",
              "  <div class=\"colab-df-container\">\n",
              "    <button class=\"colab-df-convert\" onclick=\"convertToInteractive('df-c3b81ffb-fbad-4d3a-978f-c6782ce8b6c5')\"\n",
              "            title=\"Convert this dataframe to an interactive table.\"\n",
              "            style=\"display:none;\">\n",
              "\n",
              "  <svg xmlns=\"http://www.w3.org/2000/svg\" height=\"24px\" viewBox=\"0 -960 960 960\">\n",
              "    <path d=\"M120-120v-720h720v720H120Zm60-500h600v-160H180v160Zm220 220h160v-160H400v160Zm0 220h160v-160H400v160ZM180-400h160v-160H180v160Zm440 0h160v-160H620v160ZM180-180h160v-160H180v160Zm440 0h160v-160H620v160Z\"/>\n",
              "  </svg>\n",
              "    </button>\n",
              "\n",
              "  <style>\n",
              "    .colab-df-container {\n",
              "      display:flex;\n",
              "      gap: 12px;\n",
              "    }\n",
              "\n",
              "    .colab-df-convert {\n",
              "      background-color: #E8F0FE;\n",
              "      border: none;\n",
              "      border-radius: 50%;\n",
              "      cursor: pointer;\n",
              "      display: none;\n",
              "      fill: #1967D2;\n",
              "      height: 32px;\n",
              "      padding: 0 0 0 0;\n",
              "      width: 32px;\n",
              "    }\n",
              "\n",
              "    .colab-df-convert:hover {\n",
              "      background-color: #E2EBFA;\n",
              "      box-shadow: 0px 1px 2px rgba(60, 64, 67, 0.3), 0px 1px 3px 1px rgba(60, 64, 67, 0.15);\n",
              "      fill: #174EA6;\n",
              "    }\n",
              "\n",
              "    .colab-df-buttons div {\n",
              "      margin-bottom: 4px;\n",
              "    }\n",
              "\n",
              "    [theme=dark] .colab-df-convert {\n",
              "      background-color: #3B4455;\n",
              "      fill: #D2E3FC;\n",
              "    }\n",
              "\n",
              "    [theme=dark] .colab-df-convert:hover {\n",
              "      background-color: #434B5C;\n",
              "      box-shadow: 0px 1px 3px 1px rgba(0, 0, 0, 0.15);\n",
              "      filter: drop-shadow(0px 1px 2px rgba(0, 0, 0, 0.3));\n",
              "      fill: #FFFFFF;\n",
              "    }\n",
              "  </style>\n",
              "\n",
              "    <script>\n",
              "      const buttonEl =\n",
              "        document.querySelector('#df-c3b81ffb-fbad-4d3a-978f-c6782ce8b6c5 button.colab-df-convert');\n",
              "      buttonEl.style.display =\n",
              "        google.colab.kernel.accessAllowed ? 'block' : 'none';\n",
              "\n",
              "      async function convertToInteractive(key) {\n",
              "        const element = document.querySelector('#df-c3b81ffb-fbad-4d3a-978f-c6782ce8b6c5');\n",
              "        const dataTable =\n",
              "          await google.colab.kernel.invokeFunction('convertToInteractive',\n",
              "                                                    [key], {});\n",
              "        if (!dataTable) return;\n",
              "\n",
              "        const docLinkHtml = 'Like what you see? Visit the ' +\n",
              "          '<a target=\"_blank\" href=https://colab.research.google.com/notebooks/data_table.ipynb>data table notebook</a>'\n",
              "          + ' to learn more about interactive tables.';\n",
              "        element.innerHTML = '';\n",
              "        dataTable['output_type'] = 'display_data';\n",
              "        await google.colab.output.renderOutput(dataTable, element);\n",
              "        const docLink = document.createElement('div');\n",
              "        docLink.innerHTML = docLinkHtml;\n",
              "        element.appendChild(docLink);\n",
              "      }\n",
              "    </script>\n",
              "  </div>\n",
              "\n",
              "\n",
              "    <div id=\"df-653a92e7-dd48-4e04-80c3-47bf3027747d\">\n",
              "      <button class=\"colab-df-quickchart\" onclick=\"quickchart('df-653a92e7-dd48-4e04-80c3-47bf3027747d')\"\n",
              "                title=\"Suggest charts\"\n",
              "                style=\"display:none;\">\n",
              "\n",
              "<svg xmlns=\"http://www.w3.org/2000/svg\" height=\"24px\"viewBox=\"0 0 24 24\"\n",
              "     width=\"24px\">\n",
              "    <g>\n",
              "        <path d=\"M19 3H5c-1.1 0-2 .9-2 2v14c0 1.1.9 2 2 2h14c1.1 0 2-.9 2-2V5c0-1.1-.9-2-2-2zM9 17H7v-7h2v7zm4 0h-2V7h2v10zm4 0h-2v-4h2v4z\"/>\n",
              "    </g>\n",
              "</svg>\n",
              "      </button>\n",
              "\n",
              "<style>\n",
              "  .colab-df-quickchart {\n",
              "      --bg-color: #E8F0FE;\n",
              "      --fill-color: #1967D2;\n",
              "      --hover-bg-color: #E2EBFA;\n",
              "      --hover-fill-color: #174EA6;\n",
              "      --disabled-fill-color: #AAA;\n",
              "      --disabled-bg-color: #DDD;\n",
              "  }\n",
              "\n",
              "  [theme=dark] .colab-df-quickchart {\n",
              "      --bg-color: #3B4455;\n",
              "      --fill-color: #D2E3FC;\n",
              "      --hover-bg-color: #434B5C;\n",
              "      --hover-fill-color: #FFFFFF;\n",
              "      --disabled-bg-color: #3B4455;\n",
              "      --disabled-fill-color: #666;\n",
              "  }\n",
              "\n",
              "  .colab-df-quickchart {\n",
              "    background-color: var(--bg-color);\n",
              "    border: none;\n",
              "    border-radius: 50%;\n",
              "    cursor: pointer;\n",
              "    display: none;\n",
              "    fill: var(--fill-color);\n",
              "    height: 32px;\n",
              "    padding: 0;\n",
              "    width: 32px;\n",
              "  }\n",
              "\n",
              "  .colab-df-quickchart:hover {\n",
              "    background-color: var(--hover-bg-color);\n",
              "    box-shadow: 0 1px 2px rgba(60, 64, 67, 0.3), 0 1px 3px 1px rgba(60, 64, 67, 0.15);\n",
              "    fill: var(--button-hover-fill-color);\n",
              "  }\n",
              "\n",
              "  .colab-df-quickchart-complete:disabled,\n",
              "  .colab-df-quickchart-complete:disabled:hover {\n",
              "    background-color: var(--disabled-bg-color);\n",
              "    fill: var(--disabled-fill-color);\n",
              "    box-shadow: none;\n",
              "  }\n",
              "\n",
              "  .colab-df-spinner {\n",
              "    border: 2px solid var(--fill-color);\n",
              "    border-color: transparent;\n",
              "    border-bottom-color: var(--fill-color);\n",
              "    animation:\n",
              "      spin 1s steps(1) infinite;\n",
              "  }\n",
              "\n",
              "  @keyframes spin {\n",
              "    0% {\n",
              "      border-color: transparent;\n",
              "      border-bottom-color: var(--fill-color);\n",
              "      border-left-color: var(--fill-color);\n",
              "    }\n",
              "    20% {\n",
              "      border-color: transparent;\n",
              "      border-left-color: var(--fill-color);\n",
              "      border-top-color: var(--fill-color);\n",
              "    }\n",
              "    30% {\n",
              "      border-color: transparent;\n",
              "      border-left-color: var(--fill-color);\n",
              "      border-top-color: var(--fill-color);\n",
              "      border-right-color: var(--fill-color);\n",
              "    }\n",
              "    40% {\n",
              "      border-color: transparent;\n",
              "      border-right-color: var(--fill-color);\n",
              "      border-top-color: var(--fill-color);\n",
              "    }\n",
              "    60% {\n",
              "      border-color: transparent;\n",
              "      border-right-color: var(--fill-color);\n",
              "    }\n",
              "    80% {\n",
              "      border-color: transparent;\n",
              "      border-right-color: var(--fill-color);\n",
              "      border-bottom-color: var(--fill-color);\n",
              "    }\n",
              "    90% {\n",
              "      border-color: transparent;\n",
              "      border-bottom-color: var(--fill-color);\n",
              "    }\n",
              "  }\n",
              "</style>\n",
              "\n",
              "      <script>\n",
              "        async function quickchart(key) {\n",
              "          const quickchartButtonEl =\n",
              "            document.querySelector('#' + key + ' button');\n",
              "          quickchartButtonEl.disabled = true;  // To prevent multiple clicks.\n",
              "          quickchartButtonEl.classList.add('colab-df-spinner');\n",
              "          try {\n",
              "            const charts = await google.colab.kernel.invokeFunction(\n",
              "                'suggestCharts', [key], {});\n",
              "          } catch (error) {\n",
              "            console.error('Error during call to suggestCharts:', error);\n",
              "          }\n",
              "          quickchartButtonEl.classList.remove('colab-df-spinner');\n",
              "          quickchartButtonEl.classList.add('colab-df-quickchart-complete');\n",
              "        }\n",
              "        (() => {\n",
              "          let quickchartButtonEl =\n",
              "            document.querySelector('#df-653a92e7-dd48-4e04-80c3-47bf3027747d button');\n",
              "          quickchartButtonEl.style.display =\n",
              "            google.colab.kernel.accessAllowed ? 'block' : 'none';\n",
              "        })();\n",
              "      </script>\n",
              "    </div>\n",
              "\n",
              "    </div>\n",
              "  </div>\n"
            ],
            "application/vnd.google.colaboratory.intrinsic+json": {
              "type": "dataframe",
              "variable_name": "df_Column_TS",
              "summary": "{\n  \"name\": \"df_Column_TS\",\n  \"rows\": 567,\n  \"fields\": [\n    {\n      \"column\": \"table_id\",\n      \"properties\": {\n        \"dtype\": \"string\",\n        \"num_unique_values\": 567,\n        \"samples\": [\n          \"81462ned\",\n          \"81487ned\",\n          \"82235NED\"\n        ],\n        \"semantic_type\": \"\",\n        \"description\": \"\"\n      }\n    },\n    {\n      \"column\": \"original_metadata_text\",\n      \"properties\": {\n        \"dtype\": \"string\",\n        \"num_unique_values\": 495,\n        \"samples\": [\n          \"Grasland; oppervlakte en opbrengst Deze tabel geeft informatie over de oppervlakte grasland bij agrarische bedrijven en de opbrengst aan gemaaid gras. Het merendeel van het gemaaide gras wordt, in de vorm van kuilgras en hooi, gebruikt als wintervoedering voor de koeien, een klein deel is bestemd voor zomerstalvoedering en voor andere doeleinden. Verder wordt ook de voorraad kuilgras en hooi aan het einde van het jaar (het begin van de stalperiode voor de koeien) vermeld. Gegevens zijn vanaf 1985 beschikbaar voor Nederland totaal en vanaf 1993 ook voor vijf landbouwregio's. Tot en met 2017 werden de cijfers jaarlijks (overwegend) vastgesteld uit de resultaten van de enqu\\u00eate Graslandgebruik. Per 2018 worden de cijfers van melkveehouders vastgesteld op basis van informatie uit de database van de KringloopWijzer. Deze database is in beheer van ZuivelNL. De cijfers van niet-melkveehouders worden vastgesteld uit de resultaten van de enqu\\u00eate Graslandgebruik. Met ingang van 2022 worden de cijfers van zowel melkveehouders als niet-melkveehouders vastgesteld uit de resultaten van de enqu\\u00eate Graslandgebruik. Met ingang van 2018 wordt natuurlijk grasland met een landbouwfunctie meegenomen in de vaststelling van de oppervlakte en de opbrengst van grasland. Hierdoor is de totale oppervlakte en opbrengst grasland in Nederland ten opzichte van 2017 toegenomen. Met ingang van 2021 is de methode voor berekening van de grasopbrengst bijgesteld. Was tot en met 2020 de hoogste toegestane opbrengst 15.000 kg droge stof per hectare, in 2021 is dit 20.000 kg per hectare. Status van de cijfers: de cijfers tot en met 2021 zijn definitief. Wijzigingen per 14 september 2023: De cijfers van 2021 zijn definitief geworden. De voorlopige cijfers over 2022 zijn toegevoegd. Wanneer komen er nieuwe cijfers? Uiterlijk in het derde kwartaal verschijnen de voorlopige cijfers van het voorafgaande jaar en krijgen de cijfers van een jaar eerder een definitieve status. Nederland en weideregio's; Oppervlakte (totaal en gemaaid) verwerking tot hooi, kuil - en/of stalvoer, voorraden in droge stof hooi en kuilvoer Grasland; oppervlakte en opbrengst ['Grasland', 'oppervlakte', 'opbrengst', 'kuilgras', 'weidegebied', 'zomerstalvoedering'] Deze tabel kan geraadpleegd worden indien informatie nodig is over de oppervlakte en opbrengst van grasland in verschillende weidegebieden in specifieke jaren. Het bevat gegevens over kuilgrasproductie, verwerking van grasland tot zomerstalvoedering en percentages van graslandgebruik voor diverse doeleinden.\",\n          \"Werkloosheidsduur; per kwartaal en jaar Deze tabel bevat cijfers over de werkloosheidsduur van de werkloze beroepsbevolking van 15 tot 75 jaar. Hiermee is het mogelijk het aantal kort- en langdurig werklozen te bepalen. Kortdurig werklozen zijn korter dan 12 maanden werkloos. Langdurig werklozen zijn 12 maanden of meer werkloos. De cijfers in de tabel kunnen worden uitgesplitst naar geslacht, leeftijd en onderwijsniveau. De tabel bevat zowel kwartaal- als jaarcijfers. Het CBS gaat over op een nieuwe indeling van de bevolking naar herkomst. Voortaan is meer bepalend waar iemand zelf geboren is, naast waar iemands ouders geboren zijn. Daarbij wordt het woord migratieachtergrond niet meer gebruikt. De hoofdindeling westers/niet-westers wordt vervangen door een indeling op basis van werelddelen en veelvoorkomende immigratielanden. Deze indeling wordt geleidelijk ingevoerd in tabellen en publicaties met bevolking naar herkomst. Voor deze StatLinetabel is besloten dat de herkomstindeling komt te vervallen. Gegevens beschikbaar vanaf: 2013 Status van de cijfers: De cijfers in deze tabel zijn definitief. Wijzigingen per 14 november 2023: De cijfers over het 3e kwartaal 2023 zijn toegevoegd. Wijzigingen per 14 februari 2023: De cijfers over het 4e kwartaal en de jaarcijfers over 2022 zijn toegevoegd. In eerdere tabellen was de niet meer gebruikte migratieachtergrond opgenomen. Deze is uit de tabel verwijderd. Wijzigingen per 17 augustus 2022: Geen, dit is een nieuwe tabel. Deze tabel is samengesteld op basis van de Enqu\\u00eate Beroepsbevolking (EBB). Vanwege wijzigingen in het onderzoeksdesign en de vragenlijst van de EBB zijn de cijfers over 2021 niet zonder meer vergelijkbaar met de cijfers tot en met 2020. De kerncijfers in deze tabel zijn daarom consistent gemaakt met de (niet-seizoengecorrigeerde) cijfers in de tabel Arbeidsdeelname, kerncijfers seizoengecorrigeerd (zie paragraaf 4), waarin de uitkomsten voor de periode 2013-2020 zijn herberekend om aan te sluiten op de uitkomsten vanaf 2021. Bij verdere detaillering van de uitkomsten naar baan- en persoonskenmerken kunnen er van 2020 op 2021 desondanks verschillen zijn als gevolg van de nieuwe methode. Wanneer komen er nieuwe cijfers? Nieuwe cijfers worden gepubliceerd op 14 februari 2024. Langdurig werklozen, werkloosheidsduur werklozen, langdurig werkloos naar leeftijd en geslacht, oudere werklozen, lang werkloos, duur werkloos Werkloze beroepsbevolking; werkloosheidsduur, persoonskenmerken ['Werkloze beroepsbevolking', 'Werkloosheidsduur', 'Persoonskenmerken', 'Middelbaar opleidingsniveau', 'Jongeren', 'Hoge opleiding'] Deze tabel kan geraadpleegd worden indien men informatie zoekt over de werkloze beroepsbevolking, werkloosheidsduur en persoonskenmerken. Specifieke vragen die beantwoord kunnen worden zijn onder andere het aantal werkloze personen met een middelbaar opleidingsniveau in het vierde kwartaal van 2014 en het aantal jongeren dat 1 tot 3 maanden werkloos was in 2017. Ook informatie over werkloosheid onder mensen met een hoge opleiding is beschikbaar.\",\n          \"Verkeersdeelname; persoonskenmerken Deze tabel bevat informatie over het verplaatsingsgedrag van de Nederlandse bevolking van 6 jaar of ouder in particuliere huishoudens, dus exclusief bewoners van instellingen, inrichtingen en tehuizen. De tabel bevat het verplaatsingsgedrag uitgesplitst naar het aandeel verkeersdeelname en aandeel deelname aan het openbaar vervoer verdeeld naar persoonskenmerken, populatie en geslacht. Het gaat om reguliere verplaatsingen op Nederlands grondgebied inclusief binnenlandse vakantiemobiliteit en serieverplaatsingen op Nederlands grondgebied. De cijfers zijn berekend met het onderzoek Onderweg in Nederland (ODiN). Dat is de opvolger van het onderzoek Verplaatsingen in Nederland (OViN; 2010-2017). Het ODiN is ten opzichte van het voorafgaande OViN op diverse punten in belangrijke mate gewijzigd en de onderzoeken zijn daarom onderling niet volgtijdelijk vergelijkbaar. Gegevens beschikbaar vanaf 2018. Status van de cijfers: De cijfers in deze tabel zijn definitief. Wijziging per 5 juli 2023: De jaarcijfers 2022 zijn toegevoegd. Wanneer komen er nieuwe cijfers? Medio 2024 verschijnen de cijfers over het onderzoeksjaar 2023. Verkeersdeelname en gebruik van het openbaar vervoer persoonskenmerken (leeftijd, inkomen, opleidingsniveau), geslacht Verkeersdeelname en deelname openbaar vervoer; persoonskenmerken deelname vakantie misdrijf openbaar gezag ['Verkeersdeelname', 'deelname openbaar vervoer', 'persoonskenmerken', 'vrouwen', 'niet-westerse migratieachtergrond', 'minderjarigen', 'rijbewijs', 'leeftijdsgroep', 'percentage'] Deze tabel kan geraadpleegd worden indien men informatie zoekt over de verkeersdeelname en deelname aan het openbaar vervoer in relatie tot persoonskenmerken. Het bevat gegevens over het percentage vrouwen dat gebruik maakt van het openbaar vervoer, vrouwen met een niet-westerse migratieachtergrond die deelnemen aan het verkeer, minderjarigen zonder rijbewijs, vrouwen tussen 35 en 50 jaar die deelnemen aan het verkeer en het percentage vrouwen zonder rijbewijs dat gebruik maakt van het openbaar vervoer.\"\n        ],\n        \"semantic_type\": \"\",\n        \"description\": \"\"\n      }\n    },\n    {\n      \"column\": \"table_flatten_only_summary\",\n      \"properties\": {\n        \"dtype\": \"string\",\n        \"num_unique_values\": 567,\n        \"samples\": [\n          \"Deze dataset geeft informatie over de werkgelegenheid in Nederland op basis van geslacht, dienstverband, bedrijfsgrootte en cao-sector. De dataset omvat gegevens over banen, arbeidsvolume, lonen, arbeidsduur en andere kenmerken van de werkgelegenheid tussen 2009 en 2022.\",\n          \"Deze dataset bevat gegevens over het aantal banen dat wordt verricht door werknemers die minder dan 130% van het wettelijke minimumloon verdienen, verdeeld over verschillende kenmerken zoals leeftijd, geslacht, nationaliteit en cao-sector. De data is beschikbaar vanaf 2009 en toont een overzicht van de arbeidsmarkt en loonstructuur in Nederland.\",\n          \"Deze dataset bevat cijfers over de veranderingen in de voorraad woningen in Nederland vanaf 1921. De dataset geeft inzicht in de hoeveelheid woningen die in verschillende periodes zijn gebouwd, gesloopt of anderszins zijn gewijzigd. Hierdoor biedt de dataset een compleet beeld van de geschiedenis van de Nederlandse woningmarkt.\"\n        ],\n        \"semantic_type\": \"\",\n        \"description\": \"\"\n      }\n    },\n    {\n      \"column\": \"schema_summary\",\n      \"properties\": {\n        \"dtype\": \"string\",\n        \"num_unique_values\": 542,\n        \"samples\": [\n          \"ID | Huishoudenskenmerken | Perioden | ZeerMoeilijkRondkomen_1 | MaandelijkseWoonkostenZijnZwareLast_2 | LeningenZijnZwareLast_3 | EenWarmeMaaltijdOmDeAndereDag_4 | HetRegelmatigKopenVanNieuweKleding_5 | HetVerwarmenVanHetHuis_6 | HetVervangenVanVersletenMeubels_7 | HetTeEtenVragenVanFamilieKennissen_8 | JaarlijksEenWeekVakantie_9 | OnverwachteNoodzakelijkeUitgaven_10 | MinstensEenVanDeGenoemdeItems_11 | HuurOfHypotheek_12 | GasWaterEnElektriciteit_13 | OpAfbetalingGekochteArtikelen_14 | OpMinstensEenVanDeGenoemdeItems_15\",\n          \"ID | Uitvoerstromen | Perioden | Uitvoerwaarde_1 | ToegevoegdeWaardeDoorUitvoer_2 | AandeelToegevoegdeWaardeInBbp_3 | AandeelToegevoegdeWaardeInUitvoer_4 | InvoerIntermediaireGoederenDiensten_5 | InvoerVoorWederuitvoer_6 | WerkgelegenheidTotaal_7 | AandeelInNederlandseWerkgelegenheid_8\",\n          \"ID | Diercategorie | RegioS | Perioden | TotaalMestproductie_1 | DunneMestInDeStal_2 | DunneMestInDeWei_3 | VasteMestInDeStal_4 | TotaalStikstofuitscheiding_5 | StikstofuitscheidingInDeStal_6 | StikstofuitscheidingInDeWei_7 | TotaalStikstofverliezenN_8 | AmmoniakemissieN_9 | OverigeGasvormigeStikstofverliezenN_10 | SpuiwaterLuchtwassersN_11 | StikstofInOpgeslagenMestEnWeidemest_12 | TotaalFosfaatuitscheiding_13 | FosfaatuitscheidingInDeStal_14 | FosfaatuitscheidingInDeWei_15\"\n        ],\n        \"semantic_type\": \"\",\n        \"description\": \"\"\n      }\n    }\n  ]\n}"
            }
          },
          "metadata": {},
          "execution_count": 166
        }
      ],
      "source": [
        "df_Column_TS.head()"
      ]
    },
    {
      "cell_type": "markdown",
      "metadata": {
        "id": "xlWIWM--9Jx1"
      },
      "source": [
        "Filter out the tables that did not have a metadata should be 73"
      ]
    },
    {
      "cell_type": "code",
      "execution_count": 167,
      "metadata": {
        "colab": {
          "base_uri": "https://localhost:8080/",
          "height": 0
        },
        "id": "7aY7gGQs9Jx1",
        "outputId": "f528e9fc-091b-467b-8665-be09a5959fd1"
      },
      "outputs": [
        {
          "output_type": "stream",
          "name": "stdout",
          "text": [
            "Count: 73\n"
          ]
        }
      ],
      "source": [
        "count = (df_CSummary_TS['original_metadata_text'] == 'Niet Beschikbaar.').sum()\n",
        "print(f\"Count: {count}\")"
      ]
    },
    {
      "cell_type": "code",
      "execution_count": 168,
      "metadata": {
        "colab": {
          "base_uri": "https://localhost:8080/",
          "height": 0
        },
        "id": "_l_u6-Yr9Jx1",
        "outputId": "f13a6fe5-4f5c-46c2-e039-d20bb1766c33"
      },
      "outputs": [
        {
          "output_type": "stream",
          "name": "stdout",
          "text": [
            "Tables missing in experiments: 567\n"
          ]
        }
      ],
      "source": [
        "# Convert to sets\n",
        "ids_metadata = set(df_Column_TS['table_id'])\n",
        "ids_qa = set(df_qa['table_id'])\n",
        "\n",
        "# Check overlap\n",
        "intersection = ids_metadata.intersection(ids_qa)\n",
        "missing_in_qa = ids_metadata - ids_qa\n",
        "print(f\"Tables missing in experiments: {len(ids_metadata)}\")"
      ]
    },
    {
      "cell_type": "markdown",
      "metadata": {
        "id": "ZqFZ7zu49Jx1"
      },
      "source": [
        "We remove the tables that did not have an original metadata"
      ]
    },
    {
      "cell_type": "code",
      "execution_count": 169,
      "metadata": {
        "id": "oO9-I0ET9Jx1"
      },
      "outputs": [],
      "source": [
        "qa_table_ids = set(df_qa['table_id'].astype(str))\n",
        "\n",
        "df_CSummary_TS = df_CSummary_TS[df_CSummary_TS.index.astype(str).isin(qa_table_ids)].copy()\n",
        "df_CSample_TS = df_CSample_TS[df_CSample_TS.index.astype(str).isin(qa_table_ids)].copy()\n",
        "df_Column_TS = df_Column_TS[df_Column_TS.index.astype(str).isin(qa_table_ids)].copy()"
      ]
    },
    {
      "cell_type": "code",
      "execution_count": 170,
      "metadata": {
        "colab": {
          "base_uri": "https://localhost:8080/",
          "height": 0
        },
        "id": "2XIKpTiV9Jx2",
        "outputId": "4266fc63-b693-46ca-dcb1-fa11e70d014a"
      },
      "outputs": [
        {
          "output_type": "stream",
          "name": "stdout",
          "text": [
            "Tables missing in experiments: 494\n"
          ]
        }
      ],
      "source": [
        "ids_metadata = set(df_Column_TS['table_id'])\n",
        "ids_qa = set(df_qa['table_id'])\n",
        "\n",
        "# Check overlap\n",
        "intersection = ids_metadata.intersection(ids_qa)\n",
        "missing_in_qa = ids_metadata - ids_qa\n",
        "print(f\"Tables missing in experiments: {len(ids_metadata)}\")"
      ]
    },
    {
      "cell_type": "markdown",
      "metadata": {
        "id": "yy6-MQWL9Jx2"
      },
      "source": [
        "### Concatonated raw metadata text"
      ]
    },
    {
      "cell_type": "code",
      "execution_count": 171,
      "metadata": {
        "id": "CcCzfl1R9Jx2"
      },
      "outputs": [],
      "source": [
        "cols_original = [\n",
        "    \"table_desc\",\n",
        "    \"expanded_desc\",\n",
        "    \"Summary\",\n",
        "    \"Keywords\",\n",
        "    \"columns_string\"\n",
        "]\n",
        "\n",
        "col_CSummary_TSummary = [\n",
        "    \"original_metadata_text\",\n",
        "    \"overall_summary\",\n",
        "    # \"schema_summary\"\n",
        "]\n",
        "\n",
        "col_CSample_TSummary = [\n",
        "    \"original_metadata_text\",\n",
        "    \"table_w_sample_summary\",\n",
        "    # \"schema_summary\"\n",
        "]\n",
        "\n",
        "col_Column_TSummary = [\n",
        "    \"original_metadata_text\",\n",
        "    \"table_flatten_only_summary\",\n",
        "    # \"schema_summary\"\n",
        "]\n"
      ]
    },
    {
      "cell_type": "code",
      "execution_count": 172,
      "metadata": {
        "colab": {
          "base_uri": "https://localhost:8080/",
          "height": 206
        },
        "id": "jQd3eFZW9Jx2",
        "outputId": "acff0b69-c0ff-49a7-8bee-e908e2d8fe14"
      },
      "outputs": [
        {
          "output_type": "execute_result",
          "data": {
            "text/plain": [
              "          table_id                             original_metadata_text  \\\n",
              "37201        37201  Geboorte; kerncijfers per regio Deze tabel bev...   \n",
              "37772ned  37772ned  Huwen; kerncijfers Deze tabel bevat kerncijfer...   \n",
              "37789ksz  37789ksz  Sociale zekerheid; kerncijfers Deze tabel geef...   \n",
              "37979ned  37979ned  Overledenen; kerncijfers Deze tabel bevat kern...   \n",
              "70072ned  70072ned  Regionale kerncijfers Nederland In deze tabel ...   \n",
              "\n",
              "                                           column_summaries  \\\n",
              "37201     [De kolom ID vertegenwoordigt: De kolom 'ID' l...   \n",
              "37772ned  [De kolom ID vertegenwoordigt: De kolom 'ID' l...   \n",
              "37789ksz  [De kolom ID vertegenwoordigt: Er is geen dire...   \n",
              "37979ned  [De kolom ID vertegenwoordigt: De kolom 'ID' l...   \n",
              "70072ned  [De kolom ID vertegenwoordigt: Ik kon geen dir...   \n",
              "\n",
              "                                             schema_summary  \\\n",
              "37201     De kolom ID vertegenwoordigt: De kolom 'ID' li...   \n",
              "37772ned  De kolom ID vertegenwoordigt: De kolom 'ID' li...   \n",
              "37789ksz  De kolom ID vertegenwoordigt: Er is geen direc...   \n",
              "37979ned  De kolom ID vertegenwoordigt: De kolom 'ID' li...   \n",
              "70072ned  De kolom ID vertegenwoordigt: Ik kon geen dire...   \n",
              "\n",
              "                                            overall_summary  \\\n",
              "37201     Deze dataset bevat gegevens over levend gebore...   \n",
              "37772ned  De dataset bevat kerncijfers over huwelijksslu...   \n",
              "37789ksz  Deze dataset bevat kerncijfers over de sociale...   \n",
              "37979ned  Deze dataset bevat kerncijfers over overleden ...   \n",
              "70072ned  De dataset bevat gegevens over regionale kernc...   \n",
              "\n",
              "                                             sampled_values  \n",
              "37201     [[6312, 4425, 9875], [CR30  , GM1891, PV27  ],...  \n",
              "37772ned  [[8, 27, 36], [1958JJ00, 1977JJ00, 1986JJ00], ...  \n",
              "37789ksz  [[266, 109, 229], [2018MM07, 2006MM06, 2015MM0...  \n",
              "37979ned  [[173, 66, 135], [3000   , 4000   , T001038], ...  \n",
              "70072ned  [[6312, 4425, 9875], [GM0362, GM0228, PV20  ],...  "
            ],
            "text/html": [
              "\n",
              "  <div id=\"df-757a94fb-a0cb-487f-aab4-797d0cb50bc1\" class=\"colab-df-container\">\n",
              "    <div>\n",
              "<style scoped>\n",
              "    .dataframe tbody tr th:only-of-type {\n",
              "        vertical-align: middle;\n",
              "    }\n",
              "\n",
              "    .dataframe tbody tr th {\n",
              "        vertical-align: top;\n",
              "    }\n",
              "\n",
              "    .dataframe thead th {\n",
              "        text-align: right;\n",
              "    }\n",
              "</style>\n",
              "<table border=\"1\" class=\"dataframe\">\n",
              "  <thead>\n",
              "    <tr style=\"text-align: right;\">\n",
              "      <th></th>\n",
              "      <th>table_id</th>\n",
              "      <th>original_metadata_text</th>\n",
              "      <th>column_summaries</th>\n",
              "      <th>schema_summary</th>\n",
              "      <th>overall_summary</th>\n",
              "      <th>sampled_values</th>\n",
              "    </tr>\n",
              "  </thead>\n",
              "  <tbody>\n",
              "    <tr>\n",
              "      <th>37201</th>\n",
              "      <td>37201</td>\n",
              "      <td>Geboorte; kerncijfers per regio Deze tabel bev...</td>\n",
              "      <td>[De kolom ID vertegenwoordigt: De kolom 'ID' l...</td>\n",
              "      <td>De kolom ID vertegenwoordigt: De kolom 'ID' li...</td>\n",
              "      <td>Deze dataset bevat gegevens over levend gebore...</td>\n",
              "      <td>[[6312, 4425, 9875], [CR30  , GM1891, PV27  ],...</td>\n",
              "    </tr>\n",
              "    <tr>\n",
              "      <th>37772ned</th>\n",
              "      <td>37772ned</td>\n",
              "      <td>Huwen; kerncijfers Deze tabel bevat kerncijfer...</td>\n",
              "      <td>[De kolom ID vertegenwoordigt: De kolom 'ID' l...</td>\n",
              "      <td>De kolom ID vertegenwoordigt: De kolom 'ID' li...</td>\n",
              "      <td>De dataset bevat kerncijfers over huwelijksslu...</td>\n",
              "      <td>[[8, 27, 36], [1958JJ00, 1977JJ00, 1986JJ00], ...</td>\n",
              "    </tr>\n",
              "    <tr>\n",
              "      <th>37789ksz</th>\n",
              "      <td>37789ksz</td>\n",
              "      <td>Sociale zekerheid; kerncijfers Deze tabel geef...</td>\n",
              "      <td>[De kolom ID vertegenwoordigt: Er is geen dire...</td>\n",
              "      <td>De kolom ID vertegenwoordigt: Er is geen direc...</td>\n",
              "      <td>Deze dataset bevat kerncijfers over de sociale...</td>\n",
              "      <td>[[266, 109, 229], [2018MM07, 2006MM06, 2015MM0...</td>\n",
              "    </tr>\n",
              "    <tr>\n",
              "      <th>37979ned</th>\n",
              "      <td>37979ned</td>\n",
              "      <td>Overledenen; kerncijfers Deze tabel bevat kern...</td>\n",
              "      <td>[De kolom ID vertegenwoordigt: De kolom 'ID' l...</td>\n",
              "      <td>De kolom ID vertegenwoordigt: De kolom 'ID' li...</td>\n",
              "      <td>Deze dataset bevat kerncijfers over overleden ...</td>\n",
              "      <td>[[173, 66, 135], [3000   , 4000   , T001038], ...</td>\n",
              "    </tr>\n",
              "    <tr>\n",
              "      <th>70072ned</th>\n",
              "      <td>70072ned</td>\n",
              "      <td>Regionale kerncijfers Nederland In deze tabel ...</td>\n",
              "      <td>[De kolom ID vertegenwoordigt: Ik kon geen dir...</td>\n",
              "      <td>De kolom ID vertegenwoordigt: Ik kon geen dire...</td>\n",
              "      <td>De dataset bevat gegevens over regionale kernc...</td>\n",
              "      <td>[[6312, 4425, 9875], [GM0362, GM0228, PV20  ],...</td>\n",
              "    </tr>\n",
              "  </tbody>\n",
              "</table>\n",
              "</div>\n",
              "    <div class=\"colab-df-buttons\">\n",
              "\n",
              "  <div class=\"colab-df-container\">\n",
              "    <button class=\"colab-df-convert\" onclick=\"convertToInteractive('df-757a94fb-a0cb-487f-aab4-797d0cb50bc1')\"\n",
              "            title=\"Convert this dataframe to an interactive table.\"\n",
              "            style=\"display:none;\">\n",
              "\n",
              "  <svg xmlns=\"http://www.w3.org/2000/svg\" height=\"24px\" viewBox=\"0 -960 960 960\">\n",
              "    <path d=\"M120-120v-720h720v720H120Zm60-500h600v-160H180v160Zm220 220h160v-160H400v160Zm0 220h160v-160H400v160ZM180-400h160v-160H180v160Zm440 0h160v-160H620v160ZM180-180h160v-160H180v160Zm440 0h160v-160H620v160Z\"/>\n",
              "  </svg>\n",
              "    </button>\n",
              "\n",
              "  <style>\n",
              "    .colab-df-container {\n",
              "      display:flex;\n",
              "      gap: 12px;\n",
              "    }\n",
              "\n",
              "    .colab-df-convert {\n",
              "      background-color: #E8F0FE;\n",
              "      border: none;\n",
              "      border-radius: 50%;\n",
              "      cursor: pointer;\n",
              "      display: none;\n",
              "      fill: #1967D2;\n",
              "      height: 32px;\n",
              "      padding: 0 0 0 0;\n",
              "      width: 32px;\n",
              "    }\n",
              "\n",
              "    .colab-df-convert:hover {\n",
              "      background-color: #E2EBFA;\n",
              "      box-shadow: 0px 1px 2px rgba(60, 64, 67, 0.3), 0px 1px 3px 1px rgba(60, 64, 67, 0.15);\n",
              "      fill: #174EA6;\n",
              "    }\n",
              "\n",
              "    .colab-df-buttons div {\n",
              "      margin-bottom: 4px;\n",
              "    }\n",
              "\n",
              "    [theme=dark] .colab-df-convert {\n",
              "      background-color: #3B4455;\n",
              "      fill: #D2E3FC;\n",
              "    }\n",
              "\n",
              "    [theme=dark] .colab-df-convert:hover {\n",
              "      background-color: #434B5C;\n",
              "      box-shadow: 0px 1px 3px 1px rgba(0, 0, 0, 0.15);\n",
              "      filter: drop-shadow(0px 1px 2px rgba(0, 0, 0, 0.3));\n",
              "      fill: #FFFFFF;\n",
              "    }\n",
              "  </style>\n",
              "\n",
              "    <script>\n",
              "      const buttonEl =\n",
              "        document.querySelector('#df-757a94fb-a0cb-487f-aab4-797d0cb50bc1 button.colab-df-convert');\n",
              "      buttonEl.style.display =\n",
              "        google.colab.kernel.accessAllowed ? 'block' : 'none';\n",
              "\n",
              "      async function convertToInteractive(key) {\n",
              "        const element = document.querySelector('#df-757a94fb-a0cb-487f-aab4-797d0cb50bc1');\n",
              "        const dataTable =\n",
              "          await google.colab.kernel.invokeFunction('convertToInteractive',\n",
              "                                                    [key], {});\n",
              "        if (!dataTable) return;\n",
              "\n",
              "        const docLinkHtml = 'Like what you see? Visit the ' +\n",
              "          '<a target=\"_blank\" href=https://colab.research.google.com/notebooks/data_table.ipynb>data table notebook</a>'\n",
              "          + ' to learn more about interactive tables.';\n",
              "        element.innerHTML = '';\n",
              "        dataTable['output_type'] = 'display_data';\n",
              "        await google.colab.output.renderOutput(dataTable, element);\n",
              "        const docLink = document.createElement('div');\n",
              "        docLink.innerHTML = docLinkHtml;\n",
              "        element.appendChild(docLink);\n",
              "      }\n",
              "    </script>\n",
              "  </div>\n",
              "\n",
              "\n",
              "    <div id=\"df-e6146657-2b7c-4647-a612-87c630f98f6c\">\n",
              "      <button class=\"colab-df-quickchart\" onclick=\"quickchart('df-e6146657-2b7c-4647-a612-87c630f98f6c')\"\n",
              "                title=\"Suggest charts\"\n",
              "                style=\"display:none;\">\n",
              "\n",
              "<svg xmlns=\"http://www.w3.org/2000/svg\" height=\"24px\"viewBox=\"0 0 24 24\"\n",
              "     width=\"24px\">\n",
              "    <g>\n",
              "        <path d=\"M19 3H5c-1.1 0-2 .9-2 2v14c0 1.1.9 2 2 2h14c1.1 0 2-.9 2-2V5c0-1.1-.9-2-2-2zM9 17H7v-7h2v7zm4 0h-2V7h2v10zm4 0h-2v-4h2v4z\"/>\n",
              "    </g>\n",
              "</svg>\n",
              "      </button>\n",
              "\n",
              "<style>\n",
              "  .colab-df-quickchart {\n",
              "      --bg-color: #E8F0FE;\n",
              "      --fill-color: #1967D2;\n",
              "      --hover-bg-color: #E2EBFA;\n",
              "      --hover-fill-color: #174EA6;\n",
              "      --disabled-fill-color: #AAA;\n",
              "      --disabled-bg-color: #DDD;\n",
              "  }\n",
              "\n",
              "  [theme=dark] .colab-df-quickchart {\n",
              "      --bg-color: #3B4455;\n",
              "      --fill-color: #D2E3FC;\n",
              "      --hover-bg-color: #434B5C;\n",
              "      --hover-fill-color: #FFFFFF;\n",
              "      --disabled-bg-color: #3B4455;\n",
              "      --disabled-fill-color: #666;\n",
              "  }\n",
              "\n",
              "  .colab-df-quickchart {\n",
              "    background-color: var(--bg-color);\n",
              "    border: none;\n",
              "    border-radius: 50%;\n",
              "    cursor: pointer;\n",
              "    display: none;\n",
              "    fill: var(--fill-color);\n",
              "    height: 32px;\n",
              "    padding: 0;\n",
              "    width: 32px;\n",
              "  }\n",
              "\n",
              "  .colab-df-quickchart:hover {\n",
              "    background-color: var(--hover-bg-color);\n",
              "    box-shadow: 0 1px 2px rgba(60, 64, 67, 0.3), 0 1px 3px 1px rgba(60, 64, 67, 0.15);\n",
              "    fill: var(--button-hover-fill-color);\n",
              "  }\n",
              "\n",
              "  .colab-df-quickchart-complete:disabled,\n",
              "  .colab-df-quickchart-complete:disabled:hover {\n",
              "    background-color: var(--disabled-bg-color);\n",
              "    fill: var(--disabled-fill-color);\n",
              "    box-shadow: none;\n",
              "  }\n",
              "\n",
              "  .colab-df-spinner {\n",
              "    border: 2px solid var(--fill-color);\n",
              "    border-color: transparent;\n",
              "    border-bottom-color: var(--fill-color);\n",
              "    animation:\n",
              "      spin 1s steps(1) infinite;\n",
              "  }\n",
              "\n",
              "  @keyframes spin {\n",
              "    0% {\n",
              "      border-color: transparent;\n",
              "      border-bottom-color: var(--fill-color);\n",
              "      border-left-color: var(--fill-color);\n",
              "    }\n",
              "    20% {\n",
              "      border-color: transparent;\n",
              "      border-left-color: var(--fill-color);\n",
              "      border-top-color: var(--fill-color);\n",
              "    }\n",
              "    30% {\n",
              "      border-color: transparent;\n",
              "      border-left-color: var(--fill-color);\n",
              "      border-top-color: var(--fill-color);\n",
              "      border-right-color: var(--fill-color);\n",
              "    }\n",
              "    40% {\n",
              "      border-color: transparent;\n",
              "      border-right-color: var(--fill-color);\n",
              "      border-top-color: var(--fill-color);\n",
              "    }\n",
              "    60% {\n",
              "      border-color: transparent;\n",
              "      border-right-color: var(--fill-color);\n",
              "    }\n",
              "    80% {\n",
              "      border-color: transparent;\n",
              "      border-right-color: var(--fill-color);\n",
              "      border-bottom-color: var(--fill-color);\n",
              "    }\n",
              "    90% {\n",
              "      border-color: transparent;\n",
              "      border-bottom-color: var(--fill-color);\n",
              "    }\n",
              "  }\n",
              "</style>\n",
              "\n",
              "      <script>\n",
              "        async function quickchart(key) {\n",
              "          const quickchartButtonEl =\n",
              "            document.querySelector('#' + key + ' button');\n",
              "          quickchartButtonEl.disabled = true;  // To prevent multiple clicks.\n",
              "          quickchartButtonEl.classList.add('colab-df-spinner');\n",
              "          try {\n",
              "            const charts = await google.colab.kernel.invokeFunction(\n",
              "                'suggestCharts', [key], {});\n",
              "          } catch (error) {\n",
              "            console.error('Error during call to suggestCharts:', error);\n",
              "          }\n",
              "          quickchartButtonEl.classList.remove('colab-df-spinner');\n",
              "          quickchartButtonEl.classList.add('colab-df-quickchart-complete');\n",
              "        }\n",
              "        (() => {\n",
              "          let quickchartButtonEl =\n",
              "            document.querySelector('#df-e6146657-2b7c-4647-a612-87c630f98f6c button');\n",
              "          quickchartButtonEl.style.display =\n",
              "            google.colab.kernel.accessAllowed ? 'block' : 'none';\n",
              "        })();\n",
              "      </script>\n",
              "    </div>\n",
              "\n",
              "    </div>\n",
              "  </div>\n"
            ],
            "application/vnd.google.colaboratory.intrinsic+json": {
              "type": "dataframe",
              "variable_name": "df_CSummary_TS",
              "summary": "{\n  \"name\": \"df_CSummary_TS\",\n  \"rows\": 494,\n  \"fields\": [\n    {\n      \"column\": \"table_id\",\n      \"properties\": {\n        \"dtype\": \"string\",\n        \"num_unique_values\": 494,\n        \"samples\": [\n          \"7140gras\",\n          \"85277NED\",\n          \"83671NED\"\n        ],\n        \"semantic_type\": \"\",\n        \"description\": \"\"\n      }\n    },\n    {\n      \"column\": \"original_metadata_text\",\n      \"properties\": {\n        \"dtype\": \"string\",\n        \"num_unique_values\": 494,\n        \"samples\": [\n          \"Grasland; oppervlakte en opbrengst Deze tabel geeft informatie over de oppervlakte grasland bij agrarische bedrijven en de opbrengst aan gemaaid gras. Het merendeel van het gemaaide gras wordt, in de vorm van kuilgras en hooi, gebruikt als wintervoedering voor de koeien, een klein deel is bestemd voor zomerstalvoedering en voor andere doeleinden. Verder wordt ook de voorraad kuilgras en hooi aan het einde van het jaar (het begin van de stalperiode voor de koeien) vermeld. Gegevens zijn vanaf 1985 beschikbaar voor Nederland totaal en vanaf 1993 ook voor vijf landbouwregio's. Tot en met 2017 werden de cijfers jaarlijks (overwegend) vastgesteld uit de resultaten van de enqu\\u00eate Graslandgebruik. Per 2018 worden de cijfers van melkveehouders vastgesteld op basis van informatie uit de database van de KringloopWijzer. Deze database is in beheer van ZuivelNL. De cijfers van niet-melkveehouders worden vastgesteld uit de resultaten van de enqu\\u00eate Graslandgebruik. Met ingang van 2022 worden de cijfers van zowel melkveehouders als niet-melkveehouders vastgesteld uit de resultaten van de enqu\\u00eate Graslandgebruik. Met ingang van 2018 wordt natuurlijk grasland met een landbouwfunctie meegenomen in de vaststelling van de oppervlakte en de opbrengst van grasland. Hierdoor is de totale oppervlakte en opbrengst grasland in Nederland ten opzichte van 2017 toegenomen. Met ingang van 2021 is de methode voor berekening van de grasopbrengst bijgesteld. Was tot en met 2020 de hoogste toegestane opbrengst 15.000 kg droge stof per hectare, in 2021 is dit 20.000 kg per hectare. Status van de cijfers: de cijfers tot en met 2021 zijn definitief. Wijzigingen per 14 september 2023: De cijfers van 2021 zijn definitief geworden. De voorlopige cijfers over 2022 zijn toegevoegd. Wanneer komen er nieuwe cijfers? Uiterlijk in het derde kwartaal verschijnen de voorlopige cijfers van het voorafgaande jaar en krijgen de cijfers van een jaar eerder een definitieve status. Nederland en weideregio's; Oppervlakte (totaal en gemaaid) verwerking tot hooi, kuil - en/of stalvoer, voorraden in droge stof hooi en kuilvoer Grasland; oppervlakte en opbrengst ['Grasland', 'oppervlakte', 'opbrengst', 'kuilgras', 'weidegebied', 'zomerstalvoedering'] Deze tabel kan geraadpleegd worden indien informatie nodig is over de oppervlakte en opbrengst van grasland in verschillende weidegebieden in specifieke jaren. Het bevat gegevens over kuilgrasproductie, verwerking van grasland tot zomerstalvoedering en percentages van graslandgebruik voor diverse doeleinden.\",\n          \"Werkzame beroepsbevolking; gem. inkomen Deze tabel bevat cijfers over het gemiddeld inkomen (persoonlijk overdrachtsinkomen, persoonlijk inkomen, gestandaardiseerd inkomen) van de werkzame beroepsbevolking van 15 tot 75 jaar (exclusief de institutionele bevolking). Deze gegevens worden verbijzonderd naar positie in de werkkring en uitgesplitst naar geslacht, leeftijd, onderwijsniveau en positie in het huishouden. Gegevens beschikbaar vanaf: 2013 Status van de cijfers: De cijfers in deze tabel zijn definitief, alleen de inkomenscijfers van 2021 zijn voorlopig. Wijzigingen per 30 juni 2023: De voorlopige inkomenscijfers voor 2020 worden vervangen door definitieve. Daarnaast worden voorlopige inkomenscijfers voor 2021 toegevoegd. Het CBS gaat over op een nieuwe indeling van de bevolking naar herkomst. Voortaan is meer bepalend waar iemand zelf geboren is, naast waar iemands ouders geboren zijn. Daarbij wordt het woord migratieachtergrond niet meer gebruikt. De hoofdindeling westers/niet-westers wordt vervangen door een indeling op basis van werelddelen en veelvoorkomende immigratielanden. Deze indeling wordt geleidelijk ingevoerd in tabellen en publicaties met bevolking naar herkomst. Voor deze StatLinetabel is besloten dat de herkomstindeling komt te vervallen. Wijzigingen per 17 augustus 2022: Geen, dit is een nieuwe tabel. Deze tabel is samengesteld op basis van de Enqu\\u00eate Beroepsbevolking (EBB). Vanwege wijzigingen in het onderzoeksdesign en de vragenlijst van de EBB zijn de cijfers over 2021 niet zonder meer vergelijkbaar met de cijfers tot en met 2020. De kerncijfers in deze tabel zijn daarom consistent gemaakt met de (niet-seizoengecorrigeerde) cijfers in de tabel Arbeidsdeelname, kerncijfers seizoengecorrigeerd (zie paragraaf 4), waarin de uitkomsten voor de periode 2013-2020 zijn herberekend om aan te sluiten op de uitkomsten vanaf 2021. Bij verdere detaillering van de uitkomsten naar baan- en persoonskenmerken kunnen er van 2020 op 2021 desondanks verschillen zijn als gevolg van de nieuwe methode. Wanneer komen er nieuwe cijfers? De nieuwe cijfers komen een jaar na afloop van het verslagjaar beschikbaar. Het gaat dan om voorlopige cijfers. Deze worden twee jaar na afloop van het verslagjaar definitief. Persoonlijk (primair) en gestandaardiseerd inkomen, werkzamen Geslacht, positie werkkring, arbeidsduur en persoonskenmerken Werkzame beroepsbevolking; gemiddeld inkomen besteedbare inkomens ['Werkzame beroepsbevolking', 'Gemiddeld inkomen', 'Tijdelijke contracten', 'Zelfstandige ondernemers', 'Zelfstandige docenten', 'Leeftijdscategorie\\u00ebn', 'Uren per week', 'Jaartallen'] Deze tabel kan geraadpleegd worden indien men informatie zoekt over de werkzame beroepsbevolking, gemiddelde inkomens, tijdelijke contracten, zelfstandige ondernemers en docenten, verdeeld over verschillende leeftijdscategorie\\u00ebn, aantal gewerkte uren per week en jaartallen. Het bevat specifieke data zoals het aantal mensen met tijdelijke contracten die minder dan 20 uur per week werken in bepaalde jaren en leeftijdsgroepen.\",\n          \"Bouwvergunningen woonruimten; eigendom In deze tabel worden gegevens gepubliceerd over de geschatte bouwkosten en het aantal nieuw te bouwen woonruimten waarvoor de verleende bouwvergunning is gemeld bij het CBS. De uitkomsten hebben betrekking op verleende bouwvergunningen met een bouwsom vanaf 50 duizend euro, exclusief BTW. De gegevens zijn uitgesplitst naar type opdrachtgever, naar type woonruimte (woning, wooneenheid en recreatiewoning), naar het soort eigendom (huur- en koopwoningen) en naar gemeenten. Omdat deze tabel uitsluitend de gerespondeerde gegevens van de gemeenten bevat, sluit deze tabel niet aan bij andere gepubliceerde tabellen over de bouwvergunningen, er is daarom voor gekozen om niet te aggregeren naar bovengemeentelijke indelingen zoals provincie en landsdeel. Gegevens beschikbaar vanaf januari 2012. Status van de cijfers: De cijfers over 2012 t/m het derde kwartaal 2022 zijn definitief. De cijfers vanaf het vierde kwartaal van 2022 zijn voorlopig. Deze tabel bevat alleen de gerespondeerde gegevens zoals ontvangen van de gemeenten. Gemeenten met non-respons worden niet geschat. Nagekomen opgaven van gemeenten over voorgaande perioden zijn verwerkt in de cijfers van de maand waarin de vergunning is verleend. Hierdoor kunnen cijfers over eenzelfde maand in de loop der tijd vari\\u00ebren. Twaalf maanden na publicatie wordt het voorlopige cijfer definitief vastgesteld. Wijzigingen per 16 november 2023: De cijfers van het derde kwartaal 2022 zijn definitief gemaakt. De cijfers van het derde kwartaal 2023 zijn toegevoegd. De voorlopige cijfers van het vierde kwartaal 2022 tot en met het tweede kwartaal 2023 kunnen enigszins verschillen met de vorige publicatie. Wanneer komen er nieuwe cijfers? De nieuwe cijfers worden circa 2 maanden na de verslagperiode gepubliceerd. De cijfers over hetzelfde kwartaal van een jaar eerder worden dan definitief. Bouwkosten, woonsector opdrachtgever, eigendom, gemeente Bouwvergunningen woonruimten; type, opdrachtgever, eigendom, gemeente gemeenten ['Bouwvergunningen woonruimten', 'bouwkosten', 'opdrachtgever', 'eigendom', 'gemeente'] Deze tabel kan geraadpleegd worden indien men informatie zoekt over bouwvergunningen voor woonruimten, inclusief bouwkosten, opdrachtgever, eigendom en gemeente. Voorbeelden van vragen die deze tabel kan beantwoorden zijn: bouwkosten voor huurwoningen in Beesel in het 4e kwartaal van 2014, aantal woonruimte bouwvergunningen in 2013 in Deventer, totaal aantal bouwvergunningen voor woonruimten opdrachtgever Wijchen 3e kwartaal 2021, en meer.\"\n        ],\n        \"semantic_type\": \"\",\n        \"description\": \"\"\n      }\n    },\n    {\n      \"column\": \"column_summaries\",\n      \"properties\": {\n        \"dtype\": \"object\",\n        \"semantic_type\": \"\",\n        \"description\": \"\"\n      }\n    },\n    {\n      \"column\": \"schema_summary\",\n      \"properties\": {\n        \"dtype\": \"string\",\n        \"num_unique_values\": 494,\n        \"samples\": [\n          \"De kolom ID vertegenwoordigt: De kolom \\\"ID\\\" lijkt te verwijzen naar unieke identificatienummers die elke rij in de tabel hebben gekregen. Deze nummers kunnen waarschijnlijk worden gebruikt om individuele records of observaties in de dataset te onderscheiden. Ze hebben geen directe betekenis voor de inhoud van de data, maar dienen meer functioneel als sleutels voor de organisatie en ordening van de gegevens. \\n\\nEen mogelijke interpretatie is dat deze IDs corresponderen met een combinatie van factoren zoals regio, periode en soortelijk onderzoek, waarbij elk getal uniek is binnen deze combinatie. De kolom RegioS vertegenwoordigt: De kolom 'RegioS' lijkt te verwijzen naar regio's in Nederland waarin landbouwactiviteiten plaatsvinden. De voorbeelden 'GG02', 'GG04' en 'GG01' suggereren dat ze referenties zijn naar specifieke gebiedscode of provincies in Nederland. \\n\\nEchter, zonder meer concrete informatie over de betekenis van deze codes, kan ik slechts concluderen dat ze waarschijnlijk regionale aanduidingen zijn. De kolom Perioden vertegenwoordigt: De kolom \\\"Perioden\\\" lijkt te vertegenwoordigen de periode waarvoor de gegevens gelden. De waarden in deze kolom hebben de vorm \\\"jaar-jaartype\\\", waarbij \\\"jaar\\\" het kalenderjaar aangeeft en \\\"jaartype\\\" een code aangeeft om te onderscheiden tussen verschillende periodes binnen \\u00e9\\u00e9n kalenderjaar.\\n\\nEen paar voorbeelden:\\n* \\\"2023JJ00\\\" zou kunnen betekenen dat de gegevens gaan over het eerste kwartaal van 2023.\\n* \\\"2021JJ00\\\" zou kunnen betekennen dat de gegevens gaan over het hele jaar 2021.\\n* \\\"1987JJ00\\\" zou kunnen betekenen dat de gegevens gaan over het tweede halfjaar van 1987.\\n\\nHet is echter niet duidelijk hoe precies de codes in de kolom \\\"Perioden\\\" zijn samengesteld, dus deze interpretatie is slechts een mogelijke uitleg. De kolom TotaleOppervlakteGrasland_1 vertegenwoordigt: De kolom 'TotaleOppervlakteGrasland_1' vertegenwoordigt de totale oppervlakte van grasland in een bepaald gebied of regio. In het voorbeeld worden getallen genoemd zoals 218,0, 166,0 en 234,0, die waarschijnlijk de oppervlakten in hectares vertegenwoordigen. De kolom TotaleGemaaideOppervlakteGrasland_2 vertegenwoordigt: De kolom \\\"TotaleGemaaideOppervlakteGrasland_2\\\" vertegenwoordigt de totale oppervlakte van gemaaid grasland in een bepaald gebied of regio. In het voorbeeld worden waarden genoemd zoals 491,0, 1979,0 en 229,0, die aangeven dat deze getallen representatief zijn voor de oppervlaktes van gemaaid grasland in respectievelijk 1985, 1993 en 1993 (jaargangen waarvoor data beschikbaar is). De kolom Kuilgras_3 vertegenwoordigt: De kolom \\\"Kuilgras_3\\\" vertegenwoordigt de productie of hoeveelheid kuilgras in tonnen droge stof per hectare. In het voorbeeld worden waarden getoond die tussen 84,0 en 87,0 tonnen liggen, wat aangeeft dat het gaat om de hoeveelheid kuilgras geproduceerd per hectare grassland. De kolom Hooi_4 vertegenwoordigt: De kolom 'Hooi_4' vertegenwoordigt de hoeveelheid hooi dat beschikbaar is. De waarden in deze kolom lijken te refereren naar duizenden tonnen of kilotonnen hooi, aangezien ze getallen tussen 2,0 en 6,0 zijn. \\n\\nEchter zonder meer informatie over de exacte betekenis van de getallen in de kolom 'Hooi_4' is het moeilijk om precies te zeggen welke eenheden hierbij worden gebruikt. Mogelijk verwijzen ze naar kilogrammen, tonnen of zelfs nog grotere hoeveelheden hooi. De kolom Zomerstalvoedering_5 vertegenwoordigt: De kolom 'Zomerstalvoedering_5' vertegenwoordigt de hoeveelheid grasland dat wordt gebruikt voor zomerstalvoedering. Dit betekent dat een deel van het grasland wordt beweid gedurende de zomermaanden om voedsel te produceren voor dieren die in de zomer buiten staan. De kolom Overig_6 vertegenwoordigt: De kolom 'Overig_6' lijkt te vertegenwoordigen het percentage of hoeveelheid grasland dat wordt gebruikt voor doelen die buiten de hoofdcategorie\\u00ebn zoals kuilgras, hooi en zomerstalvoeding vallen. In het voorbeeld zijn de waarden 3.0, 4.0 en 8.0 genoemd, maar geen expliciete omschrijving is geleverd. Mogelijk gaat het om percentages of absolute hoeveelheden grasland dat wordt gebruikt voor onder meer beweidingsdoeleinden, begrazing door dieren of ander gebruik dat niet in de hoofdkolommen is vermeld. De kolom TotaleOogstKuilgras_7 vertegenwoordigt: De kolom 'TotaleOogstKuilgras_7' vertegenwoordigt de totale oogst van kuilgras in tonnen droge stof per hectare. \\n\\nHet getal tussen haakjes ([4803.0]) staat hierbij voor een waarde die niet relevant is voor de vraag naar de betekenis van de kolom. De kolom MetDrogeStofgehalte35Procent_8 vertegenwoordigt: De kolom 'MetDrogeStofgehalte35Procent_8' lijkt te verwijzen naar de hoeveelheid droge stof die in het grasland aanwezig is met een droge stofgehalte van 35%. De waarden in deze kolom lijken echter geen directe betekenisvolle waarde te hebben, maar kunnen wellicht dienen als input of referentiemateriaal voor een rekeningssysteem. \\n\\nEchter, op grond van de tabelbeschrijving is het niet duidelijk wat de exacte betekenis is van deze kolom. Een meer gedetailleerde omschrijving zou noodzakelijk zijn om de precieze inhoud ervan te begrijpen. De kolom MetDrogeStofgehalte35Procent_9 vertegenwoordigt: Ik kon geen duidelijke omschrijving vinden voor de kolom 'MetDrogeStofgehalte35Procent_9'. De naam suggereert dat het percentage droge stof in het gras zou kunnen aanduiden die boven of onder de 35% ligt, maar zonder verdere uitleg kan ik geen betrouwbare beschrijving geven. \\n\\nDaarnaast zijn de voorbeelden die je noemt (83.0, 93.0, 77.0) niet expliciet genoeg om te concluderen welk type gegeven ze precies vertegenwoordigen. De kolom TotaleOogstHooi_10 vertegenwoordigt: De kolom 'TotaleOogstHooi_10' vertegenwoordigt de totale oogst van hooi per hectare grasland. In andere woorden, het gaat om de hoeveelheid hooi dat wordt geproduceerd op \\u00e9\\u00e9n hectare grasland. De kolom VoorraadKuilgras_11 vertegenwoordigt: De kolom 'VoorraadKuilgras_11' vertegenwoordigt de voorraad kuilgras in tonnen droge stof. De kolom VoorraadHooi_12 vertegenwoordigt: De kolom 'VoorraadHooi_12' vertegenwoordigt de hoeveelheid hooivoorraad in droge stof die aan het einde van het jaar beschikbaar is voor gebruik als voeding voor koeien of voor andere doelen. In het gegeven voorbeeld worden getallen tussen 32,0 en 117,0 kg droge stof genoemd, maar geen exacte omschrijving voor de eenheid.\",\n          \"De kolom ID vertegenwoordigt: Er is geen expliciete omschrijving of uitleg gegeven over de betekenis van de kolom \\\"ID\\\" in de tabel. Op basis van de beschrijving van de tabel lijkt het echter waarschijnlijk dat de \\\"ID\\\"-kolom unieke identificatienummers toewijst aan elk record in de tabel. Dit zou ervoor zorgen dat elke rij in de tabel uniek kan worden ge\\u00efdentificeerd op basis van haar ID. \\n\\nEchter, er is geen concrete bewijs hiervoor in de tekst, dus ik zal het antwoord geven als: \\\"Unieke identificatienummer\\\". De kolom Geslacht vertegenwoordigt: De kolom 'Geslacht' lijkt te verwijzen naar een codering of code die wordt gebruikt om het geslacht van personen in de werkzame beroepsbevolking aan te geven. \\n\\nEchter, zonder verdere uitleg of toelichting over de gebruikte codes, is het lastig om precies te zeggen welke waarden elk geslacht aanduiden. In het gegeven voorbeeld ('T001038') lijkt het echter geen standaardcode te zijn, maar eerder een unieke identifier of referenti\\u00eble code. \\n\\nEen mogelijke interpretatie is dat 'T001038' een uniek identificatienummer is dat gekoppeld is aan een bepaald individu of groep met een bepaald geslacht. De kolom Arbeidsduur vertegenwoordigt: Ik kan geen exacte omschrijving vinden van de kolom \\\"Arbeidsduur\\\" in de tekstuele context. \\n\\nEchter, ik zie wel dat er in de tabel een kolom staat genaamd \\\"Uren per week\\\" ('['werkzame_beroepsbevolking', 'gemiddeld inkomen', 'tijdelijke contracten', 'zelfstandige ondernemers', 'zelfstandige docenten', 'leeftijdscategorie\\u00ebn', 'uren per week', 'jaartallen']'). Dit suggereert dat de kolom \\\"Arbeidsduur\\\" waarschijnlijk verwant is aan de hoeveelheid tijd dat personen werken per week. \\n\\nHet zou echter beter zijn om rechtstreeks contact op te nemen met de bronverantwoordelijke of de databasebeheerder om precieze uitleg over de inhoud en interpretatie van de kolom \\\"Arbeidsduur\\\" te verkrijgen. De kolom Persoonskenmerken vertegenwoordigt: De kolom 'Persoonskenmerken' lijkt te refereren aan unieke identificatienaam of code voor elk individu binnen de tabel. \\n\\nVoorbeeldwaarden zoals '1015150', '1016430' en '53800'suggereren dat deze waarden codes of id's zijn voor verschillende categorie\\u00ebn of groepen personen. Mogelijk betreffen ze categorisaties zoals opleidingsniveaus, sociaaleconomische statussen, etniciteit, etc., maar hierover kan geen uitsluitsel worden gegeven met de beschikbare informatie. De kolom PositieInDeWerkkring vertegenwoordigt: De kolom 'PositieInDeWerkkring' lijkt te vertegenwoordigen een unieke code of identifier voor verschillende posities binnen de werkkring. De voorbeelden die je geeft ('2021346', '2021340', 'A050414') suggereren dat deze codes waarschijnlijk zijn opgebouwd uit meerdere delen, zoals een landcode of regio-code, een sectorcode of industrie-code, en/of een type-positie-code.\\n\\nEchter, zonder meer informatie over de structuur of betekenis van deze codes, kan ik slechts vermoeden dat ze een manier zijn om de verschillende posities binnen de werkkring te categoriseren. De kolom Perioden vertegenwoordigt: \\\"Geen beschrijving\\\". \\n\\nIk heb geen informatie gevonden over de betekenis van de kolom 'Perioden'. Mogelijk geeft het CBS hier niet expliciet uitleg over of ik heb de juiste bronnen nog niet gevonden. De kolom WerkzameBeroepsbevolking_1 vertegenwoordigt: Het lijkt alsof de beschrijving van de kolom 'WerkzameBeroepsbevolking_1' niet expliciet genoemd wordt in de tekstuele context. \\nEchter, aangezien de naam van de kolom \\\"WerkzameBeroepsbevolking\\\" is, kun je vermoeden dat deze kolom verwijst naar het aantal personen in de werkzame beroepsbevolking. \\n\\nDit zou betekenen dat deze kolom het aantal personen weergeeft die binnen een bepaald tijdperk actief waren in de arbeidsmarkt. In het voorbeeld zijn de waarden 722, 2442 en 1227, maar ik heb geen informatie gevonden over hoe deze exacte getallen worden verkregen of wat ze precies betekenen. De kolom WerkzameBeroepsbevolkingMetInkomen_2 vertegenwoordigt: De kolom 'WerkzameBeroepsbevolkingMetInkomen_2' lijkt te vertegenwoordigen het aantal personen binnen de werkzame beroepsbevolking die een inkomen hebben. De waarden in deze kolom zouden mogelijke aantallen of percentages weergeven van personen die een inkomen hebben, maar exacte betekenis zou nader moeten worden verklaard uit andere bronnen of contextuele informatie. De kolom GemiddeldPersoonlijkPrimairInkomen_3 vertegenwoordigt: De kolom 'GemiddeldPersoonlijkPrimairInkomen_3' vertegenwoordigt het gemiddelde primaire inkomen per persoon van de werkzame beroepsbevolking. Dit betekent dat de waarde in deze kolom het gemiddelde bedrag is dat personen hebben ontvangen als hun primaire bron van inkomen, bijvoorbeeld salaris of pensioen, exclusief eventuele secundaire inkomensbronnen. De kolom GemiddeldPersoonlijkInkomen_4 vertegenwoordigt: De kolom 'GemiddeldPersoonlijkInkomen_4' vertegenwoordigt het gemiddelde persoonlijke inkomen van de werkzame beroepsbevolking. Dit betekent dat de kolom toont hoe hoog het gemiddelde inkomen is van alle personen die actief zijn op de arbeidsmarkt, exclusief de institutionele bevolking. De waarden in deze kolom geven dus aan hoeveel geld het gemiddelde individu ontvangt vanuit hun werk. De kolom GemiddeldGestandaardiseerdInkomen_5 vertegenwoordigt: Het gemiddelde gestandaardiseerde inkomen vertegenwoordigt het gemiddelde inkomen van de werkzame beroepsbevolking, aangepast aan de sociale stelsels en belastingtarieven van Nederland. Dit geeft een indicatie van de re\\u00eble koopkracht van het inkomen. De kolom WerkzameBeroepsbevolkingInkOnbekend_6 vertegenwoordigt: \\\"Geen beschrijving\\\". \\n\\nEr staat niets over de betekenis of inhoud van deze kolom in de tekst.\",\n          \"De kolom ID vertegenwoordigt: De kolom 'ID' lijkt te refereren aan unieke identificaties of codes voor elk record in de tabel. Het geeft waarschijnlijk aan dat elke rij in de tabel een uniek element represents. \\n\\nVoorbeeldwaarden als 6312, 4425 en 9875 suggereren dat dit een numerieke code is, maar zonder verdere context is het moeilijk om precies te zeggen wat deze codes exact representeren. \\n\\nIn veel datasets gebruiken ontwikkelaars IDs om records te onderscheiden en te verwijzen, dus het is waarschijnlijk dat deze kolom gebruikmaakt van een dergelijk systeem. De kolom Opdrachtgever vertegenwoordigt: De kolom 'Opdrachtgever' vertegenwoordigt de identificator of code van de opdrachtgever van de bouwwerkzaamheden. Het geeft aan wie de opdracht heeft gegeven voor de nieuwbouw van de woonruimten. In dit geval lijken de codes ('T001209') waarschijnlijk referenties of unieke identificators voor specifieke organisaties of entiteiten. De kolom Eigendom vertegenwoordigt: De kolom 'Eigendom' lijkt te verwijzen naar een code of identificator voor het soort eigendom van de woning of woonruimte. Het geeft aan welke categorie de woning of woonruimte onder valt, maar de exacte inhoud van deze kolom is niet duidelijk zonder verdere context. \\n\\nVoorbeeldwaarde 'T001258' zou dus waarschijnlijk moeten corresponderen met een specifieke categorisering binnen dit systeem van eigendomssoorten. De kolom RegioS vertegenwoordigt: De kolom 'RegioS' lijkt te corresponderen met gemeentecodes. De voorbeelden die je geeft ('GM0244', 'GM0060', 'GM0498') zijn namelijk allemaal codes die gelijkend op gemeentecodes zijn. Dit zou dus aangeven dat elke regelspecifieke waarde in deze kolom een uniek identificatienummer of code voor een specifiek gebied (gemeente) representeert. De kolom Perioden vertegenwoordigt: De kolom 'Perioden' lijkt te vertegenwoordigen de periodes of tijdperken waarover de gegevens in de tabel gaan. Het geeft aan welke kwartalen of jaren de data betreffen. \\n\\nVoorbeeldwaarden als '2021KW03' en '2012KW03' suggereren dat deze waarden verwijzen naar specifieke kwartalen binnen een jaar, namelijk respectievelijk het derde kwartaal van 2021 en het derde kwartaal van 2012. Waarbij 'KW' staat voor kwartal en het getal daarna de positie van het kwartaal in dat jaar aangeeft (van 01 voor januari tot 04 voor oktober). \\n\\nEchter, zonder verdere context, kan dit slechts een redelijke conclusie zijn. De kolom BouwkostenGebouwbestemmingWoonsector_1 vertegenwoordigt: De kolom \\\"BouwkostenGebouwbestemmingWoonsector_1\\\" lijkt te vertegenwoordigen de geschatte bouwkosten van nieuwbouwwoningen. De waarden in deze kolom lijken de gemiddelde of geschatte kosten per woning te weergeven. \\n\\nVoorbeeldwaarden:\\n- 3954,0 euro per woning \\n- 1310,0 euro per woning\\n- 640,0 euro per woning De kolom Woningen_2 vertegenwoordigt: De kolom 'Woningen_2' vertegenwoordigt het aantal nieuw te bouwen woningen waarvoor de verleende bouwvergunning is gemeld. \\n\\nVoorbeeldwaarden:\\n- 998.0 : Aantal woningen in een specifieke periode\\n- 91.0   : Aantal woningen in een andere specifieke periode\\n- 354.0  : Aantal woningen in nog een ander specifiek tijdvak De kolom Wooneenheden_3 vertegenwoordigt: De kolom 'Wooneenheden_3' vertegenwoordigt het aantal nieuw te bouwen wooneenheden waarvoor de verleende bouwvergunning is gemeld bij het CBS. De kolom Recreatiewoningen_4 vertegenwoordigt: De kolom 'Recreatiewoningen_4' vertegenwoordigt het aantal nieuw te bouwen recreatiewoningen waarvoor de verleende bouwvergunning is gemeld bij het CBS.\"\n        ],\n        \"semantic_type\": \"\",\n        \"description\": \"\"\n      }\n    },\n    {\n      \"column\": \"overall_summary\",\n      \"properties\": {\n        \"dtype\": \"string\",\n        \"num_unique_values\": 494,\n        \"samples\": [\n          \"De dataset bevat informatie over de oppervlakte en opbrengst van grasland in Nederland, gesplitst over verschillende landbouwregio's. De dataset omvat gegevens over:\\n\\n* Oppervlakte grasland (totaal en gemaaid)\\n* Opbrengst aan gemaaid gras (kuilgras en hooi)\\n* Productie van kuilgras en hooi\\n* Vooraad kuilgras en hooi aan het einde van het jaar\\n* Gebruiksdoelen van grasland (zoals zomerstalvoeding en beweidingsdoelen)\\n\\nDe dataset omvat gegevens vanaf 1985 en biedt informatie over de ontwikkeling van de oppervlakte en opbrengst van grasland in Nederland over de jaren heen.\",\n          \"Hieronder vindt u een korte en duidelijke algemene beschrijving van de dataset:\\n\\nDeze dataset bevat gegevens over de werkzame beroepsbevolking van Nederland, verdeeld over verschillende kenmerken zoals geslacht, leeftijd, onderwijsniveau en positie in het huishouden. De dataset biedt inzicht in het gemiddelde inkomen, inclusief primair en gestandaardiseerd inkomen, evenals informatie over arbeidsduur, persoonskenmerken en positie in de werkkring. De gegevens zijn verzameld via de Enqu\\u00eate Beroepsbevolking (EBB) en zijn beschikbaar vanaf 2013.\",\n          \"Deze dataset bevat gegevens over bouwvergunningen voor woonruimten, waaronder:\\n\\n* Geschatte bouwkosten\\n* Type opdrachtgever\\n* Soort eigendom\\n* Gemeente\\n* Aantal nieuw te bouwen woonruimten (woningen, wooneenheden en recreatiewoningen)\\n\\nDe dataset omvat gegevens vanaf januari 2012 en is uitgesplitst naar type opdrachtgever, type woonruimte, soort eigendom en gemeente. De gegevens zijn afkomstig van de gemeenten en omvatten alleen de gerespondeerde gegevens, zonder schattingen.\"\n        ],\n        \"semantic_type\": \"\",\n        \"description\": \"\"\n      }\n    },\n    {\n      \"column\": \"sampled_values\",\n      \"properties\": {\n        \"dtype\": \"object\",\n        \"semantic_type\": \"\",\n        \"description\": \"\"\n      }\n    }\n  ]\n}"
            }
          },
          "metadata": {},
          "execution_count": 172
        }
      ],
      "source": [
        "df_CSummary_TS.head()\n"
      ]
    },
    {
      "cell_type": "code",
      "execution_count": 173,
      "metadata": {
        "id": "9EogOKMq9Jx2"
      },
      "outputs": [],
      "source": [
        "df_CSummary_TS['CSummary_metadata_text'] = df_CSummary_TS.apply(\n",
        "    lambda row: clean_and_concat(row, col_CSummary_TSummary),\n",
        "    axis=1\n",
        ")\n",
        "\n",
        "df_CSample_TS['CSample_metadata_text'] = df_CSample_TS.apply(\n",
        "    lambda row: clean_and_concat(row, col_CSample_TSummary),\n",
        "    axis=1\n",
        ")\n",
        "\n",
        "df_Column_TS['Column_metadata_text'] = df_Column_TS.apply(\n",
        "    lambda row: clean_and_concat(row, col_Column_TSummary),\n",
        "    axis=1\n",
        ")"
      ]
    },
    {
      "cell_type": "markdown",
      "metadata": {
        "id": "ew1-CDr89Jx3"
      },
      "source": [
        "## Prepare data as docs for bm25"
      ]
    },
    {
      "cell_type": "code",
      "execution_count": 174,
      "metadata": {
        "id": "Cjrs66in9Jx3"
      },
      "outputs": [],
      "source": [
        "def prepare_metadata_tokens_bm25(metadata_df, metadata_cols):\n",
        "    def combine_and_tokenize(row):\n",
        "        # Use only columns that exist\n",
        "        valid_cols = [col for col in metadata_cols if col in row.index]\n",
        "        combined = \" \".join(str(row[col]) for col in valid_cols)\n",
        "        return tokenize_text(combined)\n",
        "\n",
        "    result_df = metadata_df.copy()\n",
        "    result_df['tokenized_metadata'] = result_df.apply(combine_and_tokenize, axis=1)\n",
        "    result_df['table_id'] = result_df['table_id'].astype(str)\n",
        "\n",
        "    return result_df[['table_id', 'tokenized_metadata']]\n",
        "\n",
        "# For original columns\n",
        "metadata_tokens_original = prepare_metadata_tokens_bm25(df_tables, cols_original)\n",
        "\n",
        "# For overall + schema summary\n",
        "metadata_tokens_CSummary_TSummary = prepare_metadata_tokens_bm25(df_CSummary_TS, col_CSummary_TSummary)\n",
        "\n",
        "# For sample summary + schema summary\n",
        "metadata_tokens_CSample_TSummary = prepare_metadata_tokens_bm25(df_CSample_TS, col_CSample_TSummary)\n",
        "\n",
        "# For flattened summary + schema summary\n",
        "metadata_tokens_Column_TSummary = prepare_metadata_tokens_bm25(df_Column_TS, col_Column_TSummary)\n"
      ]
    },
    {
      "cell_type": "markdown",
      "metadata": {
        "id": "fGv0xE8c9Jx3"
      },
      "source": [
        "### Generated Metadata Length"
      ]
    },
    {
      "cell_type": "code",
      "execution_count": 175,
      "metadata": {
        "colab": {
          "base_uri": "https://localhost:8080/",
          "height": 2507
        },
        "id": "i2cbGC9D9Jx3",
        "outputId": "5bedd522-2e37-4019-ebc4-aa3b28448a55"
      },
      "outputs": [
        {
          "output_type": "stream",
          "name": "stdout",
          "text": [
            "Character Length Statistics for column 'original_metadata_text':\n",
            " count     494.00\n",
            "mean     2324.55\n",
            "std       996.81\n",
            "min       922.00\n",
            "10%      1353.90\n",
            "25%      1616.75\n",
            "50%      2111.50\n",
            "75%      2756.00\n",
            "90%      3347.30\n",
            "95%      4105.80\n",
            "max      7135.00\n",
            "Name: original_metadata_text, dtype: float64\n",
            "Plot exported as image to original_metadata_length.pdf\n"
          ]
        },
        {
          "output_type": "display_data",
          "data": {
            "text/plain": [
              "<Figure size 1000x600 with 1 Axes>"
            ],
            "image/png": "[encoded data removed]"
          },
          "metadata": {}
        },
        {
          "output_type": "stream",
          "name": "stdout",
          "text": [
            "Character Length Statistics for column 'CSummary_metadata_text':\n",
            " count     494.00\n",
            "mean     2947.46\n",
            "std      1077.24\n",
            "min      1278.00\n",
            "10%      1853.30\n",
            "25%      2211.75\n",
            "50%      2744.00\n",
            "75%      3397.50\n",
            "90%      4108.40\n",
            "95%      4933.60\n",
            "max      8150.00\n",
            "Name: CSummary_metadata_text, dtype: float64\n",
            "Plot exported as image to CSummary_metadata_length.pdf\n"
          ]
        },
        {
          "output_type": "display_data",
          "data": {
            "text/plain": [
              "<Figure size 1000x600 with 1 Axes>"
            ],
            "image/png": "[encoded data removed]"
          },
          "metadata": {}
        },
        {
          "output_type": "stream",
          "name": "stdout",
          "text": [
            "Character Length Statistics for column 'CSample_metadata_text':\n",
            " count     494.00\n",
            "mean     2757.68\n",
            "std      1030.02\n",
            "min      1166.00\n",
            "10%      1739.60\n",
            "25%      2042.50\n",
            "50%      2536.50\n",
            "75%      3232.25\n",
            "90%      3882.00\n",
            "95%      4740.15\n",
            "max      7496.00\n",
            "Name: CSample_metadata_text, dtype: float64\n",
            "Plot exported as image to CSample_metadata_length.pdf\n"
          ]
        },
        {
          "output_type": "display_data",
          "data": {
            "text/plain": [
              "<Figure size 1000x600 with 1 Axes>"
            ],
            "image/png": "[encoded data removed]"
          },
          "metadata": {}
        },
        {
          "output_type": "stream",
          "name": "stdout",
          "text": [
            "Character Length Statistics for column 'Column_metadata_text':\n",
            " count     494.00\n",
            "mean     2721.36\n",
            "std      1049.87\n",
            "min      1138.00\n",
            "10%      1691.00\n",
            "25%      1971.00\n",
            "50%      2517.50\n",
            "75%      3215.25\n",
            "90%      3853.70\n",
            "95%      4679.25\n",
            "max      7449.00\n",
            "Name: Column_metadata_text, dtype: float64\n",
            "Plot exported as image to Column_metadata_length.pdf\n"
          ]
        },
        {
          "output_type": "display_data",
          "data": {
            "text/plain": [
              "<Figure size 1000x600 with 1 Axes>"
            ],
            "image/png": "[encoded data removed]"
          },
          "metadata": {}
        }
      ],
      "source": [
        "# Analyze original metadata text lengths\n",
        "char_lengths_original = analyze_text_lengths_log(df_tables, column='original_metadata_text', export_name='original_metadata_length')\n",
        "\n",
        "# Analyze combined metadata text lengths for CSummary\n",
        "char_lengths_CSummary = analyze_text_lengths_log(df_CSummary_TS, column='CSummary_metadata_text', export_name='CSummary_metadata_length')\n",
        "\n",
        "# Analyze combined metadata text lengths for CSample\n",
        "char_lengths_CSample = analyze_text_lengths_log(df_CSample_TS, column='CSample_metadata_text', export_name='CSample_metadata_length')\n",
        "\n",
        "# Analyze combined metadata text lengths for Column summary\n",
        "char_lengths_Column = analyze_text_lengths_log(df_Column_TS, column='Column_metadata_text', export_name='Column_metadata_length')\n"
      ]
    },
    {
      "cell_type": "markdown",
      "metadata": {
        "id": "KFRUDnqe9Jx3"
      },
      "source": [
        "### Mapping Doc ID to Table ID for evaluation\n",
        "While the data is seeded and pipelined, we separate here to ensue independence"
      ]
    },
    {
      "cell_type": "code",
      "execution_count": 176,
      "metadata": {
        "id": "iHiUEASOVeeO"
      },
      "outputs": [],
      "source": [
        "# Then extract lists as needed\n",
        "docs_original = metadata_tokens_original['tokenized_metadata'].tolist()\n",
        "table_ids_original = metadata_tokens_original['table_id'].tolist()\n",
        "\n",
        "docs_CSummary = metadata_tokens_CSummary_TSummary['tokenized_metadata'].tolist()\n",
        "table_ids_CSummary = metadata_tokens_CSummary_TSummary['table_id'].tolist()\n",
        "\n",
        "docs_CSample = metadata_tokens_CSample_TSummary['tokenized_metadata'].tolist()\n",
        "table_ids_CSample = metadata_tokens_CSample_TSummary['table_id'].tolist()\n",
        "\n",
        "docs_Column = metadata_tokens_Column_TSummary['tokenized_metadata'].tolist()\n",
        "table_ids_Column = metadata_tokens_Column_TSummary['table_id'].tolist()"
      ]
    },
    {
      "cell_type": "markdown",
      "metadata": {
        "id": "K9cr8yv9dpBE"
      },
      "source": [
        "## Prepping metadata for ColBERT"
      ]
    },
    {
      "cell_type": "code",
      "execution_count": 177,
      "metadata": {
        "id": "76QP-NRyAO4W"
      },
      "outputs": [],
      "source": [
        "# def prepare_colbert_metadata_dataframe(df_tables):\n",
        "#     df = df_tables.copy()\n",
        "\n",
        "#     # Clean the text columns\n",
        "#     for col in ['table_desc', 'expanded_desc', 'Summary']:\n",
        "#         df = clean_text_column(df, col)\n",
        "\n",
        "#     # Clean the keywords list\n",
        "#     df['Keywords'] = df['Keywords'].apply(safe_eval_keywords)\n",
        "\n",
        "#     metadata_cols = [\"table_desc\", \"expanded_desc\", \"Summary\", \"Keywords\", \"columns_string\"]\n",
        "\n",
        "#     # Apply the combine function with selected columns\n",
        "#     df['full_metadata'] = df.apply(lambda row: combine_metadata_fields(row, columns=metadata_cols), axis=1)\n",
        "\n",
        "#     # Final output\n",
        "#     metadata_df_colbert = df[['table_id', 'full_metadata']].set_index('table_id')\n",
        "\n",
        "#     return metadata_df_colbert\n",
        "\n",
        "\n",
        "def prepare_metadata_for_colbert(df, metadata_cols):\n",
        "    \"\"\"\n",
        "    Prepares tokenized metadata for ColBERT by combining and cleaning selected columns.\n",
        "\n",
        "    Args:\n",
        "        df (pd.DataFrame): DataFrame containing table metadata.\n",
        "        metadata_cols (list): List of column names to include in the metadata string.\n",
        "\n",
        "    Returns:\n",
        "        pd.DataFrame: A DataFrame with 'table_id' as index and 'full_metadata' column.\n",
        "    \"\"\"\n",
        "    df = df.copy()\n",
        "    df['full_metadata'] = df.apply(lambda row: clean_and_concat(row, metadata_cols), axis=1)\n",
        "    df['table_id'] = df['table_id'].astype(str)\n",
        "\n",
        "    return df[['table_id', 'full_metadata']].set_index('table_id')\n"
      ]
    },
    {
      "cell_type": "code",
      "execution_count": 178,
      "metadata": {
        "id": "S17XJYxp5WdI"
      },
      "outputs": [],
      "source": [
        "# colbert_metadata = prepare_colbert_metadata_dataframe(df_tables)\n",
        "colbert_metadata_original = prepare_metadata_for_colbert(df_tables, cols_original)\n",
        "colbert_metadata_CSummary_TSummary = prepare_metadata_for_colbert(df_CSummary_TS, col_CSummary_TSummary)\n",
        "colbert_metadata_CSample_TSummary = prepare_metadata_for_colbert(df_CSample_TS, col_CSample_TSummary)\n",
        "colbert_metadata_Column_TSummary = prepare_metadata_for_colbert(df_Column_TS, col_Column_TSummary)"
      ]
    },
    {
      "cell_type": "markdown",
      "metadata": {
        "id": "RMTIfY0b9Jx-"
      },
      "source": [
        "##### Queries to search for colbert"
      ]
    },
    {
      "cell_type": "code",
      "execution_count": 179,
      "metadata": {
        "id": "ZE9lCHfG9Jx_"
      },
      "outputs": [],
      "source": [
        "# Metadata into Doc List\n",
        "colbert_queries = df_qa['Query'].tolist()\n",
        "\n",
        "# Table ID List ground truth for eval later\n",
        "colbert_table_ids_groundtruth = df_qa['table_id'].tolist()"
      ]
    },
    {
      "cell_type": "markdown",
      "metadata": {
        "id": "fZehQGbY9Jx4"
      },
      "source": [
        "# EXPERIMENTS"
      ]
    },
    {
      "cell_type": "markdown",
      "metadata": {
        "id": "CMF56VizeEVZ"
      },
      "source": [
        "## Retrieval Eval (baseline, sparse retrieval method): BM25"
      ]
    },
    {
      "cell_type": "markdown",
      "metadata": {
        "id": "MP6gkMJmVnc2"
      },
      "source": [
        "### Creating bm25 instance from the data"
      ]
    },
    {
      "cell_type": "code",
      "execution_count": 180,
      "metadata": {
        "id": "5qRphecZVnqM"
      },
      "outputs": [],
      "source": [
        "# Create BM25 models for each set\n",
        "bm25_original = BM25Okapi(docs_original)\n",
        "bm25_CSummary = BM25Okapi(docs_CSummary)\n",
        "bm25_CSample = BM25Okapi(docs_CSample)\n",
        "bm25_Column = BM25Okapi(docs_Column)"
      ]
    },
    {
      "cell_type": "markdown",
      "metadata": {
        "id": "iNA8GwR69Jx4"
      },
      "source": [
        "### BM25 evaluation pipeline {P, R, F1}@k"
      ]
    },
    {
      "cell_type": "code",
      "execution_count": 247,
      "metadata": {
        "id": "hNC9oXlJ9Jx4"
      },
      "outputs": [],
      "source": [
        "def run_bm25_retrieval(query_df: pd.DataFrame, bm25, table_ids: List[str], tokenize_func) -> List[Dict]:\n",
        "    \"\"\"\n",
        "    Runs BM25 retrieval for each query and returns the top table IDs and scores.\n",
        "    \"\"\"\n",
        "    retrieval_results = []\n",
        "\n",
        "    for _, row in query_df.iterrows():\n",
        "        query_text = row['Query']\n",
        "        query_tokens = tokenize_func(query_text)\n",
        "        true_id = str(row['table_id'])\n",
        "\n",
        "        scores = bm25.get_scores(query_tokens)\n",
        "        top_indices = np.argsort(scores)[::-1]  # Sort descending\n",
        "        top_table_ids = [table_ids[i] for i in top_indices]\n",
        "        top_scores = [scores[i] for i in top_indices]\n",
        "\n",
        "        retrieval_results.append({\n",
        "            'query': query_text,\n",
        "            'true_table_id': true_id,\n",
        "            'top_table_ids': top_table_ids,\n",
        "            'top_scores': top_scores\n",
        "        })\n",
        "\n",
        "    return retrieval_results\n",
        "\n",
        "\n",
        "def evaluate_top_k(retrieval_results: List[Dict], k_values: List[int]) -> Dict[int, Dict[str, float]]:\n",
        "    \"\"\"\n",
        "    Evaluates precision, recall, and F1-score at each k.\n",
        "    \"\"\"\n",
        "    metrics_by_k = {}\n",
        "\n",
        "    total_queries = len(retrieval_results)\n",
        "\n",
        "    for k in k_values:\n",
        "        correct_retrievals = 0\n",
        "        precision_list = []\n",
        "\n",
        "        for result in retrieval_results:\n",
        "            top_k = result['top_table_ids'][:k] # top k retrieved documents\n",
        "            is_relevant = result['true_table_id'] in top_k # check if ground truth relevant doc is in top k\n",
        "\n",
        "            correct_retrievals += int(is_relevant) # count for total correct retrieval\n",
        "            precision_list.append(int(is_relevant) / k) # precision = relevant doc / retrieved doc\n",
        "\n",
        "        precision = np.mean(precision_list) # average precision\n",
        "        recall = correct_retrievals / total_queries # average relevant docs retrieved / all relevant docs, each query has either 0/1 or 1/1 relevant retrieved docs retrieved\n",
        "        f1 = 2 * (precision * recall) / (precision + recall) if (precision + recall) > 0 else 0\n",
        "\n",
        "        metrics_by_k[k] = {\n",
        "            'precision': precision,\n",
        "            'recall': recall,\n",
        "            'f1_score': f1,\n",
        "        }\n",
        "\n",
        "        print(f\"\\nTop-{k} Evaluation:\")\n",
        "        print(f\"Precision@{k}: {precision:.2f}\")\n",
        "        print(f\"Recall@{k}:    {recall:.2f}\")\n",
        "        print(f\"F1 Score@{k}:  {f1:.2f}\")\n",
        "\n",
        "    return metrics_by_k\n",
        "\n",
        "\n",
        "def evaluate_bm25_top_k(query_df: pd.DataFrame, bm25, table_ids: List[str], k_values: List[int] = [1, 3, 5, 10],\n",
        "                        tokenize_func=tokenize_text) -> Tuple[Dict[int, Dict[str, float]], pd.DataFrame]:\n",
        "    \"\"\"\n",
        "    Main evaluation wrapper.\n",
        "    \"\"\"\n",
        "    retrieval_results = run_bm25_retrieval(query_df, bm25, table_ids, tokenize_func)\n",
        "    metrics_by_k = evaluate_top_k(retrieval_results, k_values)\n",
        "    results_df = pd.DataFrame(retrieval_results)\n",
        "\n",
        "    return metrics_by_k, results_df\n"
      ]
    },
    {
      "cell_type": "markdown",
      "metadata": {
        "id": "g9xmq9GJVu1z"
      },
      "source": [
        "### Evaluation of top k"
      ]
    },
    {
      "cell_type": "code",
      "execution_count": 182,
      "metadata": {
        "colab": {
          "base_uri": "https://localhost:8080/",
          "height": 0
        },
        "id": "PvRlIOHC9Jx5",
        "outputId": "97c6de0f-ff56-4466-b76a-140a1175e402"
      },
      "outputs": [
        {
          "output_type": "stream",
          "name": "stdout",
          "text": [
            "\n",
            "Evaluating BM25 model: original\n",
            "\n",
            "BM25 Top-1 Evaluation:\n",
            "Precision@1: 0.51\n",
            "Recall@1:    0.51\n",
            "F1 Score@1:  0.51\n",
            "\n",
            "BM25 Top-2 Evaluation:\n",
            "Precision@2: 0.32\n",
            "Recall@2:    0.64\n",
            "F1 Score@2:  0.42\n",
            "\n",
            "BM25 Top-3 Evaluation:\n",
            "Precision@3: 0.23\n",
            "Recall@3:    0.70\n",
            "F1 Score@3:  0.35\n",
            "\n",
            "BM25 Top-5 Evaluation:\n",
            "Precision@5: 0.15\n",
            "Recall@5:    0.77\n",
            "F1 Score@5:  0.26\n",
            "\n",
            "BM25 Top-10 Evaluation:\n",
            "Precision@10: 0.08\n",
            "Recall@10:    0.83\n",
            "F1 Score@10:  0.15\n",
            "Time taken: 58.09 seconds\n",
            "Metrics: {1: {'precision': 0.5136173578935473, 'recall': 0.5136173578935473, 'f1_score': 0.5136173578935473}, 2: {'precision': 0.3186518250649791, 'recall': 0.6373036501299582, 'f1_score': 0.42486910008663875}, 3: {'precision': 0.2337552265792745, 'recall': 0.7012656797378235, 'f1_score': 0.35063283986891175}, 5: {'precision': 0.15361057746638035, 'recall': 0.7680528873319019, 'f1_score': 0.25601762911063397}, 10: {'precision': 0.08312238671036278, 'recall': 0.8312238671036275, 'f1_score': 0.1511316122006596}}\n",
            "\n",
            "Evaluating BM25 model: CSummary\n",
            "\n",
            "BM25 Top-1 Evaluation:\n",
            "Precision@1: 0.49\n",
            "Recall@1:    0.49\n",
            "F1 Score@1:  0.49\n",
            "\n",
            "BM25 Top-2 Evaluation:\n",
            "Precision@2: 0.31\n",
            "Recall@2:    0.61\n",
            "F1 Score@2:  0.41\n",
            "\n",
            "BM25 Top-3 Evaluation:\n",
            "Precision@3: 0.22\n",
            "Recall@3:    0.67\n",
            "F1 Score@3:  0.34\n",
            "\n",
            "BM25 Top-5 Evaluation:\n",
            "Precision@5: 0.15\n",
            "Recall@5:    0.73\n",
            "F1 Score@5:  0.24\n",
            "\n",
            "BM25 Top-10 Evaluation:\n",
            "Precision@10: 0.08\n",
            "Recall@10:    0.80\n",
            "F1 Score@10:  0.14\n",
            "Time taken: 57.10 seconds\n",
            "Metrics: {1: {'precision': 0.4920895016386032, 'recall': 0.4920895016386032, 'f1_score': 0.4920895016386032}, 2: {'precision': 0.30599502768674425, 'recall': 0.6119900553734885, 'f1_score': 0.4079933702489923}, 3: {'precision': 0.2239424417071609, 'recall': 0.6718273251214827, 'f1_score': 0.3359136625607414}, 5: {'precision': 0.14695445813086225, 'recall': 0.7347722906543113, 'f1_score': 0.2449240968847704}, 10: {'precision': 0.07952876031189965, 'recall': 0.7952876031189965, 'f1_score': 0.14459774602163575}}\n",
            "\n",
            "Evaluating BM25 model: CSample\n",
            "\n",
            "BM25 Top-1 Evaluation:\n",
            "Precision@1: 0.49\n",
            "Recall@1:    0.49\n",
            "F1 Score@1:  0.49\n",
            "\n",
            "BM25 Top-2 Evaluation:\n",
            "Precision@2: 0.30\n",
            "Recall@2:    0.61\n",
            "F1 Score@2:  0.41\n",
            "\n",
            "BM25 Top-3 Evaluation:\n",
            "Precision@3: 0.22\n",
            "Recall@3:    0.67\n",
            "F1 Score@3:  0.33\n",
            "\n",
            "BM25 Top-5 Evaluation:\n",
            "Precision@5: 0.15\n",
            "Recall@5:    0.73\n",
            "F1 Score@5:  0.24\n",
            "\n",
            "BM25 Top-10 Evaluation:\n",
            "Precision@10: 0.08\n",
            "Recall@10:    0.79\n",
            "F1 Score@10:  0.14\n",
            "Time taken: 53.26 seconds\n",
            "Metrics: {1: {'precision': 0.4935020906317098, 'recall': 0.4935020906317098, 'f1_score': 0.4935020906317098}, 2: {'precision': 0.30407390665611933, 'recall': 0.6081478133122387, 'f1_score': 0.40543187554149246}, 3: {'precision': 0.22237917655478961, 'recall': 0.6671375296643689, 'f1_score': 0.33356876483218445}, 5: {'precision': 0.14603910046332919, 'recall': 0.730195502316646, 'f1_score': 0.24339850077221528}, 10: {'precision': 0.07948920782009267, 'recall': 0.7948920782009267, 'f1_score': 0.14452583240016847}}\n",
            "\n",
            "Evaluating BM25 model: Column\n",
            "\n",
            "BM25 Top-1 Evaluation:\n",
            "Precision@1: 0.50\n",
            "Recall@1:    0.50\n",
            "F1 Score@1:  0.50\n",
            "\n",
            "BM25 Top-2 Evaluation:\n",
            "Precision@2: 0.31\n",
            "Recall@2:    0.61\n",
            "F1 Score@2:  0.41\n",
            "\n",
            "BM25 Top-3 Evaluation:\n",
            "Precision@3: 0.22\n",
            "Recall@3:    0.67\n",
            "F1 Score@3:  0.33\n",
            "\n",
            "BM25 Top-5 Evaluation:\n",
            "Precision@5: 0.15\n",
            "Recall@5:    0.73\n",
            "F1 Score@5:  0.24\n",
            "\n",
            "BM25 Top-10 Evaluation:\n",
            "Precision@10: 0.08\n",
            "Recall@10:    0.79\n",
            "F1 Score@10:  0.14\n",
            "Time taken: 54.28 seconds\n",
            "Metrics: {1: {'precision': 0.4950276867442649, 'recall': 0.4950276867442649, 'f1_score': 0.4950276867442649}, 2: {'precision': 0.3050344671714318, 'recall': 0.6100689343428636, 'f1_score': 0.4067126228952424}, 3: {'precision': 0.22305721927148076, 'recall': 0.6691716578144423, 'f1_score': 0.33458582890722116}, 5: {'precision': 0.1463216182619505, 'recall': 0.7316080913097525, 'f1_score': 0.2438693637699175}, 10: {'precision': 0.07916148717369195, 'recall': 0.7916148717369195, 'f1_score': 0.1439299766794399}}\n"
          ]
        }
      ],
      "source": [
        "k_vals = [1, 2, 3, 5, 10]\n",
        "\n",
        "models = {\n",
        "    'original': (bm25_original, table_ids_original),\n",
        "    'CSummary': (bm25_CSummary, table_ids_CSummary),\n",
        "    'CSample': (bm25_CSample, table_ids_CSample),\n",
        "    'Column': (bm25_Column, table_ids_Column),\n",
        "}\n",
        "\n",
        "results = {}\n",
        "\n",
        "for name, (bm25_model, table_ids) in models.items():\n",
        "    print(f\"\\nEvaluating BM25 model: {name}\")\n",
        "    start = time.time()\n",
        "    metrics, result_df = evaluate_bm25_top_k(query_df=df_qa, bm25=bm25_model, table_ids=table_ids, k_values=k_vals)\n",
        "    end = time.time()\n",
        "    print(f\"Time taken: {end - start:.2f} seconds\")\n",
        "    print(\"Metrics:\", metrics)\n",
        "    results[name] = (metrics, result_df)\n"
      ]
    },
    {
      "cell_type": "code",
      "execution_count": 183,
      "metadata": {
        "id": "foU60bi-9Jx5"
      },
      "outputs": [],
      "source": [
        "# Prepare a list to accumulate rows\n",
        "rows = []\n",
        "\n",
        "for name, (metrics, _) in results.items():\n",
        "    for k, vals in metrics.items():\n",
        "        row = {'Model': name, 'k': k}\n",
        "        row.update(vals)  # assuming vals is a dict of metric_name: value\n",
        "        rows.append(row)\n",
        "\n",
        "# Convert to DataFrame\n",
        "results_df = pd.DataFrame(rows)\n"
      ]
    },
    {
      "cell_type": "code",
      "execution_count": 184,
      "metadata": {
        "colab": {
          "base_uri": "https://localhost:8080/",
          "height": 0
        },
        "id": "dFJtc49n9Jx5",
        "outputId": "c8029d02-f147-4b4c-9133-85d0e14ae975"
      },
      "outputs": [
        {
          "output_type": "stream",
          "name": "stdout",
          "text": [
            "LaTeX table exported to bm25_metrics_table.tex\n"
          ]
        }
      ],
      "source": [
        "# You can export with nice formatting (float precision, captions, etc.)\n",
        "latex_table = results_df.to_latex(index=False, float_format=\"%.3f\",\n",
        "                                  caption=\"BM25 Evaluation Metrics across Models and Top-K values\",\n",
        "                                  label=\"tab:bm25_metrics\")\n",
        "\n",
        "# Save to a .tex file\n",
        "with open(f\"{folder}bm25_metrics_table.tex\", \"w\") as f:\n",
        "    f.write(latex_table)\n",
        "\n",
        "print(\"LaTeX table exported to bm25_metrics_table.tex\")\n"
      ]
    },
    {
      "cell_type": "code",
      "execution_count": 185,
      "metadata": {
        "colab": {
          "base_uri": "https://localhost:8080/",
          "height": 0
        },
        "id": "uTfCBaXE9Jx5",
        "outputId": "e3c0f391-30ea-4e69-ecae-59ec4938d5e0"
      },
      "outputs": [
        {
          "output_type": "stream",
          "name": "stdout",
          "text": [
            "\\begin{table}\n",
            "\\caption{BM25 Evaluation Metrics across Models and Top-K values}\n",
            "\\label{tab:bm25_metrics}\n",
            "\\begin{tabular}{lrrrr}\n",
            "\\toprule\n",
            "Model & k & precision & recall & f1_score \\\\\n",
            "\\midrule\n",
            "original & 1 & 0.514 & 0.514 & 0.514 \\\\\n",
            "original & 2 & 0.319 & 0.637 & 0.425 \\\\\n",
            "original & 3 & 0.234 & 0.701 & 0.351 \\\\\n",
            "original & 5 & 0.154 & 0.768 & 0.256 \\\\\n",
            "original & 10 & 0.083 & 0.831 & 0.151 \\\\\n",
            "CSummary & 1 & 0.492 & 0.492 & 0.492 \\\\\n",
            "CSummary & 2 & 0.306 & 0.612 & 0.408 \\\\\n",
            "CSummary & 3 & 0.224 & 0.672 & 0.336 \\\\\n",
            "CSummary & 5 & 0.147 & 0.735 & 0.245 \\\\\n",
            "CSummary & 10 & 0.080 & 0.795 & 0.145 \\\\\n",
            "CSample & 1 & 0.494 & 0.494 & 0.494 \\\\\n",
            "CSample & 2 & 0.304 & 0.608 & 0.405 \\\\\n",
            "CSample & 3 & 0.222 & 0.667 & 0.334 \\\\\n",
            "CSample & 5 & 0.146 & 0.730 & 0.243 \\\\\n",
            "CSample & 10 & 0.079 & 0.795 & 0.145 \\\\\n",
            "Column & 1 & 0.495 & 0.495 & 0.495 \\\\\n",
            "Column & 2 & 0.305 & 0.610 & 0.407 \\\\\n",
            "Column & 3 & 0.223 & 0.669 & 0.335 \\\\\n",
            "Column & 5 & 0.146 & 0.732 & 0.244 \\\\\n",
            "Column & 10 & 0.079 & 0.792 & 0.144 \\\\\n",
            "\\bottomrule\n",
            "\\end{tabular}\n",
            "\\end{table}\n",
            "\n"
          ]
        }
      ],
      "source": [
        "print(latex_table)"
      ]
    },
    {
      "cell_type": "markdown",
      "metadata": {
        "id": "OU4IzK8kXS_E"
      },
      "source": [
        "### Initial Manual Error metrics"
      ]
    },
    {
      "cell_type": "markdown",
      "metadata": {
        "id": "ncIBAKikXW4M"
      },
      "source": [
        "A manual review of sample queries and retrieved documents showed that many failures were caused by ambiguous or alternative terms in queries not matching metadata exactly. This mismatch led to poor retrieval despite relevant documents/tables existing. This finding motivated our research to improve metadata representation by document expansion (Table Expansion)."
      ]
    },
    {
      "cell_type": "code",
      "execution_count": 186,
      "metadata": {
        "id": "SZCN7ikzZAtU"
      },
      "outputs": [],
      "source": [
        "# # Set wrap width for pretty printing\n",
        "# wrap_width = 100\n",
        "# k = 1\n",
        "\n",
        "# # Filter rows where true_table_id not in top-k\n",
        "# errors_df = top_k_df[top_k_df.apply(\n",
        "#     lambda row: row['true_table_id'] not in row['top_table_ids'][:k], axis=1)]\n",
        "\n",
        "# # Randomly sample 10 errors\n",
        "# random_sample = errors_df.sample(n=10, random_state=88)\n",
        "\n",
        "# # Analyze each sample\n",
        "# for _, row in random_sample.iterrows():\n",
        "#     true_table_id = row['true_table_id']\n",
        "#     query = row['query']\n",
        "#     retrieved_id = row['top_table_ids'][0]\n",
        "\n",
        "#     # Fetch metadata\n",
        "#     metadata_row = metadata_tokens_df[metadata_tokens_df['table_id'] == true_table_id]\n",
        "#     retrieved_meta_row = metadata_tokens_df[metadata_tokens_df['table_id'] == retrieved_id]\n",
        "\n",
        "#     if not metadata_row.empty:\n",
        "#         metadata = \" \".join(metadata_row['tokenized_metadata'].values[0])\n",
        "#         retrieved_meta = \" \".join(retrieved_meta_row['tokenized_metadata'].values[0])\n",
        "\n",
        "#         # Tokenize\n",
        "#         query_tokens = tokenize_text(query)\n",
        "#         metadata_tokens = tokenize_text(metadata)\n",
        "#         retrieved_meta_tokens = tokenize_text(retrieved_meta)\n",
        "\n",
        "#         # Count occurrences\n",
        "#         metadata_counter = Counter(metadata_tokens)\n",
        "#         retrieved_meta_counter = Counter(retrieved_meta_tokens)\n",
        "\n",
        "#         # Prepare data for DataFrame\n",
        "#         rows = []\n",
        "#         for word in query_tokens:\n",
        "#             true_count = metadata_counter[word]\n",
        "#             retrieved_count = retrieved_meta_counter[word]\n",
        "#             difference_from_pred = retrieved_count - true_count\n",
        "#             rows.append({\n",
        "#                 'Query Term': word,\n",
        "#                 'True Metadata Count': true_count,\n",
        "#                 'Retrieved Metadata Count': retrieved_count,\n",
        "#                 'Difference (Retrieved - True)': difference_from_pred, # in retrieved but not in true\n",
        "#             })\n",
        "\n",
        "#         df = pd.DataFrame(rows)\n",
        "\n",
        "#         # Print everything nicely\n",
        "#         print(f\"Query: {query}\")\n",
        "#         print(f\"True Table ID {true_table_id} not in top-{k}.\")\n",
        "#         print(f\"Retrieved Table ID: {retrieved_id}\")\n",
        "#         print(\"\\nComparison Table:\\n\")\n",
        "#         print(df.to_string(index=False))\n",
        "#         print(\"\\nTrue Metadata:\\n\", textwrap.fill(metadata, width=wrap_width))\n",
        "#         print(\"\\nRetrieved Metadata:\\n\", textwrap.fill(retrieved_meta, width=wrap_width))\n",
        "#     else:\n",
        "#         print(f\"Error: No metadata found for True table ID {true_table_id}\")\n",
        "\n",
        "#     print(\"-\" * 100)\n"
      ]
    },
    {
      "cell_type": "code",
      "execution_count": 187,
      "metadata": {
        "id": "dAtI7k7u9Jx6"
      },
      "outputs": [],
      "source": [
        "# comparison_results = []\n",
        "\n",
        "# for _, row in random_sample.iterrows():\n",
        "#     true_table_id = row['true_table_id']\n",
        "#     query = row['query']\n",
        "#     retrieved_id = row['top_table_ids'][0]\n",
        "\n",
        "#     metadata_row = metadata_tokens_df[metadata_tokens_df['table_id'] == true_table_id]\n",
        "#     retrieved_meta_row = metadata_tokens_df[metadata_tokens_df['table_id'] == retrieved_id]\n",
        "\n",
        "#     if not metadata_row.empty:\n",
        "#         metadata = \" \".join(metadata_row['tokenized_metadata'].values[0])\n",
        "#         retrieved_meta = \" \".join(retrieved_meta_row['tokenized_metadata'].values[0])\n",
        "\n",
        "#         query_tokens = tokenize(query)\n",
        "#         metadata_counter = Counter(tokenize(metadata))\n",
        "#         retrieved_meta_counter = Counter(tokenize(retrieved_meta))\n",
        "\n",
        "#         for word in query_tokens:\n",
        "#             comparison_results.append({\n",
        "#                 'Query': query,\n",
        "#                 'Query Term': word,\n",
        "#                 'True Table ID': true_table_id,\n",
        "#                 'Retrieved Table ID': retrieved_id,\n",
        "#                 'True Metadata Count': metadata_counter[word],\n",
        "#                 'Retrieved Metadata Count': retrieved_meta_counter[word],\n",
        "#                 'Difference (Retrieved - True)': retrieved_meta_counter[word] - metadata_counter[word],\n",
        "#             })\n",
        "#     else:\n",
        "#         comparison_results.append({\n",
        "#             'Query': query,\n",
        "#             'Query Term': '(no metadata)',\n",
        "#             'True Table ID': true_table_id,\n",
        "#             'Retrieved Table ID': 'N/A',\n",
        "#             'True Metadata Count': None,\n",
        "#             'Retrieved Metadata Count': None,\n",
        "#             'Difference (Retrieved - True)': None\n",
        "#         })\n",
        "\n",
        "# # Final result as a DataFrame\n",
        "# comparison_df = pd.DataFrame(comparison_results)\n",
        "\n",
        "# comparison_df['Error Type'] = comparison_df['Difference (Retrieved - True)'].apply(\n",
        "#     lambda x: 'Missing' if x < 0 else ('Overmatch' if x > 0 else 'Exact match'))\n",
        "# comparison_df[comparison_df[index == False]].head(10)"
      ]
    },
    {
      "cell_type": "markdown",
      "metadata": {
        "id": "GCmCasXqBBa4"
      },
      "source": [
        "## Retrieval Eval (baseline, dense retrieval method): ColBERT\n"
      ]
    },
    {
      "cell_type": "markdown",
      "metadata": {
        "id": "q2MiR7EV9Jx7"
      },
      "source": [
        "ColBERT through ragatouille\n",
        "Utilized their example on Studio Ghibli for reference\n",
        " https://github.com/AnswerDotAI/RAGatouille/blob/main/examples/01-basic_indexing_and_search.ipynb\n",
        "\n",
        " todo if time allows, bm25 + colbert as a reranker example see: https://github.com/AnswerDotAI/RAGatouille/blob/main/examples/04-reranking.ipynb\n"
      ]
    },
    {
      "cell_type": "markdown",
      "metadata": {
        "id": "Zs5YmWzu5xc9"
      },
      "source": [
        "Load Model (ColBERT V2) https://arxiv.org/abs/2112.01488"
      ]
    },
    {
      "cell_type": "code",
      "execution_count": 192,
      "metadata": {
        "colab": {
          "base_uri": "https://localhost:8080/",
          "height": 0
        },
        "id": "OZLWtzSK5wSL",
        "outputId": "3b6dabfb-55c1-4c57-9d2f-5a17e930067a"
      },
      "outputs": [
        {
          "output_type": "stream",
          "name": "stderr",
          "text": [
            "/usr/local/lib/python3.11/dist-packages/colbert/utils/amp.py:12: FutureWarning: `torch.cuda.amp.GradScaler(args...)` is deprecated. Please use `torch.amp.GradScaler('cuda', args...)` instead.\n",
            "  self.scaler = torch.cuda.amp.GradScaler()\n",
            "/usr/local/lib/python3.11/dist-packages/torch/amp/grad_scaler.py:132: UserWarning: torch.cuda.amp.GradScaler is enabled, but CUDA is not available.  Disabling.\n",
            "  warnings.warn(\n"
          ]
        }
      ],
      "source": [
        "RAG = RAGPretrainedModel.from_pretrained(\"colbert-ir/colbertv2.0\")"
      ]
    },
    {
      "cell_type": "markdown",
      "metadata": {
        "id": "Vq0VwcpG9Jx-"
      },
      "source": [
        "### Colbert on tables through ragatouille\n",
        "We utilize ragatouille instead of transformers due to pytorch dependency issues on snellius (and couldnt get a venv fix)"
      ]
    },
    {
      "cell_type": "code",
      "execution_count": null,
      "metadata": {
        "colab": {
          "background_save": true
        },
        "id": "gAl1HQGy9Jx-"
      },
      "outputs": [],
      "source": [
        "# Convert to list format for colbert\n",
        "colbert_docs_original = colbert_metadata_original['full_metadata'].tolist()\n",
        "colbert_table_ids_original = colbert_metadata_original.index.tolist()\n",
        "\n",
        "colbert_docs_CSummary_TSummary = colbert_metadata_CSummary_TSummary['full_metadata'].tolist()\n",
        "colbert_table_ids_CSummary_TSummary = colbert_metadata_CSummary_TSummary.index.tolist()\n",
        "\n",
        "colbert_docs_CSample_TSummary = colbert_metadata_CSample_TSummary['full_metadata'].tolist()\n",
        "colbert_table_ids_CSample_TSummary = colbert_metadata_CSample_TSummary.index.tolist()\n",
        "\n",
        "colbert_docs_Column_TSummary = colbert_metadata_Column_TSummary['full_metadata'].tolist()\n",
        "colbert_table_ids_Column_TSummary = colbert_metadata_Column_TSummary.index.tolist()"
      ]
    },
    {
      "cell_type": "markdown",
      "metadata": {
        "id": "alkkWpCx9Jx-"
      },
      "source": [
        "### Creating index (&saving manually on colab), search queries and save results (all commented)\n",
        "\n",
        "todo clean code up later, but low priority; we utilize saved files"
      ]
    },
    {
      "cell_type": "code",
      "source": [
        "k = 10  # Top-k results for evaluation"
      ],
      "metadata": {
        "id": "kqzRK9axYvRu"
      },
      "execution_count": null,
      "outputs": []
    },
    {
      "cell_type": "code",
      "execution_count": null,
      "metadata": {
        "colab": {
          "base_uri": "https://localhost:8080/"
        },
        "id": "MoXHaam49Jx-",
        "outputId": "91a0270f-aa05-49fe-9220-2f5a27c9aa15"
      },
      "outputs": [
        {
          "name": "stdout",
          "output_type": "stream",
          "text": [
            "New index_name received! Updating current index_name (Miyazaki) to CBS_original\n",
            "\n",
            "\n",
            "[Jun 23, 01:53:46] #> Note: Output directory .ragatouille/colbert/indexes/CBS_original already exists\n",
            "\n",
            "\n",
            "[Jun 23, 01:53:46] #> Will delete 1 files already at .ragatouille/colbert/indexes/CBS_original in 20 seconds...\n",
            "[Jun 23, 01:54:09] [0] \t\t #> Encoding 3809 passages..\n",
            "[Jun 23, 01:54:19] [0] \t\t avg_doclen_est = 150.11288452148438 \t len(local_sample) = 3,809\n",
            "[Jun 23, 01:54:19] [0] \t\t Creating 8,192 partitions.\n",
            "[Jun 23, 01:54:19] [0] \t\t *Estimated* 571,779 embeddings.\n",
            "[Jun 23, 01:54:19] [0] \t\t #> Saving the indexing plan to .ragatouille/colbert/indexes/CBS_original/plan.json ..\n",
            "[0.025, 0.022, 0.025, 0.023, 0.022, 0.024, 0.021, 0.022, 0.021, 0.025, 0.022, 0.023, 0.022, 0.024, 0.022, 0.023, 0.021, 0.024, 0.022, 0.025, 0.024, 0.024, 0.022, 0.023, 0.022, 0.022, 0.023, 0.022, 0.023, 0.026, 0.022, 0.025, 0.024, 0.022, 0.022, 0.022, 0.023, 0.023, 0.023, 0.025, 0.024, 0.025, 0.024, 0.023, 0.021, 0.022, 0.021, 0.024, 0.024, 0.021, 0.021, 0.023, 0.022, 0.024, 0.022, 0.022, 0.023, 0.023, 0.025, 0.023, 0.023, 0.025, 0.023, 0.025, 0.024, 0.023, 0.022, 0.022, 0.022, 0.023, 0.024, 0.023, 0.024, 0.022, 0.023, 0.023, 0.023, 0.022, 0.023, 0.027, 0.024, 0.024, 0.023, 0.023, 0.021, 0.022, 0.022, 0.023, 0.021, 0.025, 0.022, 0.024, 0.024, 0.023, 0.023, 0.024, 0.026, 0.022, 0.023, 0.022, 0.024, 0.023, 0.024, 0.024, 0.025, 0.022, 0.024, 0.021, 0.025, 0.023, 0.022, 0.024, 0.025, 0.021, 0.023, 0.022, 0.022, 0.023, 0.024, 0.022, 0.022, 0.021, 0.022, 0.024, 0.022, 0.025, 0.023, 0.022]\n"
          ]
        },
        {
          "name": "stderr",
          "output_type": "stream",
          "text": [
            "\r0it [00:00, ?it/s]"
          ]
        },
        {
          "name": "stdout",
          "output_type": "stream",
          "text": [
            "[Jun 23, 01:54:31] [0] \t\t #> Encoding 3809 passages..\n"
          ]
        },
        {
          "name": "stderr",
          "output_type": "stream",
          "text": [
            "1it [00:14, 14.49s/it]\n",
            "100%|██████████| 1/1 [00:00<00:00, 363.33it/s]\n"
          ]
        },
        {
          "name": "stdout",
          "output_type": "stream",
          "text": [
            "[Jun 23, 01:54:46] #> Optimizing IVF to store map from centroids to list of pids..\n",
            "[Jun 23, 01:54:46] #> Building the emb2pid mapping..\n",
            "[Jun 23, 01:54:46] len(emb2pid) = 571780\n"
          ]
        },
        {
          "name": "stderr",
          "output_type": "stream",
          "text": [
            "100%|██████████| 8192/8192 [00:00<00:00, 17490.54it/s]\n"
          ]
        },
        {
          "name": "stdout",
          "output_type": "stream",
          "text": [
            "[Jun 23, 01:54:46] #> Saved optimized IVF to .ragatouille/colbert/indexes/CBS_original/ivf.pid.pt\n",
            "Done indexing!\n",
            "Loading searcher for index CBS_original for the first time... This may take a few seconds\n",
            "[Jun 23, 01:54:50] #> Loading codec...\n",
            "[Jun 23, 01:54:50] #> Loading IVF...\n",
            "[Jun 23, 01:54:50] #> Loading doclens...\n"
          ]
        },
        {
          "name": "stderr",
          "output_type": "stream",
          "text": [
            "100%|██████████| 1/1 [00:00<00:00, 1782.53it/s]"
          ]
        },
        {
          "name": "stdout",
          "output_type": "stream",
          "text": [
            "[Jun 23, 01:54:50] #> Loading codes and residuals...\n"
          ]
        },
        {
          "name": "stderr",
          "output_type": "stream",
          "text": [
            "\n",
            "100%|██████████| 1/1 [00:00<00:00, 14.72it/s]"
          ]
        },
        {
          "name": "stdout",
          "output_type": "stream",
          "text": [
            "Searcher loaded!\n"
          ]
        },
        {
          "name": "stderr",
          "output_type": "stream",
          "text": [
            "\n",
            "17698it [04:41, 62.97it/s]\n"
          ]
        }
      ],
      "source": [
        "# # === ORIGINAL METADATA ===\n",
        "# RAG.index(\n",
        "#     index_name=\"CBS_original\",\n",
        "#     collection=colbert_docs_original,\n",
        "#     document_ids=colbert_table_ids_original,\n",
        "#     max_document_length=180,\n",
        "#     split_documents=True,\n",
        "#     use_faiss=True\n",
        "# )\n",
        "# results_original = RAG.search(query=colbert_queries, k=k)\n"
      ]
    },
    {
      "cell_type": "code",
      "execution_count": null,
      "metadata": {
        "colab": {
          "base_uri": "https://localhost:8080/"
        },
        "id": "oyn4Wu_EFgwO",
        "outputId": "f9330554-fe29-4123-8e21-2321fc1a3208"
      },
      "outputs": [
        {
          "name": "stdout",
          "output_type": "stream",
          "text": [
            "Index saved to Google Drive at: /content/drive/MyDrive/ragatouille_indexes/CBS_original\n"
          ]
        }
      ],
      "source": [
        "# # Assuming your index was saved here (default path)\n",
        "# local_index_path = '.ragatouille/colbert/indexes/CBS_original'\n",
        "\n",
        "# # Path on your Google Drive where you want to save the index\n",
        "# drive_index_path = '/content/drive/MyDrive/ragatouille_indexes/CBS_original'\n",
        "\n",
        "# # Copy index folder from Colab local to Drive\n",
        "# shutil.copytree(local_index_path, drive_index_path)\n",
        "\n",
        "# print(f\"Index saved to Google Drive at: {drive_index_path}\")\n"
      ]
    },
    {
      "cell_type": "code",
      "execution_count": null,
      "metadata": {
        "colab": {
          "base_uri": "https://localhost:8080/",
          "height": 17
        },
        "id": "ML9mweyNJkm_",
        "outputId": "29705bfe-71c8-4e6f-a830-06ef2f717089"
      },
      "outputs": [
        {
          "data": {
            "application/javascript": [
              "\n",
              "    async function download(id, filename, size) {\n",
              "      if (!google.colab.kernel.accessAllowed) {\n",
              "        return;\n",
              "      }\n",
              "      const div = document.createElement('div');\n",
              "      const label = document.createElement('label');\n",
              "      label.textContent = `Downloading \"${filename}\": `;\n",
              "      div.appendChild(label);\n",
              "      const progress = document.createElement('progress');\n",
              "      progress.max = size;\n",
              "      div.appendChild(progress);\n",
              "      document.body.appendChild(div);\n",
              "\n",
              "      const buffers = [];\n",
              "      let downloaded = 0;\n",
              "\n",
              "      const channel = await google.colab.kernel.comms.open(id);\n",
              "      // Send a message to notify the kernel that we're ready.\n",
              "      channel.send({})\n",
              "\n",
              "      for await (const message of channel.messages) {\n",
              "        // Send a message to notify the kernel that we're ready.\n",
              "        channel.send({})\n",
              "        if (message.buffers) {\n",
              "          for (const buffer of message.buffers) {\n",
              "            buffers.push(buffer);\n",
              "            downloaded += buffer.byteLength;\n",
              "            progress.value = downloaded;\n",
              "          }\n",
              "        }\n",
              "      }\n",
              "      const blob = new Blob(buffers, {type: 'application/binary'});\n",
              "      const a = document.createElement('a');\n",
              "      a.href = window.URL.createObjectURL(blob);\n",
              "      a.download = filename;\n",
              "      div.appendChild(a);\n",
              "      a.click();\n",
              "      div.remove();\n",
              "    }\n",
              "  "
            ],
            "text/plain": [
              "<IPython.core.display.Javascript object>"
            ]
          },
          "metadata": {},
          "output_type": "display_data"
        },
        {
          "data": {
            "application/javascript": [
              "download(\"download_9fb9234f-cdf0-4ead-9796-42f7847fb85b\", \"results_original.json\", 107323833)"
            ],
            "text/plain": [
              "<IPython.core.display.Javascript object>"
            ]
          },
          "metadata": {},
          "output_type": "display_data"
        }
      ],
      "source": [
        "# # Save search results to JSON\n",
        "# with open('results_original.json', 'w', encoding='utf-8') as f:\n",
        "#     json.dump(results_original, f, ensure_ascii=False, indent=2)\n",
        "# files.download('results_original.json')\n"
      ]
    },
    {
      "cell_type": "code",
      "execution_count": null,
      "metadata": {
        "id": "kguaNv5HHQoo"
      },
      "outputs": [],
      "source": [
        "# import shutil\n",
        "# from google.colab import drive\n",
        "\n",
        "# # Mount Google Drive again\n",
        "# drive.mount('/content/drive')\n",
        "\n",
        "# # Define source (Drive) and destination (Colab local) paths\n",
        "# drive_index_path = '/content/drive/MyDrive/ragatouille_indexes/Miyazaki'\n",
        "# local_index_path = '.ragatouille/colbert/indexes/Miyazaki'\n",
        "\n",
        "# # Copy index folder back from Drive to local Colab filesystem\n",
        "# shutil.copytree(drive_index_path, local_index_path)\n",
        "\n",
        "# print(f\"Index copied back to Colab local filesystem at: {local_index_path}\")\n",
        "\n",
        "# # Now load the index by just referring to the index name (if your library supports it)\n",
        "# RAG.index(index_name=\"Miyazaki\", load_only=True)\n"
      ]
    },
    {
      "cell_type": "code",
      "execution_count": null,
      "metadata": {
        "colab": {
          "base_uri": "https://localhost:8080/"
        },
        "id": "amlvqgNNDU_v",
        "outputId": "99d9c76e-7aef-46fa-be64-54066ee58885"
      },
      "outputs": [
        {
          "name": "stdout",
          "output_type": "stream",
          "text": [
            "New index_name received! Updating current index_name (CBS_original) to CBS_CSummary_TSummary\n",
            "\n",
            "\n",
            "[Jun 23, 02:04:23] #> Creating directory .ragatouille/colbert/indexes/CBS_CSummary_TSummary \n",
            "\n",
            "\n",
            "[Jun 23, 02:04:25] [0] \t\t #> Encoding 3504 passages..\n"
          ]
        },
        {
          "name": "stderr",
          "output_type": "stream",
          "text": [
            "/usr/local/lib/python3.11/dist-packages/colbert/utils/amp.py:12: FutureWarning: `torch.cuda.amp.GradScaler(args...)` is deprecated. Please use `torch.amp.GradScaler('cuda', args...)` instead.\n",
            "  self.scaler = torch.cuda.amp.GradScaler()\n",
            "/usr/local/lib/python3.11/dist-packages/colbert/utils/amp.py:15: FutureWarning: `torch.cuda.amp.autocast(args...)` is deprecated. Please use `torch.amp.autocast('cuda', args...)` instead.\n",
            "  return torch.cuda.amp.autocast() if self.activated else NullContextManager()\n"
          ]
        },
        {
          "name": "stdout",
          "output_type": "stream",
          "text": [
            "[Jun 23, 02:04:36] [0] \t\t avg_doclen_est = 148.9574737548828 \t len(local_sample) = 3,504\n",
            "[Jun 23, 02:04:36] [0] \t\t Creating 8,192 partitions.\n",
            "[Jun 23, 02:04:36] [0] \t\t *Estimated* 521,946 embeddings.\n",
            "[Jun 23, 02:04:36] [0] \t\t #> Saving the indexing plan to .ragatouille/colbert/indexes/CBS_CSummary_TSummary/plan.json ..\n",
            "[0.024, 0.022, 0.025, 0.022, 0.022, 0.023, 0.021, 0.021, 0.021, 0.024, 0.022, 0.023, 0.022, 0.023, 0.022, 0.023, 0.021, 0.023, 0.022, 0.024, 0.023, 0.024, 0.021, 0.023, 0.021, 0.021, 0.023, 0.022, 0.022, 0.025, 0.022, 0.024, 0.023, 0.022, 0.021, 0.021, 0.022, 0.022, 0.023, 0.024, 0.023, 0.024, 0.023, 0.023, 0.021, 0.022, 0.021, 0.023, 0.023, 0.021, 0.021, 0.022, 0.021, 0.023, 0.022, 0.022, 0.023, 0.022, 0.024, 0.022, 0.023, 0.024, 0.023, 0.024, 0.023, 0.022, 0.021, 0.021, 0.022, 0.023, 0.023, 0.022, 0.024, 0.022, 0.022, 0.022, 0.023, 0.022, 0.023, 0.026, 0.023, 0.023, 0.023, 0.022, 0.021, 0.022, 0.021, 0.022, 0.02, 0.025, 0.022, 0.023, 0.023, 0.023, 0.023, 0.023, 0.025, 0.021, 0.023, 0.022, 0.023, 0.023, 0.024, 0.023, 0.024, 0.021, 0.023, 0.02, 0.024, 0.023, 0.021, 0.024, 0.025, 0.02, 0.023, 0.021, 0.022, 0.022, 0.024, 0.022, 0.021, 0.02, 0.022, 0.024, 0.022, 0.026, 0.022, 0.022]\n"
          ]
        },
        {
          "name": "stderr",
          "output_type": "stream",
          "text": [
            "\r0it [00:00, ?it/s]"
          ]
        },
        {
          "name": "stdout",
          "output_type": "stream",
          "text": [
            "[Jun 23, 02:04:48] [0] \t\t #> Encoding 3504 passages..\n"
          ]
        },
        {
          "name": "stderr",
          "output_type": "stream",
          "text": [
            "1it [00:10, 10.50s/it]\n",
            "100%|██████████| 1/1 [00:00<00:00, 482.66it/s]"
          ]
        },
        {
          "name": "stdout",
          "output_type": "stream",
          "text": [
            "[Jun 23, 02:04:59] #> Optimizing IVF to store map from centroids to list of pids..\n",
            "[Jun 23, 02:04:59] #> Building the emb2pid mapping..\n",
            "[Jun 23, 02:04:59] len(emb2pid) = 521947\n"
          ]
        },
        {
          "name": "stderr",
          "output_type": "stream",
          "text": [
            "\n",
            "100%|██████████| 8192/8192 [00:00<00:00, 51625.62it/s]"
          ]
        },
        {
          "name": "stdout",
          "output_type": "stream",
          "text": [
            "[Jun 23, 02:04:59] #> Saved optimized IVF to .ragatouille/colbert/indexes/CBS_CSummary_TSummary/ivf.pid.pt\n"
          ]
        },
        {
          "name": "stderr",
          "output_type": "stream",
          "text": [
            "\n"
          ]
        },
        {
          "name": "stdout",
          "output_type": "stream",
          "text": [
            "Done indexing!\n",
            "Loading searcher for index CBS_CSummary_TSummary for the first time... This may take a few seconds\n",
            "[Jun 23, 02:05:02] #> Loading codec...\n",
            "[Jun 23, 02:05:02] #> Loading IVF...\n",
            "[Jun 23, 02:05:02] #> Loading doclens...\n"
          ]
        },
        {
          "name": "stderr",
          "output_type": "stream",
          "text": [
            "100%|██████████| 1/1 [00:00<00:00, 1807.11it/s]"
          ]
        },
        {
          "name": "stdout",
          "output_type": "stream",
          "text": [
            "[Jun 23, 02:05:02] #> Loading codes and residuals...\n"
          ]
        },
        {
          "name": "stderr",
          "output_type": "stream",
          "text": [
            "\n",
            "100%|██████████| 1/1 [00:00<00:00, 23.92it/s]"
          ]
        },
        {
          "name": "stdout",
          "output_type": "stream",
          "text": [
            "Searcher loaded!\n"
          ]
        },
        {
          "name": "stderr",
          "output_type": "stream",
          "text": [
            "\n",
            "17698it [04:52, 60.43it/s]\n"
          ]
        }
      ],
      "source": [
        "# # === CSummary + TSummary ===\n",
        "# RAG.index(\n",
        "#     index_name=\"CBS_CSummary_TSummary\",\n",
        "#     collection=colbert_docs_CSummary_TSummary,\n",
        "#     document_ids=colbert_table_ids_CSummary_TSummary,\n",
        "#     max_document_length=180,\n",
        "#     split_documents=True,\n",
        "#     use_faiss=True\n",
        "# )\n",
        "# results_CSummary_TSummary = RAG.search(query=colbert_queries, k=k)\n",
        "\n"
      ]
    },
    {
      "cell_type": "code",
      "execution_count": null,
      "metadata": {
        "colab": {
          "base_uri": "https://localhost:8080/"
        },
        "id": "lJbPQOxXGFbG",
        "outputId": "7fc68f31-df77-4501-ead6-1d8b58f3e314"
      },
      "outputs": [
        {
          "name": "stdout",
          "output_type": "stream",
          "text": [
            "Index saved to Google Drive at: /content/drive/MyDrive/ragatouille_indexes/CBS_CSummary_TSummary\n"
          ]
        }
      ],
      "source": [
        "# # Assuming your index was saved here (default path)\n",
        "# local_index_path = '.ragatouille/colbert/indexes/CBS_CSummary_TSummary'\n",
        "\n",
        "# # Path on your Google Drive where you want to save the index\n",
        "# drive_index_path = '/content/drive/MyDrive/ragatouille_indexes/CBS_CSummary_TSummary'\n",
        "\n",
        "# # Copy index folder from Colab local to Drive\n",
        "# shutil.copytree(local_index_path, drive_index_path)\n",
        "\n",
        "# print(f\"Index saved to Google Drive at: {drive_index_path}\")"
      ]
    },
    {
      "cell_type": "code",
      "execution_count": null,
      "metadata": {
        "colab": {
          "base_uri": "https://localhost:8080/",
          "height": 17
        },
        "id": "SkBn9Vzv_cSE",
        "outputId": "073446e8-cdc0-44b6-f3cc-bfd4e3c297e1"
      },
      "outputs": [
        {
          "data": {
            "application/javascript": [
              "\n",
              "    async function download(id, filename, size) {\n",
              "      if (!google.colab.kernel.accessAllowed) {\n",
              "        return;\n",
              "      }\n",
              "      const div = document.createElement('div');\n",
              "      const label = document.createElement('label');\n",
              "      label.textContent = `Downloading \"${filename}\": `;\n",
              "      div.appendChild(label);\n",
              "      const progress = document.createElement('progress');\n",
              "      progress.max = size;\n",
              "      div.appendChild(progress);\n",
              "      document.body.appendChild(div);\n",
              "\n",
              "      const buffers = [];\n",
              "      let downloaded = 0;\n",
              "\n",
              "      const channel = await google.colab.kernel.comms.open(id);\n",
              "      // Send a message to notify the kernel that we're ready.\n",
              "      channel.send({})\n",
              "\n",
              "      for await (const message of channel.messages) {\n",
              "        // Send a message to notify the kernel that we're ready.\n",
              "        channel.send({})\n",
              "        if (message.buffers) {\n",
              "          for (const buffer of message.buffers) {\n",
              "            buffers.push(buffer);\n",
              "            downloaded += buffer.byteLength;\n",
              "            progress.value = downloaded;\n",
              "          }\n",
              "        }\n",
              "      }\n",
              "      const blob = new Blob(buffers, {type: 'application/binary'});\n",
              "      const a = document.createElement('a');\n",
              "      a.href = window.URL.createObjectURL(blob);\n",
              "      a.download = filename;\n",
              "      div.appendChild(a);\n",
              "      a.click();\n",
              "      div.remove();\n",
              "    }\n",
              "  "
            ],
            "text/plain": [
              "<IPython.core.display.Javascript object>"
            ]
          },
          "metadata": {},
          "output_type": "display_data"
        },
        {
          "data": {
            "application/javascript": [
              "download(\"download_97624c23-b470-4f37-b24a-009aa4059570\", \"results_CSummary_TSummary.json\", 111401333)"
            ],
            "text/plain": [
              "<IPython.core.display.Javascript object>"
            ]
          },
          "metadata": {},
          "output_type": "display_data"
        }
      ],
      "source": [
        "# # Save search results to JSON\n",
        "# with open('results_CSummary_TSummary.json', 'w', encoding='utf-8') as f:\n",
        "#     json.dump(results_CSummary_TSummary, f, ensure_ascii=False, indent=2)\n",
        "\n",
        "# files.download('results_CSummary_TSummary.json')\n"
      ]
    },
    {
      "cell_type": "code",
      "execution_count": null,
      "metadata": {
        "colab": {
          "base_uri": "https://localhost:8080/"
        },
        "id": "WWPtW9CMDWOX",
        "outputId": "90d326a8-ebf7-4864-b8dc-b9feaece5fc8"
      },
      "outputs": [
        {
          "name": "stdout",
          "output_type": "stream",
          "text": [
            "New index_name received! Updating current index_name (CBS_CSummary_TSummary) to CBS_CSample_TSummary\n",
            "\n",
            "\n",
            "[Jun 23, 02:10:13] #> Creating directory .ragatouille/colbert/indexes/CBS_CSample_TSummary \n",
            "\n",
            "\n",
            "[Jun 23, 02:10:16] [0] \t\t #> Encoding 3269 passages..\n",
            "[Jun 23, 02:10:26] [0] \t\t avg_doclen_est = 149.5699005126953 \t len(local_sample) = 3,269\n",
            "[Jun 23, 02:10:26] [0] \t\t Creating 8,192 partitions.\n",
            "[Jun 23, 02:10:26] [0] \t\t *Estimated* 488,944 embeddings.\n",
            "[Jun 23, 02:10:26] [0] \t\t #> Saving the indexing plan to .ragatouille/colbert/indexes/CBS_CSample_TSummary/plan.json ..\n",
            "[0.025, 0.021, 0.025, 0.022, 0.021, 0.023, 0.021, 0.021, 0.021, 0.024, 0.022, 0.023, 0.022, 0.023, 0.022, 0.023, 0.02, 0.023, 0.022, 0.024, 0.023, 0.024, 0.021, 0.023, 0.021, 0.021, 0.023, 0.022, 0.022, 0.025, 0.022, 0.024, 0.023, 0.022, 0.021, 0.021, 0.022, 0.022, 0.023, 0.025, 0.023, 0.024, 0.023, 0.023, 0.02, 0.022, 0.021, 0.023, 0.023, 0.021, 0.021, 0.022, 0.021, 0.023, 0.022, 0.021, 0.023, 0.022, 0.024, 0.022, 0.023, 0.024, 0.022, 0.024, 0.023, 0.022, 0.022, 0.021, 0.022, 0.022, 0.022, 0.022, 0.024, 0.022, 0.022, 0.022, 0.023, 0.022, 0.023, 0.026, 0.023, 0.023, 0.022, 0.022, 0.021, 0.022, 0.021, 0.022, 0.021, 0.025, 0.022, 0.023, 0.023, 0.023, 0.022, 0.024, 0.025, 0.021, 0.023, 0.022, 0.023, 0.022, 0.024, 0.023, 0.024, 0.021, 0.024, 0.02, 0.024, 0.023, 0.021, 0.024, 0.025, 0.02, 0.022, 0.021, 0.022, 0.022, 0.024, 0.021, 0.021, 0.02, 0.022, 0.024, 0.022, 0.025, 0.022, 0.021]\n"
          ]
        },
        {
          "name": "stderr",
          "output_type": "stream",
          "text": [
            "\r0it [00:00, ?it/s]"
          ]
        },
        {
          "name": "stdout",
          "output_type": "stream",
          "text": [
            "[Jun 23, 02:10:36] [0] \t\t #> Encoding 3269 passages..\n"
          ]
        },
        {
          "name": "stderr",
          "output_type": "stream",
          "text": [
            "1it [00:10, 10.21s/it]\n",
            "100%|██████████| 1/1 [00:00<00:00, 416.85it/s]"
          ]
        },
        {
          "name": "stdout",
          "output_type": "stream",
          "text": [
            "[Jun 23, 02:10:46] #> Optimizing IVF to store map from centroids to list of pids..\n",
            "[Jun 23, 02:10:46] #> Building the emb2pid mapping..\n",
            "[Jun 23, 02:10:46] len(emb2pid) = 488944\n"
          ]
        },
        {
          "name": "stderr",
          "output_type": "stream",
          "text": [
            "\n",
            "100%|██████████| 8192/8192 [00:00<00:00, 58018.73it/s]\n"
          ]
        },
        {
          "name": "stdout",
          "output_type": "stream",
          "text": [
            "[Jun 23, 02:10:46] #> Saved optimized IVF to .ragatouille/colbert/indexes/CBS_CSample_TSummary/ivf.pid.pt\n",
            "Done indexing!\n",
            "Loading searcher for index CBS_CSample_TSummary for the first time... This may take a few seconds\n",
            "[Jun 23, 02:10:49] #> Loading codec...\n",
            "[Jun 23, 02:10:49] #> Loading IVF...\n",
            "[Jun 23, 02:10:49] #> Loading doclens...\n"
          ]
        },
        {
          "name": "stderr",
          "output_type": "stream",
          "text": [
            "100%|██████████| 1/1 [00:00<00:00, 2134.51it/s]"
          ]
        },
        {
          "name": "stdout",
          "output_type": "stream",
          "text": [
            "[Jun 23, 02:10:49] #> Loading codes and residuals...\n"
          ]
        },
        {
          "name": "stderr",
          "output_type": "stream",
          "text": [
            "\n",
            "100%|██████████| 1/1 [00:00<00:00, 20.42it/s]"
          ]
        },
        {
          "name": "stdout",
          "output_type": "stream",
          "text": [
            "Searcher loaded!\n"
          ]
        },
        {
          "name": "stderr",
          "output_type": "stream",
          "text": [
            "\n",
            "17698it [04:36, 63.98it/s]\n"
          ]
        }
      ],
      "source": [
        "# # === CSample + TSummary ===\n",
        "# RAG.index(\n",
        "#     index_name=\"CBS_CSample_TSummary\",\n",
        "#     collection=colbert_docs_CSample_TSummary,\n",
        "#     document_ids=colbert_table_ids_CSample_TSummary,\n",
        "#     max_document_length=180,\n",
        "#     split_documents=True,\n",
        "#     use_faiss=True\n",
        "# )\n",
        "# results_CSample_TSummary = RAG.search(query=colbert_queries, k=k)\n",
        "\n"
      ]
    },
    {
      "cell_type": "code",
      "execution_count": null,
      "metadata": {
        "colab": {
          "base_uri": "https://localhost:8080/"
        },
        "id": "Dk7DL0buGKG4",
        "outputId": "588c5bae-e30c-4f1f-cdb9-45b994eed00d"
      },
      "outputs": [
        {
          "name": "stdout",
          "output_type": "stream",
          "text": [
            "Index saved to Google Drive at: /content/drive/MyDrive/ragatouille_indexes/CBS_CSample_TSummary\n"
          ]
        }
      ],
      "source": [
        "# # Assuming your index was saved here (default path)\n",
        "# local_index_path = '.ragatouille/colbert/indexes/CBS_CSample_TSummary'\n",
        "\n",
        "# # Path on your Google Drive where you want to save the index\n",
        "# drive_index_path = '/content/drive/MyDrive/ragatouille_indexes/CBS_CSample_TSummary'\n",
        "\n",
        "# # Copy index folder from Colab local to Drive\n",
        "# shutil.copytree(local_index_path, drive_index_path)\n",
        "\n",
        "# print(f\"Index saved to Google Drive at: {drive_index_path}\")"
      ]
    },
    {
      "cell_type": "code",
      "execution_count": null,
      "metadata": {
        "colab": {
          "base_uri": "https://localhost:8080/",
          "height": 17
        },
        "id": "9JEImRDW_oyd",
        "outputId": "202d7510-c24e-4c31-8b46-9a8efd974bf1"
      },
      "outputs": [
        {
          "data": {
            "application/javascript": [
              "\n",
              "    async function download(id, filename, size) {\n",
              "      if (!google.colab.kernel.accessAllowed) {\n",
              "        return;\n",
              "      }\n",
              "      const div = document.createElement('div');\n",
              "      const label = document.createElement('label');\n",
              "      label.textContent = `Downloading \"${filename}\": `;\n",
              "      div.appendChild(label);\n",
              "      const progress = document.createElement('progress');\n",
              "      progress.max = size;\n",
              "      div.appendChild(progress);\n",
              "      document.body.appendChild(div);\n",
              "\n",
              "      const buffers = [];\n",
              "      let downloaded = 0;\n",
              "\n",
              "      const channel = await google.colab.kernel.comms.open(id);\n",
              "      // Send a message to notify the kernel that we're ready.\n",
              "      channel.send({})\n",
              "\n",
              "      for await (const message of channel.messages) {\n",
              "        // Send a message to notify the kernel that we're ready.\n",
              "        channel.send({})\n",
              "        if (message.buffers) {\n",
              "          for (const buffer of message.buffers) {\n",
              "            buffers.push(buffer);\n",
              "            downloaded += buffer.byteLength;\n",
              "            progress.value = downloaded;\n",
              "          }\n",
              "        }\n",
              "      }\n",
              "      const blob = new Blob(buffers, {type: 'application/binary'});\n",
              "      const a = document.createElement('a');\n",
              "      a.href = window.URL.createObjectURL(blob);\n",
              "      a.download = filename;\n",
              "      div.appendChild(a);\n",
              "      a.click();\n",
              "      div.remove();\n",
              "    }\n",
              "  "
            ],
            "text/plain": [
              "<IPython.core.display.Javascript object>"
            ]
          },
          "metadata": {},
          "output_type": "display_data"
        },
        {
          "data": {
            "application/javascript": [
              "download(\"download_483a06da-804f-4815-8143-71e926af3012\", \"results_CSample_TSummary.json\", 111533278)"
            ],
            "text/plain": [
              "<IPython.core.display.Javascript object>"
            ]
          },
          "metadata": {},
          "output_type": "display_data"
        }
      ],
      "source": [
        "# # Save search results to JSON\n",
        "# with open('results_CSample_TSummary.json', 'w', encoding='utf-8') as f:\n",
        "#     json.dump(results_CSample_TSummary, f, ensure_ascii=False, indent=2)\n",
        "\n",
        "# files.download('results_CSample_TSummary.json')\n"
      ]
    },
    {
      "cell_type": "code",
      "execution_count": null,
      "metadata": {
        "colab": {
          "base_uri": "https://localhost:8080/"
        },
        "id": "rA1wfv66DXRq",
        "outputId": "b10de920-4056-4218-d1d2-fe8ec9876375"
      },
      "outputs": [
        {
          "name": "stdout",
          "output_type": "stream",
          "text": [
            "New index_name received! Updating current index_name (CBS_CSample_TSummary) to CBS_Column_TSummary\n",
            "\n",
            "\n",
            "[Jun 23, 02:15:45] #> Creating directory .ragatouille/colbert/indexes/CBS_Column_TSummary \n",
            "\n",
            "\n",
            "[Jun 23, 02:15:47] [0] \t\t #> Encoding 3224 passages..\n",
            "[Jun 23, 02:15:57] [0] \t\t avg_doclen_est = 149.86817932128906 \t len(local_sample) = 3,224\n",
            "[Jun 23, 02:15:57] [0] \t\t Creating 8,192 partitions.\n",
            "[Jun 23, 02:15:57] [0] \t\t *Estimated* 483,175 embeddings.\n",
            "[Jun 23, 02:15:57] [0] \t\t #> Saving the indexing plan to .ragatouille/colbert/indexes/CBS_Column_TSummary/plan.json ..\n",
            "[0.024, 0.021, 0.025, 0.022, 0.021, 0.023, 0.021, 0.021, 0.021, 0.024, 0.022, 0.022, 0.022, 0.023, 0.021, 0.023, 0.02, 0.023, 0.021, 0.024, 0.023, 0.024, 0.021, 0.023, 0.021, 0.02, 0.022, 0.022, 0.022, 0.025, 0.022, 0.024, 0.023, 0.022, 0.021, 0.021, 0.022, 0.022, 0.022, 0.025, 0.023, 0.024, 0.023, 0.023, 0.02, 0.022, 0.02, 0.023, 0.023, 0.021, 0.021, 0.022, 0.021, 0.023, 0.021, 0.021, 0.023, 0.021, 0.024, 0.022, 0.023, 0.024, 0.022, 0.024, 0.022, 0.022, 0.021, 0.021, 0.021, 0.023, 0.023, 0.021, 0.024, 0.022, 0.022, 0.022, 0.023, 0.022, 0.022, 0.026, 0.023, 0.023, 0.022, 0.022, 0.02, 0.021, 0.021, 0.022, 0.02, 0.025, 0.022, 0.023, 0.023, 0.023, 0.022, 0.023, 0.025, 0.021, 0.023, 0.022, 0.023, 0.022, 0.024, 0.023, 0.024, 0.021, 0.023, 0.019, 0.024, 0.023, 0.021, 0.024, 0.025, 0.02, 0.023, 0.021, 0.022, 0.022, 0.024, 0.022, 0.021, 0.02, 0.022, 0.023, 0.022, 0.025, 0.022, 0.021]\n"
          ]
        },
        {
          "name": "stderr",
          "output_type": "stream",
          "text": [
            "\r0it [00:00, ?it/s]"
          ]
        },
        {
          "name": "stdout",
          "output_type": "stream",
          "text": [
            "[Jun 23, 02:16:07] [0] \t\t #> Encoding 3224 passages..\n"
          ]
        },
        {
          "name": "stderr",
          "output_type": "stream",
          "text": [
            "1it [00:09,  9.71s/it]\n",
            "100%|██████████| 1/1 [00:00<00:00, 581.90it/s]"
          ]
        },
        {
          "name": "stdout",
          "output_type": "stream",
          "text": [
            "[Jun 23, 02:16:17] #> Optimizing IVF to store map from centroids to list of pids..\n",
            "[Jun 23, 02:16:17] #> Building the emb2pid mapping..\n",
            "[Jun 23, 02:16:17] len(emb2pid) = 483175\n"
          ]
        },
        {
          "name": "stderr",
          "output_type": "stream",
          "text": [
            "\n",
            "100%|██████████| 8192/8192 [00:00<00:00, 37822.38it/s]"
          ]
        },
        {
          "name": "stdout",
          "output_type": "stream",
          "text": [
            "[Jun 23, 02:16:17] #> Saved optimized IVF to .ragatouille/colbert/indexes/CBS_Column_TSummary/ivf.pid.pt\n"
          ]
        },
        {
          "name": "stderr",
          "output_type": "stream",
          "text": [
            "\n"
          ]
        },
        {
          "name": "stdout",
          "output_type": "stream",
          "text": [
            "Done indexing!\n",
            "Loading searcher for index CBS_Column_TSummary for the first time... This may take a few seconds\n",
            "[Jun 23, 02:16:21] #> Loading codec...\n",
            "[Jun 23, 02:16:21] #> Loading IVF...\n",
            "[Jun 23, 02:16:21] #> Loading doclens...\n"
          ]
        },
        {
          "name": "stderr",
          "output_type": "stream",
          "text": [
            "100%|██████████| 1/1 [00:00<00:00, 1980.31it/s]"
          ]
        },
        {
          "name": "stdout",
          "output_type": "stream",
          "text": [
            "[Jun 23, 02:16:21] #> Loading codes and residuals...\n"
          ]
        },
        {
          "name": "stderr",
          "output_type": "stream",
          "text": [
            "\n",
            "100%|██████████| 1/1 [00:00<00:00, 26.03it/s]"
          ]
        },
        {
          "name": "stdout",
          "output_type": "stream",
          "text": [
            "Searcher loaded!\n"
          ]
        },
        {
          "name": "stderr",
          "output_type": "stream",
          "text": [
            "\n",
            "17698it [04:32, 64.88it/s]\n"
          ]
        }
      ],
      "source": [
        "# # === Flattened Columns + TSummary ===\n",
        "# RAG.index(\n",
        "#     index_name=\"CBS_Column_TSummary\",\n",
        "#     collection=colbert_docs_Column_TSummary,\n",
        "#     document_ids=colbert_table_ids_Column_TSummary,\n",
        "#     max_document_length=180,\n",
        "#     split_documents=True,\n",
        "#     use_faiss=True\n",
        "# )\n",
        "# results_Column_TSummary = RAG.search(query=colbert_queries, k=k)\n"
      ]
    },
    {
      "cell_type": "code",
      "execution_count": null,
      "metadata": {
        "colab": {
          "base_uri": "https://localhost:8080/"
        },
        "id": "VXBgMTakGNkS",
        "outputId": "667af070-f9b7-45af-8b15-35a03a7f134f"
      },
      "outputs": [
        {
          "name": "stdout",
          "output_type": "stream",
          "text": [
            "Index saved to Google Drive at: /content/drive/MyDrive/ragatouille_indexes/CBS_Column_TSummary\n"
          ]
        }
      ],
      "source": [
        "# # Assuming your index was saved here (default path)\n",
        "# local_index_path = '.ragatouille/colbert/indexes/CBS_Column_TSummary'\n",
        "\n",
        "# # Path on your Google Drive where you want to save the index\n",
        "# drive_index_path = '/content/drive/MyDrive/ragatouille_indexes/CBS_Column_TSummary'\n",
        "\n",
        "# # Copy index folder from Colab local to Drive\n",
        "# shutil.copytree(local_index_path, drive_index_path)\n",
        "\n",
        "# print(f\"Index saved to Google Drive at: {drive_index_path}\")"
      ]
    },
    {
      "cell_type": "code",
      "execution_count": null,
      "metadata": {
        "colab": {
          "base_uri": "https://localhost:8080/",
          "height": 17
        },
        "id": "K8dAzB2P_-4d",
        "outputId": "ec67cac4-0e6a-4eb8-a864-1ee8b941580a"
      },
      "outputs": [
        {
          "data": {
            "application/javascript": [
              "\n",
              "    async function download(id, filename, size) {\n",
              "      if (!google.colab.kernel.accessAllowed) {\n",
              "        return;\n",
              "      }\n",
              "      const div = document.createElement('div');\n",
              "      const label = document.createElement('label');\n",
              "      label.textContent = `Downloading \"${filename}\": `;\n",
              "      div.appendChild(label);\n",
              "      const progress = document.createElement('progress');\n",
              "      progress.max = size;\n",
              "      div.appendChild(progress);\n",
              "      document.body.appendChild(div);\n",
              "\n",
              "      const buffers = [];\n",
              "      let downloaded = 0;\n",
              "\n",
              "      const channel = await google.colab.kernel.comms.open(id);\n",
              "      // Send a message to notify the kernel that we're ready.\n",
              "      channel.send({})\n",
              "\n",
              "      for await (const message of channel.messages) {\n",
              "        // Send a message to notify the kernel that we're ready.\n",
              "        channel.send({})\n",
              "        if (message.buffers) {\n",
              "          for (const buffer of message.buffers) {\n",
              "            buffers.push(buffer);\n",
              "            downloaded += buffer.byteLength;\n",
              "            progress.value = downloaded;\n",
              "          }\n",
              "        }\n",
              "      }\n",
              "      const blob = new Blob(buffers, {type: 'application/binary'});\n",
              "      const a = document.createElement('a');\n",
              "      a.href = window.URL.createObjectURL(blob);\n",
              "      a.download = filename;\n",
              "      div.appendChild(a);\n",
              "      a.click();\n",
              "      div.remove();\n",
              "    }\n",
              "  "
            ],
            "text/plain": [
              "<IPython.core.display.Javascript object>"
            ]
          },
          "metadata": {},
          "output_type": "display_data"
        },
        {
          "data": {
            "application/javascript": [
              "download(\"download_f66043ed-7707-4a51-aa2c-dfa110908b5b\", \"results_Column_TSummary.json\", 111709927)"
            ],
            "text/plain": [
              "<IPython.core.display.Javascript object>"
            ]
          },
          "metadata": {},
          "output_type": "display_data"
        }
      ],
      "source": [
        "# # Save search results to JSON\n",
        "# with open('results_Column_TSummary.json', 'w', encoding='utf-8') as f:\n",
        "#     json.dump(results_Column_TSummary, f, ensure_ascii=False, indent=2)\n",
        "# files.download('results_Column_TSummary.json')"
      ]
    },
    {
      "cell_type": "markdown",
      "source": [
        "ColBERT retrieval results"
      ],
      "metadata": {
        "id": "_JmwUWMrTkW0"
      }
    },
    {
      "cell_type": "markdown",
      "metadata": {
        "id": "5XYqnyJl9Jx_"
      },
      "source": [
        "### Evaluation of top k colbert\n",
        "As ragatouille lacks eval for our one table retrieval task https://ben.clavie.eu/ragatouille/roadmap/, we just extend and update our bm25 pipeline to work directly on the returned rag.search objects\n",
        "rag.search returns\n",
        "```\n",
        "List[List[Dictionaries]]\n",
        "Where the each element of the outer list corresponds to each query\n",
        "      each element of the inner list corresponds to the retrieved documents per query\n",
        "            each element of that dictionary corresponds to the document retrieved containing the following:\n",
        "                  content\n",
        "                  score\n",
        "                  rank\n",
        "                  document_id\n",
        "                  passage_id\n",
        "```"
      ]
    },
    {
      "cell_type": "code",
      "source": [
        "# test_df = pd.DataFrame.from_dict(colbert_original_results[0])\n",
        "# colbert_original_results\n",
        "# colbert_csummary_results\n",
        "# colbert_csample_results\n",
        "# colbert_column_results"
      ],
      "metadata": {
        "colab": {
          "base_uri": "https://localhost:8080/",
          "height": 0
        },
        "id": "1cW4tDoBasym",
        "outputId": "8bebdfef-99a7-42ab-eed7-894244ebbf6f"
      },
      "execution_count": 207,
      "outputs": [
        {
          "output_type": "execute_result",
          "data": {
            "text/plain": [
              "[{'content': 'In het 3e kwartaal van 2024 worden de cijfers over 2023 aan deze publicatie toegevoegd. Levend geboren kinderen herkomstland moeder, leeftijd moeder Levend geboren kinderen; herkomstland moeder en leeftijd levendgeborenen leeftijdsklasse leeftijdsopbouw leeftijdsgroepen Deze tabel kan geraadpleegd worden indien men informatie zoekt over het aantal levend geboren kinderen van moeders met verschillende migratieachtergronden en leeftijden in 2022.',\n",
              "  'score': 26.21875,\n",
              "  'rank': 1,\n",
              "  'document_id': '85497NED',\n",
              "  'passage_id': 2929},\n",
              " {'content': 'In het 3e kwartaal van 2024 worden de cijfers van 2023 aan deze publicatie toegevoegd. Levend geboren kinderen, rel, gemiddelde lft moeder, gemiddeld kindertal Herkomstland, geboorteland moeder Geboorte; vruchtbaarheid, herkomstland en geboorteland moeder Deze tabel kan geraadpleegd worden indien men informatie zoekt over geboortes, vruchtbaarheid, herkomstland en geboorteland van moeders.',\n",
              "  'score': 25.703125,\n",
              "  'rank': 2,\n",
              "  'document_id': '85730NED',\n",
              "  'passage_id': 3680},\n",
              " {'content': 'Wanneer komen er nieuwe cijfers? In het 3e kwartaal van 2024 worden de definitieve cijfers over 2023 in de tabel opgenomen. Doodgeboren kinderen Geslacht, leeftijd moeder, kenmerken geboorte Doodgeboren kinderen; leeftijd moeder, kenmerken geboorte leeftijdsklasse leeftijdsopbouw leeftijdsgroepen Deze tabel kan geraadpleegd worden indien men informatie zoekt over het aantal doodgeboren kinderen na 28 weken zwangerschap, gerelateerd aan de leeftijd van de moeder en geboortekenmerken.',\n",
              "  'score': 25.03125,\n",
              "  'rank': 3,\n",
              "  'document_id': '82607NED',\n",
              "  'passage_id': 2601},\n",
              " {'content': \"Het bevat gegevens over het aantal gezinnen met specifieke kindertallen in verschillende regio's en jaren, zoals gezinnen met 1 kind in Goirle in 2017, eenoudergezinnen in Friesland in 2002, gezinnen met 3 of meer kinderen in Arnhem/Nijmegen in 2019, etc.\",\n",
              "  'score': 24.21875,\n",
              "  'rank': 4,\n",
              "  'document_id': '71487ned',\n",
              "  'passage_id': 349},\n",
              " {'content': \"'Sociale wetenschappen', 'Wetenschappelijk onderwijs'] I D | Geslacht | Perioden | Kleuteronderwijs | Basisonderwijs | Speciaal Basisonderwijs | Totaal Blo Buo | Zeer Moeilijk Lerende Kinderen | Leer En Opvoedingsmoeilijkheden | Overig Buitengewoon Lager Onderwijs | Spec Voortgezet Onderwijs 1991 Tot | Totaal Speciale Scholen | Speciale Scholen Basis | Speciale Scholen Voortgezet | Totaal Voortgezet Onderwijs | Avo Algemeen Leerjaar | Avo Algemene Leerjaren 2 En | Gymnasium | Atheneum Hbs | Vwo Ongedeeld\",\n",
              "  'score': 24.21875,\n",
              "  'rank': 5,\n",
              "  'document_id': '37220',\n",
              "  'passage_id': 1830},\n",
              " {'content': 'Een link naar deze tabel is opgenomen in paragraaf 3. De volgende wijzigingen zijn doorgevoerd: De onderwerpen met betrekking tot de levend geboren kinderen naar migratieachtergrond van de moeder zijn vervangen door levend geboren kinderen naar geboorteland van de moeder (Nederland, buiten Nederland) en herkomstland (Nederland, Europa (exclusief Nederland) en buiten Europa) van de moeder. Wanneer komen er nieuwe cijfers? In het derde kwartaal van 2024 worden de definitieve cijfers over 2023 in deze publicatie opgenomen.',\n",
              "  'score': 23.734375,\n",
              "  'rank': 6,\n",
              "  'document_id': '85722NED',\n",
              "  'passage_id': 3186},\n",
              " {'content': 'Specifieke gegevens omvatten omzet in het 3e kwartaal van 2020 voor gespecialiseerde bouwbedrijven met 43+ werknemers, omzet in het 4e kwartaal van 2017 en omzetontwikkeling in de algemene burgerlijke en utiliteitsbouw met 100+ werknemers in 2015.',\n",
              "  'score': 23.390625,\n",
              "  'rank': 7,\n",
              "  'document_id': '83824NED',\n",
              "  'passage_id': 3247},\n",
              " {'content': 'Deze indeling wordt geleidelijk ingevoerd in tabellen en publicaties met bevolking naar herkomst. Gegevens beschikbaar vanaf: De meeste gegevens zijn beschikbaar vanaf 1950. Uitzonderingen hierop zijn levend geboren kinderen naar geboorteland en herkomstland van de moeder (vooralsnog vanaf 2021, op een later moment zullen aantallen over eerdere perioden worden toegevoegd), doodgeboren kinderen met een zwangerschapsduur van 24 of meer weken (vanaf 1991), het gemiddeld kindertal per man (vanaf 1996) en de gemiddelde leeftijd van de vader (vanaf 1996).',\n",
              "  'score': 23.375,\n",
              "  'rank': 8,\n",
              "  'document_id': '85722NED',\n",
              "  'passage_id': 3184},\n",
              " {'content': 'Het bevat gegevens over onder andere het aantal Surinamers met een HAVO of VWO diploma in het tweede kwartaal van 2021, de bevolking van Europa met vmbo, mbo1 of avo onderbouw in het 3e kwartaal van 2016, personen met een master op de Nederlandse Cariben in 2018, en Indonesiërs met een hoog onderwijsniveau in 2015.',\n",
              "  'score': 23.265625,\n",
              "  'rank': 9,\n",
              "  'document_id': '85453NED',\n",
              "  'passage_id': 1596},\n",
              " {'content': \"Wanneer komen er nieuwe cijfers? In het 3e kwartaal van 2024 worden de definitieve cijfers over 2023 in deze tabel gepubliceerd. Binnen - en tussen gemeenten verhuisde personen naar gezinssituatie, geslacht, leeftijd per regio Verhuisde personen; binnen gemeenten, tussen regio binnen kom regionaal Deze tabel kan geraadpleegd worden indien men informatie zoekt over het aantal verhuisde personen binnen gemeenten, tussen gemeenten en regio's.\",\n",
              "  'score': 23.203125,\n",
              "  'rank': 10,\n",
              "  'document_id': '60048ned',\n",
              "  'passage_id': 33}]"
            ]
          },
          "metadata": {},
          "execution_count": 207
        }
      ]
    },
    {
      "cell_type": "code",
      "source": [
        "def run_colbert_retrieval(queries: List[str]=colbert_queries, groundtruth: List[str]=colbert_table_ids_groundtruth,  colbert_all_results: List[List[Dict]]=None) -> List[Dict]:\n",
        "    \"\"\"\n",
        "    Converts ColBERT-style nested results into a flat format for evaluation.\n",
        "    Formats ColBERT rerank results into a flat list of dictionaries for evaluation.\n",
        "\n",
        "    Parameters:\n",
        "    ----------\n",
        "    queries : List[str]\n",
        "        A list of natural language queries.\n",
        "\n",
        "    groundtruth : List[str]\n",
        "        A list of ground-truth table IDs corresponding to each query.\n",
        "\n",
        "    colbert_all_results : List[List[Dict]]\n",
        "        A list of reranked results from ColBERT. Each element in the outer list\n",
        "        corresponds to a query. Each inner list contains dictionaries representing\n",
        "        retrieved documents. Each retrieved document dictionary must contain:\n",
        "            - 'document_id' (str): Identifier of the document (e.g., table ID).\n",
        "            - 'score' (float): Relevance score assigned by the ColBERT model.\n",
        "            - 'rank' (int): Rank position in the reranked list.\n",
        "            - 'content' (str): Textual content of the document.\n",
        "            - 'passage_id' (Optional[str/int]): ID of the passage (if available).\n",
        "\n",
        "    Returns:\n",
        "    -------\n",
        "    retrieval_results : List[Dict]\n",
        "        A list of dictionaries where each entry corresponds to one query and contains:\n",
        "            - 'query' (str): The original query text.\n",
        "            - 'true_table_id' (str): The ground truth table/document ID.\n",
        "            - 'top_table_ids' (List[str]): List of retrieved table/document IDs.\n",
        "            - 'top_scores' (List[float]): Corresponding ColBERT scores for each retrieved doc.\n",
        "    \"\"\"\n",
        "\n",
        "    if colbert_all_results is None:\n",
        "      raise ValueError(\"colbert_all_results must be provided (results from RAG.search)\")\n",
        "    retrieval_results = []\n",
        "\n",
        "    for i in range(len(queries)):\n",
        "        query_text = queries[i]\n",
        "        true_id = groundtruth[i]\n",
        "\n",
        "        top_docs = colbert_all_results[i]\n",
        "        top_table_ids = [doc['document_id'] for doc in top_docs]\n",
        "        top_scores = [doc['score'] for doc in top_docs]\n",
        "        rank = [doc['rank'] for doc in top_docs]\n",
        "\n",
        "        retrieval_results.append({\n",
        "            'query': query_text,\n",
        "            'true_table_id': true_id,\n",
        "            'top_table_ids': top_table_ids,\n",
        "            'top_scores': top_scores\n",
        "        })\n",
        "\n",
        "    return retrieval_results\n",
        "\n",
        "def evaluate_colbert_top_k(colbert_all_results, k_values: List[int] = [1, 3, 5, 10]) -> Tuple[Dict[int, Dict[str, float]], pd.DataFrame]:\n",
        "    \"\"\"\n",
        "    Main evaluation wrapper for colbert.\n",
        "    \"\"\"\n",
        "    colbert_retrieval_results = run_colbert_retrieval(colbert_all_results=colbert_all_results)\n",
        "    colbert_metrics_by_k = evaluate_top_k(colbert_retrieval_results, k_values)\n",
        "    colbert_results_df = pd.DataFrame(colbert_retrieval_results)\n",
        "\n",
        "    return colbert_metrics_by_k, colbert_results_df"
      ],
      "metadata": {
        "id": "dBBWqCO9ccOH"
      },
      "execution_count": 248,
      "outputs": []
    },
    {
      "cell_type": "code",
      "source": [
        "k_vals = [1, 2, 3, 5, 10]\n",
        "\n",
        "models = {\n",
        "    'colbert_original': colbert_original_results,\n",
        "    'colbert_CSummary': colbert_csummary_results,\n",
        "    'colbert_CSample': colbert_csample_results,\n",
        "    'colbert_Column': colbert_column_results,\n",
        "}\n",
        "\n",
        "\n",
        "colbert_results = {}\n",
        "\n",
        "for name, colbert_search_results in models.items():\n",
        "    print(f\"\\nEvaluating ColBERT model: {name}\")\n",
        "    start = time.time()\n",
        "    metrics, result_df = evaluate_colbert_top_k(colbert_all_results=colbert_search_results, k_values=k_vals)\n",
        "    end = time.time()\n",
        "    print(f\"Time taken: {end - start:.2f} seconds\")\n",
        "    print(\"Metrics:\", metrics)\n",
        "    colbert_results[name] = (metrics, result_df)\n",
        "# Prepare a list to accumulate rows\n",
        "colbert_rows = []\n",
        "\n",
        "for name, (metrics, _) in colbert_results.items():\n",
        "    for k, vals in metrics.items():\n",
        "        row = {'Model': name, 'k': k}\n",
        "        row.update(vals)  # assuming vals is a dict of metric_name: value\n",
        "        colbert_rows.append(row)\n",
        "\n",
        "# Convert to DataFrame\n",
        "colbert_results_df = pd.DataFrame(colbert_rows)\n",
        "# You can export with nice formatting (float precision, captions, etc.)\n",
        "colbert_latex_table = colbert_results_df.to_latex(index=False, float_format=\"%.3f\",\n",
        "                                  caption=\"ColBERT Evaluation Metrics across Models and Top-K values\",\n",
        "                                  label=\"tab:colbert_metrics\")\n",
        "\n",
        "# Save to a .tex file\n",
        "with open(f\"{folder}colbert_metrics_table.tex\", \"w\") as f:\n",
        "    f.write(colbert_latex_table)\n",
        "\n",
        "print(\"LaTeX table exported to colbert_metrics_table.tex\")\n"
      ],
      "metadata": {
        "colab": {
          "base_uri": "https://localhost:8080/",
          "height": 0
        },
        "id": "sbzD6J0aeATS",
        "outputId": "50b6b0ad-7846-4520-d7b1-b79dfa8def10"
      },
      "execution_count": 246,
      "outputs": [
        {
          "output_type": "stream",
          "name": "stdout",
          "text": [
            "\n",
            "Evaluating ColBERT model: colbert_original\n",
            "\n",
            "BM25 Top-1 Evaluation:\n",
            "Precision@1: 0.34\n",
            "Recall@1:    0.34\n",
            "F1 Score@1:  0.34\n",
            "\n",
            "BM25 Top-2 Evaluation:\n",
            "Precision@2: 0.21\n",
            "Recall@2:    0.42\n",
            "F1 Score@2:  0.28\n",
            "\n",
            "BM25 Top-3 Evaluation:\n",
            "Precision@3: 0.16\n",
            "Recall@3:    0.47\n",
            "F1 Score@3:  0.24\n",
            "\n",
            "BM25 Top-5 Evaluation:\n",
            "Precision@5: 0.11\n",
            "Recall@5:    0.53\n",
            "F1 Score@5:  0.18\n",
            "\n",
            "BM25 Top-10 Evaluation:\n",
            "Precision@10: 0.06\n",
            "Recall@10:    0.61\n",
            "F1 Score@10:  0.11\n",
            "Time taken: 0.36 seconds\n",
            "Metrics: {1: {'precision': 0.3368742230760538, 'recall': 0.3368742230760538, 'f1_score': 0.3368742230760538}, 2: {'precision': 0.20999547971522206, 'recall': 0.4199909594304441, 'f1_score': 0.27999397295362943}, 3: {'precision': 0.15698572343390965, 'recall': 0.470957170301729, 'f1_score': 0.2354785851508645}, 5: {'precision': 0.10644140580856594, 'recall': 0.5322070290428297, 'f1_score': 0.17740234301427654}, 10: {'precision': 0.06130636230082495, 'recall': 0.6130636230082496, 'f1_score': 0.11146611327422717}}\n",
            "\n",
            "Evaluating ColBERT model: colbert_CSummary\n",
            "\n",
            "BM25 Top-1 Evaluation:\n",
            "Precision@1: 0.34\n",
            "Recall@1:    0.34\n",
            "F1 Score@1:  0.34\n",
            "\n",
            "BM25 Top-2 Evaluation:\n",
            "Precision@2: 0.21\n",
            "Recall@2:    0.42\n",
            "F1 Score@2:  0.28\n",
            "\n",
            "BM25 Top-3 Evaluation:\n",
            "Precision@3: 0.16\n",
            "Recall@3:    0.47\n",
            "F1 Score@3:  0.23\n",
            "\n",
            "BM25 Top-5 Evaluation:\n",
            "Precision@5: 0.11\n",
            "Recall@5:    0.53\n",
            "F1 Score@5:  0.18\n",
            "\n",
            "BM25 Top-10 Evaluation:\n",
            "Precision@10: 0.06\n",
            "Recall@10:    0.60\n",
            "F1 Score@10:  0.11\n",
            "Time taken: 0.37 seconds\n",
            "Metrics: {1: {'precision': 0.3368742230760538, 'recall': 0.3368742230760538, 'f1_score': 0.3368742230760538}, 2: {'precision': 0.20982596903604928, 'recall': 0.41965193807209855, 'f1_score': 0.27976795871473237}, 3: {'precision': 0.1560628319584134, 'recall': 0.46818849587524014, 'f1_score': 0.23409424793762007}, 5: {'precision': 0.10515312464685274, 'recall': 0.5257656232342638, 'f1_score': 0.17525520774475456}, 10: {'precision': 0.06044185783704372, 'recall': 0.6044185783704373, 'f1_score': 0.10989428697644313}}\n",
            "\n",
            "Evaluating ColBERT model: colbert_CSample\n",
            "\n",
            "BM25 Top-1 Evaluation:\n",
            "Precision@1: 0.34\n",
            "Recall@1:    0.34\n",
            "F1 Score@1:  0.34\n",
            "\n",
            "BM25 Top-2 Evaluation:\n",
            "Precision@2: 0.21\n",
            "Recall@2:    0.42\n",
            "F1 Score@2:  0.28\n",
            "\n",
            "BM25 Top-3 Evaluation:\n",
            "Precision@3: 0.16\n",
            "Recall@3:    0.47\n",
            "F1 Score@3:  0.23\n",
            "\n",
            "BM25 Top-5 Evaluation:\n",
            "Precision@5: 0.11\n",
            "Recall@5:    0.53\n",
            "F1 Score@5:  0.18\n",
            "\n",
            "BM25 Top-10 Evaluation:\n",
            "Precision@10: 0.06\n",
            "Recall@10:    0.60\n",
            "F1 Score@10:  0.11\n",
            "Time taken: 0.27 seconds\n",
            "Metrics: {1: {'precision': 0.3382303085094361, 'recall': 0.3382303085094361, 'f1_score': 0.3382303085094361}, 2: {'precision': 0.21027799751384338, 'recall': 0.42055599502768676, 'f1_score': 0.28037066335179117}, 3: {'precision': 0.1560251629185972, 'recall': 0.46807548875579164, 'f1_score': 0.23403774437789582}, 5: {'precision': 0.10532263532602554, 'recall': 0.5266131766301277, 'f1_score': 0.17553772554337588}, 10: {'precision': 0.06024974573398124, 'recall': 0.6024974573398124, 'f1_score': 0.10954499224360224}}\n",
            "\n",
            "Evaluating ColBERT model: colbert_Column\n",
            "\n",
            "BM25 Top-1 Evaluation:\n",
            "Precision@1: 0.34\n",
            "Recall@1:    0.34\n",
            "F1 Score@1:  0.34\n",
            "\n",
            "BM25 Top-2 Evaluation:\n",
            "Precision@2: 0.21\n",
            "Recall@2:    0.42\n",
            "F1 Score@2:  0.28\n",
            "\n",
            "BM25 Top-3 Evaluation:\n",
            "Precision@3: 0.16\n",
            "Recall@3:    0.47\n",
            "F1 Score@3:  0.23\n",
            "\n",
            "BM25 Top-5 Evaluation:\n",
            "Precision@5: 0.11\n",
            "Recall@5:    0.53\n",
            "F1 Score@5:  0.18\n",
            "\n",
            "BM25 Top-10 Evaluation:\n",
            "Precision@10: 0.06\n",
            "Recall@10:    0.60\n",
            "F1 Score@10:  0.11\n",
            "Time taken: 0.23 seconds\n",
            "Metrics: {1: {'precision': 0.33681771951632955, 'recall': 0.33681771951632955, 'f1_score': 0.33681771951632955}, 2: {'precision': 0.2100519832749463, 'recall': 0.4201039665498926, 'f1_score': 0.28006931103326177}, 3: {'precision': 0.15578031415979204, 'recall': 0.4673409424793762, 'f1_score': 0.2336704712396881}, 5: {'precision': 0.10508532037518364, 'recall': 0.5254266018759182, 'f1_score': 0.17514220062530608}, 10: {'precision': 0.059899423663690804, 'recall': 0.5989942366369081, 'f1_score': 0.10890804302489236}}\n",
            "LaTeX table exported to colbert_metrics_table.tex\n"
          ]
        }
      ]
    },
    {
      "cell_type": "markdown",
      "metadata": {
        "id": "45Z1w0XcdvBe"
      },
      "source": [
        "## BM25 + ColBERT as reranker (if time and compute allows, WIP, too slow)\n",
        "https://ben.clavie.eu/ragatouille/api/#ragatouille.RAGPretrainedModel.RAGPretrainedModel.index\n",
        "For each query rerank the top 10 retrieved documents and then evaluate at different k's\n",
        "\n"
      ]
    },
    {
      "cell_type": "code",
      "source": [
        "# Create dictionaries mapping table_id -> tokenized_metadata\n",
        "dict_original = dict(zip(colbert_table_ids_original, colbert_docs_original))\n",
        "dict_CSummary = dict(zip(colbert_table_ids_CSummary_TSummary, colbert_docs_CSummary_TSummary))\n",
        "dict_CSample = dict(zip(colbert_table_ids_CSample_TSummary, colbert_docs_CSample_TSummary))\n",
        "dict_Column = dict(zip(colbert_table_ids_Column_TSummary, colbert_docs_Column_TSummary))"
      ],
      "metadata": {
        "id": "F_9sm3bRwg2b"
      },
      "execution_count": 252,
      "outputs": []
    },
    {
      "cell_type": "code",
      "source": [
        "def colbert_reranker(query: str, table_ids: List[str], docs_dict: dict, k: int = 10) -> List[Dict]:\n",
        "    \"\"\"\n",
        "    Reranks documents using ColBERT given a query and table_ids.\n",
        "\n",
        "    Args:\n",
        "        query (str): The input query.\n",
        "        table_ids (List[str]): List of table IDs retrieved by BM25.\n",
        "        docs_dict (dict): Mapping from table_id to tokenized_metadata or raw metadata.\n",
        "        k (int): Number of top results to return.\n",
        "\n",
        "    Returns:\n",
        "        List[Dict]: A list of reranked results, each containing content, score, rank, and table_id.\n",
        "    \"\"\"\n",
        "    # Get metadata text for the table_ids\n",
        "    docs = [docs_dict[tid] for tid in table_ids if tid in docs_dict]\n",
        "\n",
        "    # Rerank using ColBERT\n",
        "    rerank_results = RAG.rerank(query, docs, k=k)\n",
        "\n",
        "    # Attach table IDs back to results\n",
        "    reranked_with_ids = []\n",
        "    for i, result in enumerate(rerank_results):\n",
        "        result['table_id'] = table_ids[i] if i < len(table_ids) else None\n",
        "        reranked_with_ids.append(result)\n",
        "\n",
        "    return reranked_with_ids\n",
        "\n",
        "\n",
        "def run_bm25_with_colbert_rerank(query_df: pd.DataFrame, bm25, table_ids: List[str], docs_dict: dict,\n",
        "                                 tokenize_func, k: int = 10) -> List[Dict]:\n",
        "    \"\"\"\n",
        "    Runs BM25 retrieval followed by ColBERT reranking.\n",
        "\n",
        "    Args:\n",
        "        query_df (pd.DataFrame): DataFrame with columns ['Query', 'table_id'].\n",
        "        bm25: Trained BM25 model.\n",
        "        table_ids (List[str]): List of all table IDs.\n",
        "        docs_dict (dict): Mapping from table_id to metadata.\n",
        "        tokenize_func: Tokenization function for BM25.\n",
        "        k (int): Number of top documents to rerank and keep.\n",
        "\n",
        "    Returns:\n",
        "        List[Dict]: Final retrieval results per query after reranking.\n",
        "    \"\"\"\n",
        "    reranked_results = []\n",
        "\n",
        "    for _, row in query_df.iterrows():\n",
        "        query_text = row['Query']\n",
        "        true_id = str(row['table_id'])\n",
        "\n",
        "        # Run BM25\n",
        "        query_tokens = tokenize_func(query_text)\n",
        "        scores = bm25.get_scores(query_tokens)\n",
        "        top_indices = np.argsort(scores)[::-1]  # Sort descending\n",
        "        top_table_ids = [table_ids[i] for i in top_indices]\n",
        "\n",
        "        # Run ColBERT reranker\n",
        "        reranked = colbert_reranker(query_text, top_table_ids, docs_dict, k=k)\n",
        "\n",
        "        reranked_results.append({\n",
        "            'query': query_text,\n",
        "            'true_table_id': true_id,\n",
        "            'top_table_ids': [r['table_id'] for r in reranked],\n",
        "            'top_scores': [r['score'] for r in reranked],\n",
        "            'ranked_docs': reranked\n",
        "        })\n",
        "\n",
        "    return reranked_results"
      ],
      "metadata": {
        "id": "nWjpp5RXUM5W"
      },
      "execution_count": null,
      "outputs": []
    },
    {
      "cell_type": "code",
      "source": [
        "def evaluate_bm25_reranked_top_k(query_df: pd.DataFrame, bm25, table_ids: List[str], k_values: List[int] = [1, 3, 5, 10],\n",
        "                        tokenize_func=tokenize_text) -> Tuple[Dict[int, Dict[str, float]], pd.DataFrame]:\n",
        "    \"\"\"\n",
        "    Main evaluation wrapper.\n",
        "    \"\"\"\n",
        "    retrieval_results = run_bm25_with_colbert_rerank(query_df, bm25, table_ids, tokenize_func)\n",
        "    metrics_by_k = evaluate_top_k(retrieval_results, k_values)\n",
        "    results_df = pd.DataFrame(retrieval_results)\n",
        "\n",
        "    return metrics_by_k, results_df"
      ],
      "metadata": {
        "id": "vBtGgb5BtuUz"
      },
      "execution_count": null,
      "outputs": []
    },
    {
      "cell_type": "code",
      "source": [
        "def evaluate_bm25_rerank_pipeline(\n",
        "    query_df: pd.DataFrame,\n",
        "    bm25,\n",
        "    table_ids: List[str],\n",
        "    docs_dict: Dict[str, str],\n",
        "    tokenize_func,\n",
        "    k_values: List[int] = [1, 3, 5, 10],\n",
        "    rerank_k: int = 10,\n",
        ") -> Tuple[Dict[int, Dict[str, float]], pd.DataFrame]:\n",
        "    \"\"\"\n",
        "    Runs BM25 followed by ColBERT reranking, then evaluates precision/recall/F1 at top-k. Note we only rerank top 10\n",
        "    \"\"\"\n",
        "\n",
        "    retrieval_results = []\n",
        "\n",
        "    for _, row in query_df.iterrows():\n",
        "        query_text = row['Query']\n",
        "        query_tokens = tokenize_func(query_text)\n",
        "        true_id = str(row['table_id'])\n",
        "\n",
        "        # Step 1: BM25 retrieval\n",
        "        bm25_scores = bm25.get_scores(query_tokens)\n",
        "        top_indices = np.argsort(bm25_scores)[::-1] # Sort Descending\n",
        "        candidate_table_ids = [table_ids[i] for i in top_indices]\n",
        "        candidate_docs = [docs_dict[tid] for tid in candidate_table_ids]\n",
        "\n",
        "        # Step 2: ColBERT reranking\n",
        "        reranked = RAG.rerank(query_text, candidate_docs, k=rerank_k)\n",
        "\n",
        "        # Step 3: Map back to table IDs using rerank['content']\n",
        "        reranked_table_ids = []\n",
        "        for item in reranked:\n",
        "            # Reverse map: find which table_id has this tokenized content\n",
        "            for tid in candidate_table_ids:\n",
        "                if docs_dict[tid] == item['content']:\n",
        "                    reranked_table_ids.append(tid)\n",
        "                    break\n",
        "\n",
        "        retrieval_results.append({\n",
        "            'query': query_text,\n",
        "            'true_table_id': true_id,\n",
        "            'top_table_ids': reranked_table_ids,\n",
        "            'top_scores': [item['score'] for item in reranked],\n",
        "        })\n",
        "\n",
        "    # Step 4: Evaluate\n",
        "    metrics_by_k = evaluate_top_k(retrieval_results, k_values)\n",
        "    results_df = pd.DataFrame(retrieval_results)\n",
        "\n",
        "    return metrics_by_k, results_df\n"
      ],
      "metadata": {
        "id": "MBFDHl99sT1P"
      },
      "execution_count": 257,
      "outputs": []
    },
    {
      "cell_type": "code",
      "source": [
        "k_vals = [1, 2, 3, 5, 10]\n",
        "\n",
        "rerank_models = {\n",
        "    'rerank_original': (bm25_original, table_ids_original, dict_original),\n",
        "    'rerank_CSummary': (bm25_CSummary, table_ids_CSummary, dict_CSummary),\n",
        "    'rerank_CSample': (bm25_CSample, table_ids_CSample, dict_CSample),\n",
        "    'rerank_Column': (bm25_Column, table_ids_Column, dict_Column),\n",
        "}\n",
        "\n",
        "rerank_results = {}\n",
        "\n",
        "for name, (bm25_model, table_ids, doc_dict) in rerank_models.items():\n",
        "    print(f\"\\nEvaluating BM25 model: {name}\")\n",
        "    start = time.time()\n",
        "    rerank_metrics, rerank_result_df = evaluate_bm25_rerank_pipeline(query_df=df_qa, bm25=bm25_model, table_ids=table_ids, docs_dict=doc_dict, tokenize_func=tokenize_text, rerank_k=10)\n",
        "    end = time.time()\n",
        "    print(f\"Time taken: {end - start:.2f} seconds\")\n",
        "    print(\"Metrics:\", rerank_metrics)\n",
        "    rerank_results[name] = (rerank_metrics, rerank_result_df)\n",
        "# Prepare a list to accumulate rows\n",
        "rerank_rows = []\n",
        "\n",
        "for name, (metrics, _) in rerank_results.items():\n",
        "    for k, vals in rerank_metrics.items():\n",
        "        row = {'Model': name, 'k': k}\n",
        "        row.update(vals)  # assuming vals is a dict of metric_name: value\n",
        "        rerank_rows.append(row)\n",
        "\n",
        "# Convert to DataFrame\n",
        "rerank_results_df = pd.DataFrame(rows)\n",
        "# You can export with nice formatting (float precision, captions, etc.)\n",
        "rerank_latex_table = results_df.to_latex(index=False, float_format=\"%.3f\",\n",
        "                                  caption=\"Rerank Evaluation Metrics across Models and Top-K values\",\n",
        "                                  label=\"tab:rerank_metrics\")\n",
        "\n",
        "# Save to a .tex file\n",
        "with open(f\"{folder}rerank_metrics_table.tex\", \"w\") as f:\n",
        "    f.write(rerank_latex_table)\n",
        "\n",
        "print(\"LaTeX table exported to rerank_metrics_table.tex\")\n"
      ],
      "metadata": {
        "colab": {
          "base_uri": "https://localhost:8080/",
          "height": 0
        },
        "id": "3eFcOnujsWsI",
        "outputId": "2a327d0b-bfe2-4a47-c305-530896176b30"
      },
      "execution_count": null,
      "outputs": [
        {
          "output_type": "stream",
          "name": "stdout",
          "text": [
            "\n",
            "Evaluating BM25 model: rerank_original\n"
          ]
        },
        {
          "output_type": "stream",
          "name": "stderr",
          "text": [
            "/usr/local/lib/python3.11/dist-packages/colbert/utils/amp.py:15: FutureWarning: `torch.cuda.amp.autocast(args...)` is deprecated. Please use `torch.amp.autocast('cuda', args...)` instead.\n",
            "  return torch.cuda.amp.autocast() if self.activated else NullContextManager()\n",
            "/usr/local/lib/python3.11/dist-packages/torch/amp/autocast_mode.py:266: UserWarning: User provided device_type of 'cuda', but CUDA is not available. Disabling\n",
            "  warnings.warn(\n",
            "100%|██████████| 16/16 [16:59<00:00, 63.71s/it]\n",
            "100%|██████████| 16/16 [17:49<00:00, 66.86s/it]\n",
            "100%|██████████| 16/16 [16:59<00:00, 63.72s/it]\n",
            "100%|██████████| 16/16 [17:00<00:00, 63.80s/it]\n",
            "100%|██████████| 16/16 [17:06<00:00, 64.16s/it]\n",
            "100%|██████████| 16/16 [17:08<00:00, 64.27s/it]\n",
            "100%|██████████| 16/16 [16:57<00:00, 63.62s/it]\n",
            "100%|██████████| 16/16 [16:59<00:00, 63.73s/it]\n",
            " 31%|███▏      | 5/16 [05:28<12:02, 65.68s/it]"
          ]
        }
      ]
    },
    {
      "cell_type": "code",
      "source": [],
      "metadata": {
        "id": "o_eO3Eyzvdz_"
      },
      "execution_count": null,
      "outputs": []
    }
  ],
  "metadata": {
    "accelerator": "GPU",
    "colab": {
      "gpuType": "T4",
      "toc_visible": true,
      "provenance": []
    },
    "kernelspec": {
      "display_name": "Python 3",
      "name": "python3"
    },
    "language_info": {
      "codemirror_mode": {
        "name": "ipython",
        "version": 3
      },
      "file_extension": ".py",
      "mimetype": "text/x-python",
      "name": "python",
      "nbconvert_exporter": "python",
      "pygments_lexer": "ipython3",
      "version": "3.10.4"
    }
  },
  "nbformat": 4,
  "nbformat_minor": 0
}